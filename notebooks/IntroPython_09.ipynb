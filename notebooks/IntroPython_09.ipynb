{
  "cells": [
    {
      "cell_type": "markdown",
      "metadata": {
        "id": "kt1CqzCw2Ifa"
      },
      "source": [
        "# Python básico: listas, tuplas, diccionarios y conjuntos"
      ]
    },
    {
      "cell_type": "markdown",
      "metadata": {
        "id": "VIPz8kymAS5G"
      },
      "source": [
        "## [Listas]\n",
        "Una lista es un arreglo ordenado de elementos. Se define por valores separados por coma y encerrados por dos corchetes (`[]`)"
      ]
    },
    {
      "cell_type": "code",
      "execution_count": 1,
      "metadata": {
        "colab": {
          "base_uri": "https://localhost:8080/"
        },
        "id": "JFzuZO1E1RBC",
        "outputId": "c3886ac0-c85f-4131-d907-43c61911339d"
      },
      "outputs": [
        {
          "data": {
            "text/plain": [
              "list"
            ]
          },
          "execution_count": 1,
          "metadata": {},
          "output_type": "execute_result"
        }
      ],
      "source": [
        "materias = [\"CALCULO\", \"FINANZAS\", \"OPTIMIZACION\", \"GEOMETRIA\", \"PROGRAMACION\", \"ESTADISTICA\"]\n",
        "type(materias)"
      ]
    },
    {
      "cell_type": "code",
      "execution_count": 4,
      "metadata": {
        "colab": {
          "base_uri": "https://localhost:8080/"
        },
        "id": "mV38X66ysrL0",
        "outputId": "4d61ca6b-7e6a-463f-906c-95b2646476d1"
      },
      "outputs": [
        {
          "name": "stdout",
          "output_type": "stream",
          "text": [
            "['CALCULO', 'FINANZAS', 'OPTIMIZACION', 'GEOMETRIA', 'PROGRAMACION', 'ESTADISTICA']\n"
          ]
        }
      ],
      "source": [
        "print(materias)"
      ]
    },
    {
      "cell_type": "markdown",
      "metadata": {
        "id": "w-DbELI92bJL"
      },
      "source": [
        "### Subconjuntos:\n",
        "En una lista, al igual que con string (una sequencia ordenada de carácteres), accedemos a los valores de una lista usando la misma notación de corchetes."
      ]
    },
    {
      "cell_type": "code",
      "execution_count": 5,
      "metadata": {
        "colab": {
          "base_uri": "https://localhost:8080/"
        },
        "id": "WWEIzxvD2fTn",
        "outputId": "72fb963d-8982-4c4d-cd1b-b7278f6cceb0"
      },
      "outputs": [
        {
          "name": "stdout",
          "output_type": "stream",
          "text": [
            "PROGRAMACION\n",
            "['CALCULO', 'FINANZAS', 'OPTIMIZACION']\n",
            "['GEOMETRIA', 'PROGRAMACION', 'ESTADISTICA']\n",
            "['GEOMETRIA', 'PROGRAMACION']\n",
            "['CALCULO', 'FINANZAS', 'OPTIMIZACION', 'GEOMETRIA', 'PROGRAMACION', 'ESTADISTICA']\n"
          ]
        }
      ],
      "source": [
        "print(materias[4])\n",
        "print(materias[:3])\n",
        "print(materias[3:])\n",
        "print(materias[3:5])\n",
        "print(materias[:])"
      ]
    },
    {
      "cell_type": "markdown",
      "metadata": {
        "id": "UzzbLXb26pEC"
      },
      "source": [
        "**Número de elementos**  \n",
        "Por medio de la función `len` podemos conocer el número de elementos dentro de una lista."
      ]
    },
    {
      "cell_type": "code",
      "execution_count": 6,
      "metadata": {
        "colab": {
          "base_uri": "https://localhost:8080/"
        },
        "id": "PAPRUlO46qCf",
        "outputId": "f848cff8-d055-4aeb-cb43-74a92e710d0b"
      },
      "outputs": [
        {
          "data": {
            "text/plain": [
              "6"
            ]
          },
          "execution_count": 6,
          "metadata": {},
          "output_type": "execute_result"
        }
      ],
      "source": [
        "len(materias)"
      ]
    },
    {
      "cell_type": "markdown",
      "metadata": {
        "id": "ePts57D06s5n"
      },
      "source": [
        "**Suma de elementos**  \n",
        "Otra de las funciones incluidas en Python es `sum`, sobre la cuál podemos sumar todos los elementos de la lista"
      ]
    },
    {
      "cell_type": "code",
      "execution_count": 7,
      "metadata": {
        "colab": {
          "base_uri": "https://localhost:8080/"
        },
        "id": "K6WWMwoK6yTR",
        "outputId": "6ba87530-d707-4c6b-a49f-7b76fa1b7348"
      },
      "outputs": [
        {
          "name": "stdout",
          "output_type": "stream",
          "text": [
            "36\n"
          ]
        }
      ],
      "source": [
        "numeros = [5,3,2,7,8,11]\n",
        "resultado = sum(numeros)\n",
        "print(resultado)"
      ]
    },
    {
      "cell_type": "markdown",
      "metadata": {
        "id": "5gPLUUPW9f7p"
      },
      "source": [
        "**Ordenar elementos**  \n",
        "Una más de las funciones incluidas en Python es `sorted`, sobre la cuál podemos ordenar todos los elementos de la lista"
      ]
    },
    {
      "cell_type": "code",
      "execution_count": null,
      "metadata": {
        "colab": {
          "base_uri": "https://localhost:8080/"
        },
        "id": "J3ViIu0p9yCw",
        "outputId": "a38a4461-2aac-4437-8adf-aca0e1e44ab5"
      },
      "outputs": [
        {
          "name": "stdout",
          "output_type": "stream",
          "text": [
            "la lista [5, 3, 2, 7, 8, 11] queda ordenada de la siguiente manera [2, 3, 5, 7, 8, 11]\n"
          ]
        }
      ],
      "source": [
        "numeros = [5,3,2,7,8,11]\n",
        "print(f\"la lista {numeros} queda ordenada de la siguiente manera {sorted(numeros)}\")"
      ]
    },
    {
      "cell_type": "markdown",
      "metadata": {
        "id": "V_e_UGf4_qQn"
      },
      "source": [
        "## Índices\n",
        "A diferencia de un `str`, un `list` nos permite obtener, asignar, reemplazar y eliminar valores dentro de una lista."
      ]
    },
    {
      "cell_type": "code",
      "execution_count": 8,
      "metadata": {
        "colab": {
          "base_uri": "https://localhost:8080/"
        },
        "id": "ZltYNmkk_rKo",
        "outputId": "ef979bc9-50fd-46e1-82ca-bcd0a8aafbe1"
      },
      "outputs": [
        {
          "name": "stdout",
          "output_type": "stream",
          "text": [
            "5\n",
            "10\n"
          ]
        }
      ],
      "source": [
        "numeros = [5,3,2,7,8,11]\n",
        "#Imprime el primer elemento de la lista\n",
        "print(numeros[0])\n",
        "#Asigna un nuevo valor al primer elemento de la lista\n",
        "numeros[0] = 10\n",
        "print(numeros[0])\n"
      ]
    },
    {
      "cell_type": "code",
      "execution_count": null,
      "metadata": {
        "colab": {
          "base_uri": "https://localhost:8080/"
        },
        "id": "96_66SKpAP37",
        "outputId": "3fcce9e0-b4b8-456f-cab6-f2073094ce4a"
      },
      "outputs": [
        {
          "name": "stdout",
          "output_type": "stream",
          "text": [
            "[5, 3, 2, 7, 8, 11]\n",
            "[5, 7, 8, 11]\n"
          ]
        }
      ],
      "source": [
        "numeros = [5,3,2,7,8,11]\n",
        "# Eliminamos del segundo al tercer elemento\n",
        "print(numeros)\n",
        "numeros[1:3] = []\n",
        "print(numeros)"
      ]
    },
    {
      "cell_type": "markdown",
      "metadata": {
        "id": "bFK4xw-qAiu_"
      },
      "source": [
        "### Estructura:\n",
        "Las listas pueden agrupar cualquier tipo de objeto"
      ]
    },
    {
      "cell_type": "code",
      "execution_count": 9,
      "metadata": {
        "colab": {
          "base_uri": "https://localhost:8080/"
        },
        "id": "ad9FIGJlAmpQ",
        "outputId": "69e5308a-71d3-472b-c5c2-ee877550b5d4"
      },
      "outputs": [
        {
          "data": {
            "text/plain": [
              "['e', 3.14159, ['alpha', 'beta', 'gamma'], True]"
            ]
          },
          "execution_count": 9,
          "metadata": {},
          "output_type": "execute_result"
        }
      ],
      "source": [
        "pi = 3.14159\n",
        "[\"e\", pi, [\"alpha\", \"beta\", \"gamma\"], True]"
      ]
    },
    {
      "cell_type": "markdown",
      "metadata": {
        "id": "B8MOMlwOA4iO"
      },
      "source": [
        "### Concatenar dos listas"
      ]
    },
    {
      "cell_type": "code",
      "execution_count": 16,
      "metadata": {
        "colab": {
          "base_uri": "https://localhost:8080/"
        },
        "id": "Hz_YPmfRA-Ls",
        "outputId": "48dbfd1c-fcf8-4534-c4de-50df8c826dc5"
      },
      "outputs": [
        {
          "name": "stdout",
          "output_type": "stream",
          "text": [
            "['Gauss', 'Fermat', 'Spivak ', 'Oksendal', 'Newton', 'Einstein', 'Maxwell']\n"
          ]
        }
      ],
      "source": [
        "matematicos = [\"Gauss\", \"Fermat\", \"Spivak \", \"Oksendal\"]\n",
        "fisicos = [\"Newton\", \"Einstein\", \"Maxwell\"]\n",
        "\n",
        "cientificos = matematicos + fisicos\n",
        "print(cientificos)"
      ]
    },
    {
      "cell_type": "markdown",
      "metadata": {
        "id": "helVT_4qBOiU"
      },
      "source": [
        "### Copiar una lista\n",
        "Cada elemento en python lo identifica un único `id`."
      ]
    },
    {
      "cell_type": "code",
      "execution_count": 17,
      "metadata": {
        "colab": {
          "base_uri": "https://localhost:8080/"
        },
        "id": "oca3jEIrBmMv",
        "outputId": "0c18b9b8-5a4c-41d8-c6e8-595cc4a81204"
      },
      "outputs": [
        {
          "data": {
            "text/plain": [
              "132042671381760"
            ]
          },
          "execution_count": 17,
          "metadata": {},
          "output_type": "execute_result"
        }
      ],
      "source": [
        "id(cientificos)"
      ]
    },
    {
      "cell_type": "markdown",
      "metadata": {
        "id": "ivxhiDIY6mX8"
      },
      "source": [
        "Al asignar una variable a una lista existente \"apunta\" al mismo `id`"
      ]
    },
    {
      "cell_type": "code",
      "execution_count": 18,
      "metadata": {
        "colab": {
          "base_uri": "https://localhost:8080/"
        },
        "id": "poDfJ2AiBvzQ",
        "outputId": "34fe602a-1f53-4c3a-9076-2c01ceccb9ce"
      },
      "outputs": [
        {
          "name": "stdout",
          "output_type": "stream",
          "text": [
            "132042671381760 132042671381760\n"
          ]
        }
      ],
      "source": [
        "cientificos2 = cientificos\n",
        "print(id(cientificos),id(cientificos2))"
      ]
    },
    {
      "cell_type": "markdown",
      "metadata": {
        "id": "vDYQ9Std637M"
      },
      "source": [
        "Cualquier modificación a `cientificos2` afectará a `cientificos`"
      ]
    },
    {
      "cell_type": "code",
      "execution_count": 19,
      "metadata": {
        "colab": {
          "base_uri": "https://localhost:8080/"
        },
        "id": "bpE5XYqcCO0F",
        "outputId": "833dc0b9-dda3-44f1-8561-137467d5e8b0"
      },
      "outputs": [
        {
          "name": "stdout",
          "output_type": "stream",
          "text": [
            "['Gauss', 'Fermat', 'Spivak ', 'Oksendal', 'Newton', 'Einstein', 'Maxwell']\n",
            "['Fleming', 'Fermat', 'Spivak ', 'Oksendal', 'Newton', 'Einstein', 'Maxwell']\n",
            "['Fleming', 'Fermat', 'Spivak ', 'Oksendal', 'Newton', 'Einstein', 'Maxwell']\n"
          ]
        }
      ],
      "source": [
        "print(cientificos)\n",
        "#Modificamos cientificos2\n",
        "cientificos2[0] = \"Fleming\"\n",
        "#Imprimimos cientificos\n",
        "print(cientificos)\n",
        "print(cientificos2)"
      ]
    },
    {
      "cell_type": "markdown",
      "metadata": {
        "id": "1gdp2UkBCuBJ"
      },
      "source": [
        "Para obtener una copia de la lista, usar [:]"
      ]
    },
    {
      "cell_type": "code",
      "execution_count": 20,
      "metadata": {
        "colab": {
          "base_uri": "https://localhost:8080/"
        },
        "id": "ayZdu-RsCzh9",
        "outputId": "04ddb6f6-da85-4a93-9a39-88420d1d4663"
      },
      "outputs": [
        {
          "name": "stdout",
          "output_type": "stream",
          "text": [
            "132042671381760\n",
            "132042663820416\n",
            "132042663878080\n"
          ]
        }
      ],
      "source": [
        "cientificos3 = cientificos[:]\n",
        "cientificos4 = cientificos.copy()\n",
        "print(id(cientificos))\n",
        "print(id(cientificos3))\n",
        "print(id(cientificos4))"
      ]
    },
    {
      "cell_type": "code",
      "execution_count": 21,
      "metadata": {
        "colab": {
          "base_uri": "https://localhost:8080/"
        },
        "id": "zG_dQ7hUDMb9",
        "outputId": "9a46128b-2ce7-4046-9398-1e627e255be2"
      },
      "outputs": [
        {
          "name": "stdout",
          "output_type": "stream",
          "text": [
            "lista 'rates3':\n",
            "['Leibniz', 'Fermat', 'Spivak ', 'Oksendal', 'Newton', 'Einstein', 'Maxwell']\n",
            "\n",
            "lista 'rates':\n",
            "['Fleming', 'Fermat', 'Spivak ', 'Oksendal', 'Newton', 'Einstein', 'Maxwell']\n"
          ]
        }
      ],
      "source": [
        "cientificos3[0] = \"Leibniz\"\n",
        "print(\"lista 'rates3':\", cientificos3, \"\", sep=\"\\n\")\n",
        "print(\"lista 'rates':\", cientificos, sep=\"\\n\")"
      ]
    },
    {
      "cell_type": "markdown",
      "metadata": {
        "id": "e-Mx6qpYDx51"
      },
      "source": [
        "### Métodos de una `lista`\n",
        "Al igual que los strings, las listas contienen métodos (funciones definidas para una sola clase)"
      ]
    },
    {
      "cell_type": "code",
      "execution_count": 22,
      "metadata": {
        "colab": {
          "base_uri": "https://localhost:8080/"
        },
        "id": "dsUJsscmD3EO",
        "outputId": "8a45e3a2-34c2-4d53-a68d-9cec25f79ff0"
      },
      "outputs": [
        {
          "name": "stdout",
          "output_type": "stream",
          "text": [
            "['ALGEBRA', 'GEOMETRIA', 'PROGRAMACION', 'ESTADISTICA']\n",
            "['ESTADISTICA', 'PROGRAMACION', 'GEOMETRIA', 'ALGEBRA']\n"
          ]
        }
      ],
      "source": [
        "materias = ['ALGEBRA', 'GEOMETRIA', 'PROGRAMACION', 'ESTADISTICA']\n",
        "print(materias)\n",
        "#invertimos la lista\n",
        "materias.reverse()\n",
        "print(materias)"
      ]
    },
    {
      "cell_type": "markdown",
      "metadata": {
        "id": "P4_TzPlbETdO"
      },
      "source": [
        "Agregando elementos a una lista"
      ]
    },
    {
      "cell_type": "code",
      "execution_count": 23,
      "metadata": {
        "colab": {
          "base_uri": "https://localhost:8080/"
        },
        "id": "owRx_RAnEYvT",
        "outputId": "29ccd76d-e4c8-48c3-9520-d01e9d2acb27"
      },
      "outputs": [
        {
          "name": "stdout",
          "output_type": "stream",
          "text": [
            "['ESTADISTICA', 'PROGRAMACION', 'GEOMETRIA', 'ALGEBRA', 'FINANZAS']\n"
          ]
        }
      ],
      "source": [
        "materias.append(\"FINANZAS\")\n",
        "print(materias)"
      ]
    },
    {
      "cell_type": "code",
      "execution_count": 24,
      "metadata": {
        "colab": {
          "base_uri": "https://localhost:8080/"
        },
        "id": "tHp_PnW5EpjL",
        "outputId": "6e05e037-e5b3-4f2c-a008-4b9cae4d25a0"
      },
      "outputs": [
        {
          "name": "stdout",
          "output_type": "stream",
          "text": [
            "['ESTADISTICA', 'ALGEBRA SUPERIOR', 'PROGRAMACION', 'GEOMETRIA', 'ALGEBRA', 'FINANZAS']\n"
          ]
        }
      ],
      "source": [
        "# Insertar 'álgebra superior' en la segunda posición\n",
        "materias.insert(1, \"ALGEBRA SUPERIOR\")\n",
        "print(materias)"
      ]
    },
    {
      "cell_type": "code",
      "execution_count": 27,
      "metadata": {
        "colab": {
          "base_uri": "https://localhost:8080/"
        },
        "id": "VwwLBP4OExmn",
        "outputId": "cae2848d-be4d-4325-be5c-f3c28c6921fb"
      },
      "outputs": [
        {
          "data": {
            "text/plain": [
              "3"
            ]
          },
          "execution_count": 27,
          "metadata": {},
          "output_type": "execute_result"
        }
      ],
      "source": [
        "#Obtener el índice de un elemento\n",
        "materias.index(\"GEOMETRIA\")"
      ]
    },
    {
      "cell_type": "markdown",
      "metadata": {
        "id": "pwOrB_RVFDFk"
      },
      "source": [
        "Algunos métodos modifican la lista original"
      ]
    },
    {
      "cell_type": "code",
      "execution_count": 28,
      "metadata": {
        "colab": {
          "base_uri": "https://localhost:8080/"
        },
        "id": "IBg3RwSoFGK5",
        "outputId": "582541f5-268c-4116-8fb3-337b26753c6a"
      },
      "outputs": [
        {
          "name": "stdout",
          "output_type": "stream",
          "text": [
            "['ALGEBRA', 'ALGEBRA SUPERIOR', 'ESTADISTICA', 'FINANZAS', 'GEOMETRIA', 'PROGRAMACION']\n"
          ]
        }
      ],
      "source": [
        "#Ordena los elementos\n",
        "materias.sort()\n",
        "print(materias)"
      ]
    },
    {
      "cell_type": "code",
      "execution_count": 29,
      "metadata": {
        "colab": {
          "base_uri": "https://localhost:8080/"
        },
        "id": "ZNJMu-uGFOWn",
        "outputId": "445616f0-961a-4464-9a88-6ad873a0287f"
      },
      "outputs": [
        {
          "name": "stdout",
          "output_type": "stream",
          "text": [
            "['ALGEBRA', 'ALGEBRA SUPERIOR', 'ESTADISTICA', 'FINANZAS', 'GEOMETRIA']\n",
            "PROGRAMACION\n"
          ]
        }
      ],
      "source": [
        "# list.pop: Obten último elemento y elimínalo de la lista\n",
        "extraccion = materias.pop()\n",
        "print(materias)\n",
        "print(extraccion)"
      ]
    },
    {
      "cell_type": "markdown",
      "metadata": {
        "id": "HMytMqcWFYWi"
      },
      "source": [
        "### Cadenas (*strings*) `str` y Listas `list`\n",
        "Los strings contienen métodos cuyos resultados o argumentos contienen listas"
      ]
    },
    {
      "cell_type": "markdown",
      "metadata": {
        "id": "IhupCqDKFzOp"
      },
      "source": [
        "### *Split*: de str a list"
      ]
    },
    {
      "cell_type": "code",
      "execution_count": 33,
      "metadata": {
        "colab": {
          "base_uri": "https://localhost:8080/"
        },
        "id": "BKHyBmpCFjcO",
        "outputId": "673dfc9c-c0b9-4fab-dff3-d8fdd1e1e908"
      },
      "outputs": [
        {
          "name": "stdout",
          "output_type": "stream",
          "text": [
            "['Este', 'es', 'un', 'string']\n",
            "este\n",
            "es\n",
            "un\n",
            "string\n"
          ]
        }
      ],
      "source": [
        "# *Split*: de str a list\n",
        "\n",
        "lista = \"Este es un string\".split()\n",
        "print(lista)\n",
        "for palabra in lista:\n",
        "  print(palabra.lower())"
      ]
    },
    {
      "cell_type": "markdown",
      "metadata": {
        "id": "CFbIMxYdF5PD"
      },
      "source": [
        "### *join* de list a str"
      ]
    },
    {
      "cell_type": "code",
      "execution_count": 36,
      "metadata": {
        "colab": {
          "base_uri": "https://localhost:8080/",
          "height": 35
        },
        "id": "9bDKvGdVFxkV",
        "outputId": "edb46a67-b203-4860-ae22-a5644ab07193"
      },
      "outputs": [
        {
          "data": {
            "application/vnd.google.colaboratory.intrinsic+json": {
              "type": "string"
            },
            "text/plain": [
              "'Esta_es_una_lista'"
            ]
          },
          "execution_count": 36,
          "metadata": {},
          "output_type": "execute_result"
        }
      ],
      "source": [
        "# *join* de list a str\n",
        "\"_\".join([\"Esta\", \"es\", \"una\", \"lista\"])"
      ]
    },
    {
      "cell_type": "markdown",
      "metadata": {
        "id": "_mA-QhojGU3g"
      },
      "source": [
        "<h2 style=\"color:#B22222\"> Ejercicios </h2>\n",
        "\n",
        "1. Considera la lista `numeros0` y cálcula el valor promedio\n",
        "```python\n",
        "numeros0 = [1, 1, 2, 3, 5, 8, 13]\n",
        "```\n",
        "2. Considera la lista `numeros1` y cálcula la suma del primer, último y el número en medio de la lista (**nota:** El número de elementos en la lista es impar)\n",
        "```python\n",
        "numeros1 = [0, 7, 20, 11, 1, 17, 4, 13, 9, 0, 12, 18, 5, 10, 8, 0, 10, 6, 19, 19, 10, 9, 4, 4, 18, 18, 0]\n",
        "```\n",
        "3. Crea un programa que le pida al usuario una serie de números separados por un espacio `\" \"` y regrese la suma de todos los valores.\n",
        "4. Considerando `list1`, reemplaza cada elemento `\"a\"` por `\"*\"`.\n",
        "```python\n",
        "list1 = [\"a\", \"b\", \"a\", \"d\", \"a\", \"a\", \"c\"]\n",
        "```"
      ]
    },
    {
      "cell_type": "code",
      "execution_count": 40,
      "metadata": {
        "colab": {
          "base_uri": "https://localhost:8080/"
        },
        "id": "2l41ZtU58qyc",
        "outputId": "9c87ca0d-52f7-45d8-bd23-aca5661e732c"
      },
      "outputs": [
        {
          "name": "stdout",
          "output_type": "stream",
          "text": [
            "La suma de la lista [1, 1, 2, 3, 5, 8, 13] es 33\n",
            "El promedio de la lista [1, 1, 2, 3, 5, 8, 13] es 4.71\n"
          ]
        }
      ],
      "source": [
        "#Solución Ej 1\n",
        "numeros0 = [1, 1, 2, 3, 5, 8, 13]\n",
        "suma = sum(numeros0)\n",
        "tamanio = len(numeros0)\n",
        "promedio = suma/tamanio\n",
        "print(f\"La suma de la lista {numeros0} es {suma}\")\n",
        "print(f\"El promedio de la lista {numeros0} es {round(promedio,2)}\")"
      ]
    },
    {
      "cell_type": "code",
      "execution_count": 41,
      "metadata": {
        "colab": {
          "base_uri": "https://localhost:8080/"
        },
        "id": "faR8H8Js91-b",
        "outputId": "fa61466a-8895-47ed-927f-7647a22b3848"
      },
      "outputs": [
        {
          "name": "stdout",
          "output_type": "stream",
          "text": [
            "1 2\n",
            "13\n",
            "10\n",
            "La suma es:  13\n"
          ]
        }
      ],
      "source": [
        "#Solución Ej 2\n",
        "numeros1 = [1, 7, 20, 11, 1, 17, 4, 13, 9, 0, 12, 18, 5, 10, 8, 0, 10, 6, 19, 19, 10, 9, 4, 4, 18, 18, 2]\n",
        "primero = numeros1[0]\n",
        "ultimo =  numeros1[-1]\n",
        "print(primero,ultimo)\n",
        "posicionmedia = int(len(numeros1) / 2)\n",
        "print(posicionmedia)\n",
        "medio = numeros1[posicionmedia]\n",
        "print(medio)\n",
        "print(\"La suma es: \",primero+medio+ultimo)"
      ]
    },
    {
      "cell_type": "code",
      "execution_count": 43,
      "metadata": {
        "colab": {
          "base_uri": "https://localhost:8080/"
        },
        "id": "dGefo7VHzjpv",
        "outputId": "9980307a-e07a-48a6-8d51-9099317f03c4"
      },
      "outputs": [
        {
          "name": "stdout",
          "output_type": "stream",
          "text": [
            "Dame la lista de números separados con espacio:1 2 3 4 5\n",
            "1 2 3 4 5\n",
            "['1', '2', '3', '4', '5']\n",
            "[1, 2, 3, 4, 5]\n",
            " La suma de la lista [1, 2, 3, 4, 5] es 15\n"
          ]
        }
      ],
      "source": [
        "#Solución Ej 3\n",
        "listanumeros = input(\"Dame la lista de números separados con espacio:\")\n",
        "print(listanumeros)\n",
        "lista = listanumeros.split()\n",
        "print(lista)\n",
        "#Usaremos map para resolverlo\n",
        "lista2 = list(map(int,lista))\n",
        "print(lista2)\n",
        "print(f\" La suma de la lista {lista2} es {sum(lista2)}\")"
      ]
    },
    {
      "cell_type": "code",
      "execution_count": 50,
      "metadata": {
        "colab": {
          "base_uri": "https://localhost:8080/"
        },
        "id": "DQRpfom2FKzg",
        "outputId": "4f7ff6b1-b819-4eb2-d623-394ee862b6b2"
      },
      "outputs": [
        {
          "name": "stdout",
          "output_type": "stream",
          "text": [
            "['Jorge', 'Blanca', 'Christian', 'Claudia', 'David']\n",
            "['JORGE', 'BLANCA', 'CHRISTIAN', 'CLAUDIA', 'DAVID']\n"
          ]
        }
      ],
      "source": [
        "def mayusculas(x):\n",
        "  return x.upper()\n",
        "\n",
        "nombres = [\"Jorge\", \"Blanca\", \"Christian\", \"Claudia\", \"David\"]\n",
        "print(nombres)\n",
        "print(list(map(mayusculas,nombres)))"
      ]
    },
    {
      "cell_type": "code",
      "execution_count": null,
      "metadata": {
        "colab": {
          "base_uri": "https://localhost:8080/"
        },
        "id": "wjW4-npOzngD",
        "outputId": "65055b00-6715-45ee-e201-6127187aea11"
      },
      "outputs": [
        {
          "name": "stdout",
          "output_type": "stream",
          "text": [
            "['a', 'b', 'a', 'd', 'a', 'a', 'c']\n",
            "a b a d a a c\n",
            "* b * d * * c\n",
            "['*', 'b', '*', 'd', '*', '*', 'c']\n"
          ]
        }
      ],
      "source": [
        "#Solución Ej 4\n",
        "list1 = [\"a\", \"b\", \"a\", \"d\", \"a\", \"a\", \"c\"]\n",
        "print(list1)\n",
        "cadena = \" \".join(list1)\n",
        "print(cadena)\n",
        "cadena = cadena.replace(\"a\",\"*\")\n",
        "print(cadena)\n",
        "list1 = cadena.split()\n",
        "print(list1)"
      ]
    },
    {
      "cell_type": "code",
      "execution_count": 95,
      "metadata": {
        "colab": {
          "base_uri": "https://localhost:8080/"
        },
        "id": "OEpPiFBnPiE3",
        "outputId": "6cad58f3-76c4-48fc-89df-525cd8e61b92"
      },
      "outputs": [
        {
          "name": "stdout",
          "output_type": "stream",
          "text": [
            "1\n",
            "2\n",
            "3\n",
            "4\n",
            "5\n",
            "6\n",
            "7\n",
            "8\n",
            "9\n",
            "7\n",
            "8\n",
            "9\n"
          ]
        }
      ],
      "source": [
        "lista = [[1,2,3],\n",
        " [4,5,6,7,8,9],\n",
        "  [7,8,9]]\n",
        "\n",
        "#print(lista[0][2])\n",
        "\n",
        "for renglon in lista:\n",
        "  for columna in renglon:\n",
        "    print(columna)"
      ]
    },
    {
      "cell_type": "markdown",
      "metadata": {
        "id": "POw6F1I1vZUE"
      },
      "source": [
        "# (Tuplas)\n",
        "Una tupla es una colección de objetos ordenados que encierra sus elementos con paréntesis () y los separa con comas. Las tuplas son muy similares a las listas, y pueden almacenar objetos de tipo distinto como enteros y *strings* entre otros. Sin embargo, al contrario que las listas presentan la propiedad de **inmutabilidad**. Esto implica que **los elementos de una tupla no pueden reasignarse (modificarse)**. El siguiente ejemplo ilustra estos dos conceptos"
      ]
    },
    {
      "cell_type": "code",
      "execution_count": 51,
      "metadata": {
        "colab": {
          "base_uri": "https://localhost:8080/"
        },
        "id": "256Hmilbvh26",
        "outputId": "317b0b03-2f77-4227-b6a0-4bd13e7a4bfb"
      },
      "outputs": [
        {
          "name": "stdout",
          "output_type": "stream",
          "text": [
            "<class 'tuple'>\n",
            "<class 'tuple'>\n"
          ]
        }
      ],
      "source": [
        "materias = (\"CALCULO\", \"FINANZAS\", \"OPTIMIZACION\", \"GEOMETRIA\", \"PROGRAMACION\", \"ESTADISTICA\")\n",
        "otratupla = (1,\"dos\",3)\n",
        "print(type(materias))\n",
        "print(type(otratupla))"
      ]
    },
    {
      "cell_type": "markdown",
      "metadata": {
        "id": "7Kff4p3gvnv4"
      },
      "source": [
        "### Propiedades de una *tupla*:"
      ]
    },
    {
      "cell_type": "code",
      "execution_count": 52,
      "metadata": {
        "colab": {
          "base_uri": "https://localhost:8080/"
        },
        "id": "JuiEj6UMvrja",
        "outputId": "685accea-0647-47cd-9078-c3ec5fd0e1b9"
      },
      "outputs": [
        {
          "name": "stdout",
          "output_type": "stream",
          "text": [
            "CALCULO\n",
            "dos\n"
          ]
        }
      ],
      "source": [
        "print(materias[0])\n",
        "print(otratupla[1])"
      ]
    },
    {
      "cell_type": "code",
      "execution_count": 53,
      "metadata": {
        "colab": {
          "base_uri": "https://localhost:8080/",
          "height": 141
        },
        "id": "q4XEX5BTvvUS",
        "outputId": "5dc60d69-5b6a-43f8-f29b-dd8065566c62"
      },
      "outputs": [],
      "source": [
        "materias[0] = \"PROBABILIDAD\" #Nos marcará error pues una tupla es inmutable"
      ]
    },
    {
      "cell_type": "markdown",
      "metadata": {
        "id": "SUGw1NK6wEo1"
      },
      "source": [
        "### ¿Por qué usar *tuplas*?\n",
        "A pesar de todas sus similitudes, existen diferentes motivos por los cuales optar por una tupla y no una lista:\n",
        "\n",
        "* Manipular tuplas agiliza la ejecución del programa en comparación con una lista equivalente (aunque esta diferencia no sea apreciable con tamaños pequeños de listas o tuplas).\n",
        "* Cuando quieres que los datos sean constantes durante toda la ejecución del programa y no puedan modificarse accidentalmente.\n",
        "* En los diccionarios el objeto de una clave tiene que ser inmutable, por tanto puede ser una tupla pero no una lista."
      ]
    },
    {
      "cell_type": "markdown",
      "metadata": {
        "id": "VugabwJqzBGL"
      },
      "source": [
        "### Empaquetar y desempaquetar una tupla\n",
        "Las tuplas también pueden declararse sin necesidad de usar paréntesis. Cual sea el caso, la declaración de una tupla también se le denomina «empaquetar» la tupla (*tuple packing en inglés*), ya que todos sus elementos quedan asociados a un solo objeto."
      ]
    },
    {
      "cell_type": "code",
      "execution_count": 54,
      "metadata": {
        "colab": {
          "base_uri": "https://localhost:8080/"
        },
        "id": "zNxVKDcUzSw5",
        "outputId": "e94e8e4a-6f16-492f-9c9c-40c85fc6c768"
      },
      "outputs": [
        {
          "name": "stdout",
          "output_type": "stream",
          "text": [
            "<class 'tuple'>\n",
            "('uno', 'dos', 'tres', 'cuatro')\n",
            "dos\n",
            "tres\n",
            "cuatro\n"
          ]
        }
      ],
      "source": [
        " #Las tuplas pueden declararse sin los paréntesis\n",
        " t = 'uno', 'dos', 'tres', 'cuatro'\n",
        " print(type(t))\n",
        " print(t)\n",
        " _,b,c,d = t\n",
        " #print(a)\n",
        " print(b)\n",
        " print(c)\n",
        " print(d)\n"
      ]
    },
    {
      "cell_type": "markdown",
      "metadata": {
        "id": "lPZnGBchzksN"
      },
      "source": [
        "En el caso tuplas con un solo elemento hay que añadir una coma para que el intérprete de Python lo considere una tupla."
      ]
    },
    {
      "cell_type": "code",
      "execution_count": null,
      "metadata": {
        "colab": {
          "base_uri": "https://localhost:8080/"
        },
        "id": "u8nf0RhvzoUd",
        "outputId": "7236667e-47d8-4507-c4f8-fd62ca8c9a15"
      },
      "outputs": [
        {
          "name": "stdout",
          "output_type": "stream",
          "text": [
            "<class 'int'>\n",
            "<class 'tuple'>\n",
            "(1,)\n"
          ]
        }
      ],
      "source": [
        "t = 1\n",
        "print(type(t))\n",
        "t = 1,\n",
        "print(type(t))\n",
        "print(t)"
      ]
    },
    {
      "cell_type": "markdown",
      "metadata": {
        "id": "CGDvOGHb0FG_"
      },
      "source": [
        "Al paso inverso se le denomina «desempaquetar» la tupla (*tuple unpacking* en inglés), ya que los elementos de la tupla se copian en objetos distintos.\n",
        "\n"
      ]
    },
    {
      "cell_type": "code",
      "execution_count": 55,
      "metadata": {
        "colab": {
          "base_uri": "https://localhost:8080/"
        },
        "id": "j1nhIfw_0Nmr",
        "outputId": "c654a750-52e1-4182-8f05-6b7fae578fcc"
      },
      "outputs": [],
      "source": [
        "#Creando y desempaquetando una tupla\n",
        "t = ('Belinda', '35', 'Cantante', 'México')\n",
        "nombre,edad,profesion,pais = t\n",
        "print(f\"Nombre: {nombre} \\nEdad: {edad}\\nProfesión: {profesion}\\nPaís donde radica: {pais}\")\n"
      ]
    },
    {
      "cell_type": "markdown",
      "metadata": {
        "id": "g4VuYjO41Re3"
      },
      "source": [
        "El número de objetos declarados para «desempaquetar» la tupla tiene que coincidir con el número de elementos de la tupla, ya que en caso contrario el intérprete de Python lanza un error del tipo ValueError."
      ]
    },
    {
      "cell_type": "markdown",
      "metadata": {
        "id": "42fLvizH1mtN"
      },
      "source": [
        "### Métodos de las tuplas\n",
        "Las tuplas cuentan con dos métodos:\n",
        "\n",
        "**t.count(x)** : cuenta el número de veces que el elemento x está en la tupla t.\n",
        "```\n",
        "t.count(x)\n",
        "```\n",
        "\n"
      ]
    },
    {
      "cell_type": "code",
      "execution_count": 57,
      "metadata": {
        "colab": {
          "base_uri": "https://localhost:8080/"
        },
        "id": "y5H_Yz8-2L-X",
        "outputId": "ed2d501f-0c2a-4a74-f47e-4ca9f7155fe1"
      },
      "outputs": [
        {
          "name": "stdout",
          "output_type": "stream",
          "text": [
            "1\n"
          ]
        }
      ],
      "source": [
        "t = (1, 1, 2, 3)\n",
        "print(t.count(3))"
      ]
    },
    {
      "cell_type": "markdown",
      "metadata": {
        "id": "mRhoSm5k2Sgb"
      },
      "source": [
        "t.index(x) : retorna el índice más pequeño del elemento x en la tupla t.\n",
        "\n",
        "\n",
        "```\n",
        "t.index(x)\n",
        "```\n",
        "\n"
      ]
    },
    {
      "cell_type": "code",
      "execution_count": 60,
      "metadata": {
        "colab": {
          "base_uri": "https://localhost:8080/"
        },
        "id": "2nzkPW022a0t",
        "outputId": "8bf06666-fa0b-4219-a94d-113fd4a4d6d4"
      },
      "outputs": [
        {
          "name": "stdout",
          "output_type": "stream",
          "text": [
            "4\n"
          ]
        }
      ],
      "source": [
        "t = (1, 1, 2, 3, 7)\n",
        "print(t.index(7))"
      ]
    },
    {
      "cell_type": "markdown",
      "metadata": {
        "id": "xCmE-MTg2req"
      },
      "source": [
        "### Conversión entre listas y tuplas\n",
        "La conversión entre estos dos tipos de objetos es muy sencilla. Si queremos convertir una lista en una tupla tenemos que usar declarar la tupla pasandole la lista en el constructor."
      ]
    },
    {
      "cell_type": "code",
      "execution_count": 62,
      "metadata": {
        "colab": {
          "base_uri": "https://localhost:8080/"
        },
        "id": "Urm3wq-t2x3T",
        "outputId": "fc5b89a1-5eed-435d-ca3a-6a04e92541cc"
      },
      "outputs": [
        {
          "name": "stdout",
          "output_type": "stream",
          "text": [
            "(1, 2, 3, 4)\n"
          ]
        }
      ],
      "source": [
        " lista = [1, 2, 3, 4]\n",
        " tupla = tuple(lista)\n",
        " print(tupla)"
      ]
    },
    {
      "cell_type": "markdown",
      "metadata": {
        "id": "mCpeE4VP26QR"
      },
      "source": [
        "El paso inverso es equivalente, pero pasándole la tupla al constructor de la lista."
      ]
    },
    {
      "cell_type": "code",
      "execution_count": 61,
      "metadata": {
        "colab": {
          "base_uri": "https://localhost:8080/"
        },
        "id": "0IyrWHuG28O4",
        "outputId": "63cca522-81c6-4864-cc87-2a15a29a4f58"
      },
      "outputs": [
        {
          "name": "stdout",
          "output_type": "stream",
          "text": [
            "[1, 2, 3, 4]\n"
          ]
        }
      ],
      "source": [
        " tupla = (1, 2, 3, 4)\n",
        " lista = list(tupla)\n",
        " print(lista)"
      ]
    },
    {
      "cell_type": "markdown",
      "metadata": {
        "id": "a7XUMc2Z3XD_"
      },
      "source": [
        "# {Diccionaries: Values}\n",
        "Hasta el momento hemos visto colecciones de elementos ordenados por un único índice numérico. Ahora veremos otra clase de objetos, los **diccionarios**, los cuáles son listas asociativas indexadas por llave; no por orden.\n",
        "\n",
        "La sintáxis de un diccionario:\n",
        "```python\n",
        "{llave1: valor1,\n",
        " llave2: valor2,\n",
        " ...\n",
        " llaven: valorn}\n",
        "```"
      ]
    },
    {
      "cell_type": "markdown",
      "metadata": {
        "id": "3oWLyWnE367R"
      },
      "source": [
        "Los diccionarios almacenan pares de objetos clave-valor. En contraste con las listas, los diccionarios no garantizan que se mantenga el orden en que sus objetos han sido almacenados. Además, en un diccionario el acceso a un objeto se realiza indicando la clave de ese objeto. Este es otro elemento diferenciador entre diccionarios y listas, donde el acceso a los objetos se realiza indicando la posición que ocupan. Los diccionarios utilizan llaves ({}) para encerrar a sus elementos, y dos puntos (:) para indicar las claves y sus valores asociados."
      ]
    },
    {
      "cell_type": "code",
      "execution_count": 64,
      "metadata": {
        "colab": {
          "base_uri": "https://localhost:8080/"
        },
        "id": "Q6qLskPj4Dv5",
        "outputId": "9984de75-653a-4dba-8fbe-f9394473a826"
      },
      "outputs": [
        {
          "name": "stdout",
          "output_type": "stream",
          "text": [
            "<class 'dict'>\n"
          ]
        }
      ],
      "source": [
        "diccionario = {'clave1':'valor1', 'clave2':'valor2'}\n",
        "print(type(diccionario))"
      ]
    },
    {
      "cell_type": "code",
      "execution_count": 65,
      "metadata": {
        "colab": {
          "base_uri": "https://localhost:8080/"
        },
        "id": "xx1BpQUpo2r9",
        "outputId": "e48c307a-7a1c-4ec2-bb9f-672a1f0c37b3"
      },
      "outputs": [
        {
          "name": "stdout",
          "output_type": "stream",
          "text": [
            "2\n",
            "{'clave1': 'valor1', 'clave2': 'valor2'}\n"
          ]
        }
      ],
      "source": [
        "#Longitud (número de elementos) del diccionario\n",
        "print(len(diccionario))\n",
        "print(diccionario)"
      ]
    },
    {
      "cell_type": "markdown",
      "metadata": {
        "id": "pdvuG88L75eO"
      },
      "source": [
        "## Tipos de clave-valor permitidos.\n",
        "Los diccionarios pueden tratar con prácticamente cualquier tipo de dato y existen muy pocas restricciones en cuanto a las claves y valores que se pueden utilizar. Estas restricciones son las siguientes:\n",
        "\n",
        "* **Claves**: no puede haber claves duplicadas y éstas tienen que ser objetos inmutables.\n",
        "* **Valores**: no existe ninguna restricción en cuanto a los tipos de datos.\n"
      ]
    },
    {
      "cell_type": "markdown",
      "metadata": {
        "id": "YLXM0sPQ8ZHX"
      },
      "source": [
        "En el siguiente ejemplo vemos un diccionario con claves de distinto tipo: string, número entero, número en coma flotante, e incluso booleano. Así mismo el valor que se toma para las claves repetidas es el último que se ha definido. Es por ello que el valor asociado a la clave «2» es False."
      ]
    },
    {
      "cell_type": "code",
      "execution_count": 66,
      "metadata": {
        "colab": {
          "base_uri": "https://localhost:8080/"
        },
        "id": "sABrUCAb8bj3",
        "outputId": "37632954-261c-4be3-e70d-bd238ec962df"
      },
      "outputs": [
        {
          "name": "stdout",
          "output_type": "stream",
          "text": [
            "{'clave1': 'valor1', 2: False, 3.1: 3, True: ['a', 'b', 'c']}\n"
          ]
        }
      ],
      "source": [
        "diccionario = {'clave1':'valor1', 2:2.5, 3.1:3, True:['a','b','c'], 2:False}\n",
        "print(diccionario)"
      ]
    },
    {
      "cell_type": "markdown",
      "metadata": {
        "id": "eA2WLh8v8xYC"
      },
      "source": [
        "## Acceder y modificar los objetos de un diccionario\n",
        "Para acceder a un objeto determinado de un diccionario tenemos que indicar entre corchetes el nombre de su clave. De modo muy similar podemos modificar el valor de una clave asignándole un nuevo valor mediante el signo igual (=). Además, también podemos añadir un nuevo par clave-valor indicando simplemente el nombre de la clave a añadir. Estas operaciones se ilustran en el siguiente bloque de código donde:\n",
        "* i) accedemos al precio de las manzanas,\n",
        "* ii) modificamos el precio de las manzanas y\n",
        "* iii) añadimos el precio del agua al diccionario de precios."
      ]
    },
    {
      "cell_type": "code",
      "execution_count": 67,
      "metadata": {
        "colab": {
          "base_uri": "https://localhost:8080/"
        },
        "id": "Xmmpa4HO9Ej8",
        "outputId": "903c8ee5-a2b6-4b5e-c5e3-31e428ad9696"
      },
      "outputs": [
        {
          "name": "stdout",
          "output_type": "stream",
          "text": [
            "El precio de las manzanas es:  0.35\n",
            "El precio de las manzanas es:  0.29\n",
            "{'pasta': 0.9, 'patatas': 2.55, 'manzanas': 0.29, 'agua': 1.5}\n"
          ]
        }
      ],
      "source": [
        "precios = {'pasta':0.9, 'patatas':2.55, 'manzanas':0.35}\n",
        "#Accedemos al precio de las manzanas\n",
        "print(\"El precio de las manzanas es: \",precios['manzanas'])\n",
        "#Cambiamos el precio de las manzanas\n",
        "precios['manzanas'] = 0.29\n",
        "print(\"El precio de las manzanas es: \",precios['manzanas'])\n",
        "#Añadimos el precio del agua al diccionario\n",
        "precios[\"agua\"] = 1.50\n",
        "print(precios)"
      ]
    },
    {
      "cell_type": "markdown",
      "metadata": {
        "id": "mCExnaaW9-Xo"
      },
      "source": [
        "## Métodos comunes de los diccionarios\n",
        "\n",
        "En este apartado vemos algunos de los métodos más útiles para manipular diccionarios.\n",
        "* **d.keys()**: devuelve una lista que contiene las llaves del diccionario."
      ]
    },
    {
      "cell_type": "code",
      "execution_count": 68,
      "metadata": {
        "colab": {
          "base_uri": "https://localhost:8080/"
        },
        "id": "MsWEVJBznEDY",
        "outputId": "5af47dc5-9e10-4207-8034-4c068c56aa70"
      },
      "outputs": [
        {
          "name": "stdout",
          "output_type": "stream",
          "text": [
            "['Inglaterra', 'Francia', 'Italia']\n"
          ]
        }
      ],
      "source": [
        " capitales = {'Inglaterra':'Londres', 'Francia':'Paris', 'Italia':'Roma'}\n",
        " print(list(capitales.keys()))"
      ]
    },
    {
      "cell_type": "markdown",
      "metadata": {
        "id": "UPLYEulbnUqk"
      },
      "source": [
        "* **d.values()**: devuelve una lista que contiene los valores del diccionario."
      ]
    },
    {
      "cell_type": "code",
      "execution_count": 69,
      "metadata": {
        "colab": {
          "base_uri": "https://localhost:8080/"
        },
        "id": "0cpVTMlOnXPw",
        "outputId": "27cb21a6-4743-471b-e07f-130d0aff387c"
      },
      "outputs": [
        {
          "name": "stdout",
          "output_type": "stream",
          "text": [
            "['Londres', 'Paris', 'Roma']\n"
          ]
        }
      ],
      "source": [
        " capitales = {'Inglaterra':'Londres', 'Francia':'Paris', 'Italia':'Roma'}\n",
        " print(list(capitales.values()))"
      ]
    },
    {
      "cell_type": "markdown",
      "metadata": {
        "id": "7DKZsKIJneB2"
      },
      "source": [
        "* **d.clear()**: elimina todos los elementos del diccionario."
      ]
    },
    {
      "cell_type": "code",
      "execution_count": null,
      "metadata": {
        "colab": {
          "base_uri": "https://localhost:8080/"
        },
        "id": "OYOmUpGWniYg",
        "outputId": "142f8d44-b846-4198-94ee-39e6f770e96c"
      },
      "outputs": [
        {
          "name": "stdout",
          "output_type": "stream",
          "text": [
            "{}\n"
          ]
        }
      ],
      "source": [
        "capitales = {'Inglaterra':'Londres', 'Francia':'Paris', 'Italia':'Roma'}\n",
        "capitales.clear()\n",
        "print(capitales)"
      ]
    },
    {
      "cell_type": "markdown",
      "metadata": {
        "id": "70rldvVHnsAL"
      },
      "source": [
        "* **d.get(clave, valor_por_defecto)**: devuelve el valor de la clave indicada en caso que ésta exista. En caso contrario devuelve el valor por defecto."
      ]
    },
    {
      "cell_type": "code",
      "execution_count": null,
      "metadata": {
        "colab": {
          "base_uri": "https://localhost:8080/"
        },
        "id": "3r9gKjYAnvMY",
        "outputId": "43e2084b-cd9f-48e8-ed5d-f19eb7b66f43"
      },
      "outputs": [
        {
          "name": "stdout",
          "output_type": "stream",
          "text": [
            "Desconocida\n"
          ]
        }
      ],
      "source": [
        "capitales = {'Inglaterra':'Londres', 'Francia':'Paris', 'Italia':'Roma'}\n",
        "capital = capitales.get('Nepal', 'Desconocida')\n",
        "print(capital)"
      ]
    },
    {
      "cell_type": "markdown",
      "metadata": {
        "id": "qsajVGtln8qZ"
      },
      "source": [
        "* **d.pop(clave, valor_por_defecto)**: elimina la clave indicada y devuelve su valor. En caso que el diccionario no contenga la clave especificada, retorna el valor por defecto."
      ]
    },
    {
      "cell_type": "code",
      "execution_count": 71,
      "metadata": {
        "colab": {
          "base_uri": "https://localhost:8080/"
        },
        "id": "ftGntr-MoACR",
        "outputId": "5ba93bab-c07b-4dad-80c7-c316aa985079"
      },
      "outputs": [
        {
          "name": "stdout",
          "output_type": "stream",
          "text": [
            "Paris\n",
            "{'Inglaterra': 'Londres', 'Italia': 'Roma'}\n",
            "Berlin\n",
            "{'Inglaterra': 'Londres', 'Italia': 'Roma'}\n"
          ]
        }
      ],
      "source": [
        "capitales = {'Inglaterra':'Londres', 'Francia':'Paris', 'Italia':'Roma'}\n",
        "capital = capitales.pop('Francia')\n",
        "print(capital)\n",
        "print(capitales)\n",
        "capital = capitales.pop('Alemania', 'Berlin')\n",
        "print(capital)"
      ]
    },
    {
      "cell_type": "markdown",
      "metadata": {
        "id": "0PTB3GyariD1"
      },
      "source": [
        "* **d.items()**: devuelve una lista de tuplas con dos elementos. Primero la llave y segundo los valores."
      ]
    },
    {
      "cell_type": "code",
      "execution_count": null,
      "metadata": {
        "colab": {
          "base_uri": "https://localhost:8080/"
        },
        "id": "BSPn1qZrru8I",
        "outputId": "ed3b42c0-05d7-4836-91c1-7105c5385b7f"
      },
      "outputs": [
        {
          "name": "stdout",
          "output_type": "stream",
          "text": [
            "Diccionario: {'José': [11, 'rojo', 'Administración'], 'Charlie': [33, 'Violeta', 'Ingeniería'], 'Luis': [23, 'Negro', 'Matemáticas'], 'Johanna': [18, 'Gris', 'Finanzas']} \n",
            "\n",
            "[('José', [11, 'rojo', 'Administración']), ('Charlie', [33, 'Violeta', 'Ingeniería']), ('Luis', [23, 'Negro', 'Matemáticas']), ('Johanna', [18, 'Gris', 'Finanzas'])]\n"
          ]
        }
      ],
      "source": [
        "alumnos = {\n",
        "    \"José\":    [11, \"rojo\", \"Administración\"],\n",
        "    \"Charlie\": [33, \"Violeta\", \"Ingeniería\"],\n",
        "    \"Luis\": [23, \"Negro\", \"Matemáticas\"],\n",
        "    \"Johanna\": [18, \"Gris\", \"Finanzas\"]\n",
        "}\n",
        "print(\"Diccionario:\", alumnos,\"\\n\")\n",
        "#Lista con las tuplas\n",
        "listatup = list(alumnos.items())\n",
        "print(listatup)"
      ]
    },
    {
      "cell_type": "code",
      "execution_count": null,
      "metadata": {
        "id": "yId6gaSPIs8p"
      },
      "outputs": [],
      "source": [
        "llave,datos = listatup[0]\n",
        "print(llave)\n",
        "print(datos)"
      ]
    },
    {
      "cell_type": "markdown",
      "metadata": {
        "id": "fnHk_hnGsxEZ"
      },
      "source": [
        "## {Conjuntos} o {Sets}\n",
        "\n",
        "Un `set` (conjunto) es una colección no ordenada de valores únicos. Para dos conjuntos `A`, `B` y valores `a` dentro de `A` y `b` dentro de `B`, se cumplen con las siguientes características\n",
        "* `A & B` (Intersección): Elementos en `A` y en `B`\n",
        "* `A | B` (Unión): Elementos en `A` o en `B`\n",
        "* `A - B` (Diferencia): Elementos en `A` no presentes en `B`\n",
        "* `A ^ B` (Diferencia Simétrica): Elementos en cualquiera de los conjuntos `A` o `B`, mas no en los dos.\n",
        "* `A <= B` (Subconjunto): Prueba si todos los elementos en `A` se encuentran dentro de `B`\n",
        "* `A >= B` (Superconjunto): Prueba si todos los elementos en `B` se encuentran dentro de `A`"
      ]
    },
    {
      "cell_type": "code",
      "execution_count": 74,
      "metadata": {
        "id": "kVEDUL4ks22r"
      },
      "outputs": [],
      "source": [
        "vocales = {'a', 'e', 'i', 'o', 'u'}\n",
        "p1 = {'c', 'a', 'r', 'r', 'o'}"
      ]
    },
    {
      "cell_type": "code",
      "execution_count": 75,
      "metadata": {
        "colab": {
          "base_uri": "https://localhost:8080/"
        },
        "id": "C83z7SRqMvO9",
        "outputId": "f27c8f71-d23e-4b7f-82a9-3bf646a4b752"
      },
      "outputs": [
        {
          "name": "stdout",
          "output_type": "stream",
          "text": [
            "{'r', 'a', 'c', 'o'}\n"
          ]
        }
      ],
      "source": [
        "print(p1)"
      ]
    },
    {
      "cell_type": "code",
      "execution_count": null,
      "metadata": {
        "colab": {
          "base_uri": "https://localhost:8080/"
        },
        "id": "zh6UhEyes7c4",
        "outputId": "9927ae2b-8c38-4314-f1fe-0ddf02fe5c1a"
      },
      "outputs": [
        {
          "data": {
            "text/plain": [
              "{'a', 'o'}"
            ]
          },
          "execution_count": 66,
          "metadata": {},
          "output_type": "execute_result"
        }
      ],
      "source": [
        "p1 & vocales"
      ]
    },
    {
      "cell_type": "code",
      "execution_count": 76,
      "metadata": {
        "colab": {
          "base_uri": "https://localhost:8080/"
        },
        "id": "NA-NY8SItA5O",
        "outputId": "3e4cd9f5-3bd1-47e8-866e-75f38982bb57"
      },
      "outputs": [
        {
          "data": {
            "text/plain": [
              "{'a', 'c', 'e', 'i', 'o', 'r', 'u'}"
            ]
          },
          "execution_count": 76,
          "metadata": {},
          "output_type": "execute_result"
        }
      ],
      "source": [
        "p1 | vocales"
      ]
    },
    {
      "cell_type": "code",
      "execution_count": 77,
      "metadata": {
        "colab": {
          "base_uri": "https://localhost:8080/"
        },
        "id": "5s7ooVOjtDEr",
        "outputId": "6b2eaa6d-fb47-4e0c-b818-368f110d528b"
      },
      "outputs": [
        {
          "data": {
            "text/plain": [
              "{'c', 'r'}"
            ]
          },
          "execution_count": 77,
          "metadata": {},
          "output_type": "execute_result"
        }
      ],
      "source": [
        "p1 - vocales"
      ]
    },
    {
      "cell_type": "code",
      "execution_count": 78,
      "metadata": {
        "colab": {
          "base_uri": "https://localhost:8080/"
        },
        "id": "3WG2J-JrtGzo",
        "outputId": "36ef8f4a-6539-4640-b13a-d6a099e4dd82"
      },
      "outputs": [
        {
          "data": {
            "text/plain": [
              "{'c', 'e', 'i', 'r', 'u'}"
            ]
          },
          "execution_count": 78,
          "metadata": {},
          "output_type": "execute_result"
        }
      ],
      "source": [
        "p1 ^ vocales"
      ]
    },
    {
      "cell_type": "code",
      "execution_count": 79,
      "metadata": {
        "colab": {
          "base_uri": "https://localhost:8080/"
        },
        "id": "0vFYAeeWtYti",
        "outputId": "44b08aa6-5d8f-4ec0-c382-53c17636f652"
      },
      "outputs": [
        {
          "data": {
            "text/plain": [
              "4"
            ]
          },
          "execution_count": 79,
          "metadata": {},
          "output_type": "execute_result"
        }
      ],
      "source": [
        "len(p1)"
      ]
    },
    {
      "cell_type": "markdown",
      "metadata": {
        "id": "jbBz-fwZteJx"
      },
      "source": [
        "<h2 style=\"color:#B22222\"> Ejercicios </h2>\n",
        "\n",
        "1. Dado el diccionario `vocales`, accede al primer elemento dentro de la llave `\"minusculas\"`\n",
        "```python\n",
        "vocales = {\n",
        "    \"mayusculas\": ['A', 'E', 'I', 'O', 'U'],\n",
        "    \"minusculas\": ['a', 'e', 'i', 'o', 'u']\n",
        "}\n",
        "```\n",
        "2. Modifica el diccionario `alumnos` de tal manera que cada llave del diccionario sea el nombre del estudiante y el valor un diccionario adicional con las llaves `\"edad\"`, `\"color_favorito\"`, `\"carrera\"`, asignados a sus valores correspondientes.\n",
        "3. ¿Cuál es la longitud del set `{'q', 'u', 'e', 'u', 'e'}`? Explica.\n",
        "4. Considerando los conjuntos `investor1`, `investor2` e `investor3`\n",
        "    * Encuentra todas las acciones que `investor1`, `investor2`, `investor3` e `investor4` tienen en conjunto\n",
        "    * Encuentra las acciones que `investor1`, `investor3` e `investor4` tienen en común\n",
        "\n",
        "```python\n",
        "investor1 = {'HOTEL', 'CHDRAUI', 'ALPEK', 'VISTA', 'MFRISCO', 'AHMSA', 'LAB', 'SPORT', 'SAVIA', 'LASEG'}\n",
        "investor2 = {'CMOCTEZ', 'BEVIDES', 'OMA', 'GNP', 'AGRIEXP', 'SPORT', 'TRAXION', 'GENTERA', 'COLLADO', 'LAMOSA'}\n",
        "investor3 = {'FEMSA', 'ALSEA', 'BIMBO', 'ELEMENT', 'FINAMEX', 'GCC', 'VISTA', 'GEO', 'IENOVA', 'OMA', 'CADU', 'ANB', 'AUTLAN', 'GICSA', 'GFNORTE', 'IDEAL', 'MEXCHEM', 'ELEKTRA', 'SITES', 'CABLE'}\n",
        "investor4 = {'GENTERA', 'BOLSA', 'VISTA', 'TEAK', 'ACCELSA', 'CUERVO', 'TEKCHEM', 'QBINDUS', 'MEDICA', 'URBI', 'CIE', 'NEMAK', 'KIMBER', 'GPH', 'GMD', 'ACTINVR', 'GAP', 'JAVER', 'INGEAL', 'ARA'}\n",
        "```"
      ]
    },
    {
      "cell_type": "code",
      "execution_count": 80,
      "metadata": {
        "colab": {
          "base_uri": "https://localhost:8080/"
        },
        "id": "f006Jr7lKu2v",
        "outputId": "77402aa5-d752-4d96-94d4-e90d1df67956"
      },
      "outputs": [
        {
          "name": "stdout",
          "output_type": "stream",
          "text": [
            "['a', 'e', 'i', 'o', 'u']\n",
            "a\n"
          ]
        }
      ],
      "source": [
        "#Ejercicio 1\n",
        "vocales = {\n",
        " \"mayusculas\": ['A', 'E', 'I', 'O', 'U'],\n",
        " \"minusculas\": ['a', 'e', 'i', 'o', 'u']\n",
        "}\n",
        "valores = vocales[\"minusculas\"]\n",
        "print(valores)\n",
        "print(valores[0])"
      ]
    },
    {
      "cell_type": "code",
      "execution_count": 81,
      "metadata": {
        "colab": {
          "base_uri": "https://localhost:8080/"
        },
        "id": "bT1gMHpyL5ZU",
        "outputId": "e5c90ef7-7223-4710-d845-c92945d5e31a"
      },
      "outputs": [
        {
          "name": "stdout",
          "output_type": "stream",
          "text": [
            "<class 'dict'>\n",
            "{'edad': 23, 'color_favorito': 'Negro', 'carrera': 'Matemáticas'}\n"
          ]
        }
      ],
      "source": [
        "#Ejercicio 2\n",
        "# \"edad\", \"color_favorito\", \"carrera\"\n",
        "alumnos = {\n",
        "    \"José\":    {\"edad\":11, \"color_favorito\":\"rojo\", \"carrera\":\"Administración\"},\n",
        "    \"Charlie\": {\"edad\":33, \"color_favorito\":\"Violeta\", \"carrera\":\"Ingeniería\"},\n",
        "    \"Luis\": {\"edad\":23, \"color_favorito\":\"Negro\", \"carrera\":\"Matemáticas\"},\n",
        "    \"Johanna\": {\"edad\":18, \"color_favorito\":\"Gris\", \"carrera\":\"Finanzas\"}\n",
        "}\n",
        "\n",
        "dicc = alumnos[\"Luis\"]\n",
        "print(type(dicc))\n",
        "print(dicc)"
      ]
    },
    {
      "cell_type": "code",
      "execution_count": null,
      "metadata": {
        "colab": {
          "base_uri": "https://localhost:8080/"
        },
        "id": "0p466pDAO7A0",
        "outputId": "0e33e2d1-6908-4a96-c8e3-5899fc7357fa"
      },
      "outputs": [
        {
          "name": "stdout",
          "output_type": "stream",
          "text": [
            "3\n"
          ]
        }
      ],
      "source": [
        "#Ejercicio 3\n",
        "\n",
        "conjunto = {'q', 'u', 'e', 'u', 'e'}\n",
        "print(len(conjunto))"
      ]
    },
    {
      "cell_type": "code",
      "execution_count": 82,
      "metadata": {
        "id": "on3nTF4LPP1g"
      },
      "outputs": [],
      "source": [
        "#Ejercicio 4\n",
        "investor1 = {'HOTEL', 'CHDRAUI', 'ALPEK', 'VISTA', 'MFRISCO', 'AHMSA', 'LAB', 'SPORT', 'SAVIA', 'LASEG'}\n",
        "investor2 = {'CMOCTEZ', 'BEVIDES', 'OMA', 'GNP', 'AGRIEXP', 'SPORT', 'TRAXION', 'GENTERA', 'COLLADO', 'LAMOSA'}\n",
        "investor3 = {'FEMSA', 'ALSEA', 'BIMBO', 'ELEMENT', 'FINAMEX', 'GCC', 'VISTA', 'GEO', 'IENOVA', 'OMA', 'CADU', 'ANB', 'AUTLAN', 'GICSA', 'GFNORTE', 'IDEAL', 'MEXCHEM', 'ELEKTRA', 'SITES', 'CABLE'}\n",
        "investor4 = {'GENTERA', 'BOLSA', 'VISTA', 'TEAK', 'ACCELSA', 'CUERVO', 'TEKCHEM', 'QBINDUS', 'MEDICA', 'URBI', 'CIE', 'NEMAK', 'KIMBER', 'GPH', 'GMD', 'ACTINVR', 'GAP', 'JAVER', 'INGEAL', 'ARA'}"
      ]
    },
    {
      "cell_type": "code",
      "execution_count": 84,
      "metadata": {
        "colab": {
          "base_uri": "https://localhost:8080/"
        },
        "id": "qChBZihxPWQ2",
        "outputId": "f598bcfa-f49e-4053-d675-79acf028fc82"
      },
      "outputs": [
        {
          "name": "stdout",
          "output_type": "stream",
          "text": [
            "{'VISTA'}\n"
          ]
        }
      ],
      "source": [
        "# Acciones en conjunto\n",
        "acciones_en_conjunto = investor1 | investor2 | investor3 | investor4\n",
        "#print(acciones_en_conjunto)\n",
        "\n",
        "#Acciones en común de los inversores 1, 3 y 4\n",
        "acciones_en_comun = investor1 & investor3 & investor4\n",
        "print(acciones_en_comun)"
      ]
    }
  ],
  "metadata": {
    "colab": {
      "provenance": []
    },
    "kernelspec": {
      "display_name": "Python 3",
      "name": "python3"
    }
  },
  "nbformat": 4,
  "nbformat_minor": 0
}
