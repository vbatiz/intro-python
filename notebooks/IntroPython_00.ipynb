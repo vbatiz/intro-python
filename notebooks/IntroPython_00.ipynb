{
  "cells": [
    {
      "cell_type": "markdown",
      "metadata": {
        "id": "1wWnVn6b0a4N"
      },
      "source": [
        "## Introducción a Python\n",
        "\n",
        "![Python](https://www.python.org/static/img/python-logo.png)"
      ]
    },
    {
      "cell_type": "markdown",
      "metadata": {
        "id": "CtQS90sX0h9V"
      },
      "source": [
        "### Índice\n",
        "\n",
        "**Python básico**\n",
        "- [Python básico: Variables, Operadores y Strings](IntroPython_01.ipynb)\n",
        "- [Python básico: Control de Flujo](IntroPython_02.ipynb)\n",
        "- [Python básico: Listas, Tuplas, Diccionarios y Conjuntos](IntroPython_09.ipynb)\n",
        "\n",
        "**Numpy**\n",
        "- [Práctica con Numpy](IntroPython_03.ipynb)\n",
        "\n",
        "**Pandas**\n",
        "- [Práctica con Pandas](IntroPython_04.ipynb)\n",
        "\n",
        "**Visualización con Python**\n",
        "\n",
        "- [Práctica con Matplotlib](IntroPython_05.ipynb)\n",
        "- [Práctica con Seaborn](IntroPython_06.ipynb)\n",
        "\n",
        "**Complejidad de los datos**\n",
        "\n",
        "[Práctica de Complejidad de los datos](IntroPython_07.ipynb)\n",
        "\n",
        "**Prácticas Extras**\n",
        "- [Práctica de JSON](IntroPython_10.ipynb)\n",
        "- [Práctica de limpieza de textos y nubes de palabras](IntroPython_12.ipynb)\n",
        "- [Práctica de regresión lineal](IntroPython_11.ipynb)\n",
        "- [Pronósticos a escala con Prophet](IntroPython_08.ipynb)\n",
        "\n",
        "**Tips and tricks**\n",
        "- [Trucos y recomendaciones](TipsAndTricks.ipynb)"
      ]
    }
  ],
  "metadata": {
    "colab": {
      "provenance": []
    },
    "kernelspec": {
      "display_name": "Python 3",
      "name": "python3"
    },
    "language_info": {
      "name": "python"
    }
  },
  "nbformat": 4,
  "nbformat_minor": 0
}
