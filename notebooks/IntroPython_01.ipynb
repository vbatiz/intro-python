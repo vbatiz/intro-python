{
  "cells": [
    {
      "cell_type": "markdown",
      "metadata": {
        "id": "ELv_0-xiGEOc"
      },
      "source": [
        "## Introducción a Python.\n",
        "### Bienvenidos. En esta sesión revisaremos variables, operadores y strings.\n",
        "---"
      ]
    },
    {
      "cell_type": "markdown",
      "metadata": {
        "id": "G38apOTU9SsI"
      },
      "source": [
        "![Python](https://www.python.org/static/img/python-logo.png)\n",
        "\n",
        "Wikipedia menciona que **Python** es un lenguaje de alto nivel de programación interpretado cuya filosofía hace hincapié en la legibilidad de su código, se utiliza para desarrollar aplicaciones de todo tipo, ejemplos: Instagram, Netflix, Spotify, Panda 3D, entre otros. Se trata de un lenguaje de programación multiparadigma, ya que soporta parcialmente la orientación a objetos, programación imperativa y, en menor medida, programación funcional. Es un lenguaje interpretado, dinámico y multiplataforma.\n",
        "\n",
        "Python fue creado por Guido van Rossum, un programador holandés a finales de los 80 y principio de los 90.\n",
        "\n",
        "El nombre \"Python\" viene dado por la afición de Van Rossum al grupo Monty Python (fue un grupo británico conformado por seis comediantes).\n",
        "\n",
        "[Sitio oficial de Python](https://www.python.org/)"
      ]
    },
    {
      "cell_type": "code",
      "execution_count": null,
      "metadata": {
        "colab": {
          "base_uri": "https://localhost:8080/"
        },
        "id": "L7hPDlkDd358",
        "outputId": "57a82975-6cb5-4eed-acf4-f69dd7132a71"
      },
      "outputs": [
        {
          "output_type": "stream",
          "name": "stdout",
          "text": [
            "Python 3.10.12\n"
          ]
        }
      ],
      "source": [
        "!python --version"
      ]
    },
    {
      "cell_type": "code",
      "source": [
        "!ls"
      ],
      "metadata": {
        "id": "MqMKod0FTiIk",
        "outputId": "023fcf24-6b07-4c42-8bd0-20bf901d47d6",
        "colab": {
          "base_uri": "https://localhost:8080/"
        }
      },
      "execution_count": null,
      "outputs": [
        {
          "output_type": "stream",
          "name": "stdout",
          "text": [
            "sample_data\n"
          ]
        }
      ]
    },
    {
      "cell_type": "code",
      "execution_count": null,
      "metadata": {
        "colab": {
          "base_uri": "https://localhost:8080/"
        },
        "id": "yQsnlYVVFuZJ",
        "outputId": "d616d83f-e71b-4d3f-9730-22fbae95c2d0"
      },
      "outputs": [
        {
          "output_type": "stream",
          "name": "stdout",
          "text": [
            "¡Hola mundo!\n"
          ]
        }
      ],
      "source": [
        "# Esto es un comentario\n",
        "print(\"¡Hola mundo!\")"
      ]
    },
    {
      "cell_type": "code",
      "execution_count": null,
      "metadata": {
        "colab": {
          "base_uri": "https://localhost:8080/"
        },
        "id": "5VgUo4SmddlS",
        "outputId": "b4844df4-566e-42d7-edd8-85575a88dab1"
      },
      "outputs": [
        {
          "output_type": "stream",
          "name": "stdout",
          "text": [
            "Bienvenido al Curdo de Introducción a Python\n"
          ]
        }
      ],
      "source": [
        "print(\"Bienvenido al Curso de Introducción a Python\")"
      ]
    },
    {
      "cell_type": "code",
      "execution_count": null,
      "metadata": {
        "colab": {
          "base_uri": "https://localhost:8080/"
        },
        "id": "9g0C4PJeH1kq",
        "outputId": "7d2a1461-d5c1-4745-c2f7-29ea5567ceca"
      },
      "outputs": [
        {
          "output_type": "execute_result",
          "data": {
            "text/plain": [
              "str"
            ]
          },
          "metadata": {},
          "execution_count": 10
        }
      ],
      "source": [
        "type('a')"
      ]
    },
    {
      "cell_type": "markdown",
      "metadata": {
        "id": "UVPyOpKnG9ZB"
      },
      "source": [
        "Podemos usar sentencias en LaTeX para incluir aspectos más elaborados\n",
        "\n",
        "Esta es una ecuación: $\\int_{-\\infty}^{\\infty}e^{-x^2}dx$"
      ]
    },
    {
      "cell_type": "markdown",
      "metadata": {
        "id": "e_SBLUd-ryiH"
      },
      "source": [
        "## Variables\n",
        "Una variable es un lugar en memoria la cual guarda un objeto. En python, definimos una variable de la siguiente manera:\n",
        "```python\n",
        "nombre_variable = <objeto>\n",
        "```\n",
        "\n",
        "**Reglas**:\n",
        "1. Una variable puede contener cualquier carácter alfanumérico o un guión bajo\n",
        "2. Una variable **no** puede empezar con un carácter numérico `0-9`\n",
        "3. Una variable distingue entre mayúsculas y minúsculas, e.g., `Nombre != nombre`."
      ]
    },
    {
      "cell_type": "code",
      "execution_count": null,
      "metadata": {
        "colab": {
          "base_uri": "https://localhost:8080/"
        },
        "id": "26hpxQwvr8hc",
        "outputId": "473a5960-d715-43f9-8ccf-dc1793026749"
      },
      "outputs": [
        {
          "output_type": "stream",
          "name": "stdout",
          "text": [
            "Cristiano\n",
            "Messi\n"
          ]
        }
      ],
      "source": [
        "#Python distingue entre mayúsculas y minúsculas\n",
        "nombre =\"Cristiano\"\n",
        "Nombre = \"Messi\"\n",
        "print(nombre)\n",
        "print(Nombre)"
      ]
    },
    {
      "cell_type": "markdown",
      "metadata": {
        "id": "d8itCZCSWIjH"
      },
      "source": [
        "## Operaciones Aritméticas"
      ]
    },
    {
      "cell_type": "code",
      "execution_count": null,
      "metadata": {
        "id": "mTrBeVM_WNUy",
        "outputId": "756a4758-20ff-4c8f-88ac-c3abb15f6de0",
        "colab": {
          "base_uri": "https://localhost:8080/"
        }
      },
      "outputs": [
        {
          "output_type": "execute_result",
          "data": {
            "text/plain": [
              "5"
            ]
          },
          "metadata": {},
          "execution_count": 12
        }
      ],
      "source": [
        "#Suma\n",
        "3 + 2"
      ]
    },
    {
      "cell_type": "code",
      "execution_count": null,
      "metadata": {
        "id": "yqAOyRQuWQd4",
        "outputId": "936f61c9-fa13-4cc0-e81c-b1d39772eae6",
        "colab": {
          "base_uri": "https://localhost:8080/"
        }
      },
      "outputs": [
        {
          "output_type": "execute_result",
          "data": {
            "text/plain": [
              "1"
            ]
          },
          "metadata": {},
          "execution_count": 13
        }
      ],
      "source": [
        "#Resta\n",
        "3 - 2"
      ]
    },
    {
      "cell_type": "code",
      "execution_count": null,
      "metadata": {
        "id": "pHVSG0WLWTr9",
        "outputId": "daad19fc-f425-4a41-814a-4bacf2585c0d",
        "colab": {
          "base_uri": "https://localhost:8080/"
        }
      },
      "outputs": [
        {
          "output_type": "execute_result",
          "data": {
            "text/plain": [
              "6"
            ]
          },
          "metadata": {},
          "execution_count": 14
        }
      ],
      "source": [
        "#Multiplicación\n",
        "3 * 2"
      ]
    },
    {
      "cell_type": "code",
      "execution_count": null,
      "metadata": {
        "id": "1LD_hBirWYF8",
        "outputId": "9ca14ed8-b988-4884-f2b3-cfcd1a560d08",
        "colab": {
          "base_uri": "https://localhost:8080/"
        }
      },
      "outputs": [
        {
          "output_type": "execute_result",
          "data": {
            "text/plain": [
              "1.5"
            ]
          },
          "metadata": {},
          "execution_count": 15
        }
      ],
      "source": [
        "# División\n",
        "3 / 2"
      ]
    },
    {
      "cell_type": "code",
      "execution_count": null,
      "metadata": {
        "id": "wgkr_RL3WbkS",
        "outputId": "129522d4-e1c8-4512-99ce-f28252f35936",
        "colab": {
          "base_uri": "https://localhost:8080/"
        }
      },
      "outputs": [
        {
          "output_type": "execute_result",
          "data": {
            "text/plain": [
              "1"
            ]
          },
          "metadata": {},
          "execution_count": 16
        }
      ],
      "source": [
        "# División entera (elimina residuo)\n",
        "3 // 2"
      ]
    },
    {
      "cell_type": "code",
      "execution_count": null,
      "metadata": {
        "colab": {
          "base_uri": "https://localhost:8080/"
        },
        "id": "2F03PvwCWoZo",
        "outputId": "38d748f3-3db7-4bd4-dcbc-1b6462c85dbb"
      },
      "outputs": [
        {
          "output_type": "execute_result",
          "data": {
            "text/plain": [
              "9"
            ]
          },
          "metadata": {},
          "execution_count": 17
        }
      ],
      "source": [
        "# Potencia. Equivalente a pow(3,2)\n",
        "3 ** 2"
      ]
    },
    {
      "cell_type": "code",
      "source": [
        "print(pow(3,2))"
      ],
      "metadata": {
        "id": "PAIIRWcUWgeZ",
        "outputId": "8ba734d0-ebb8-4064-a9ea-9f546466e48b",
        "colab": {
          "base_uri": "https://localhost:8080/"
        }
      },
      "execution_count": null,
      "outputs": [
        {
          "output_type": "stream",
          "name": "stdout",
          "text": [
            "9\n"
          ]
        }
      ]
    },
    {
      "cell_type": "code",
      "execution_count": null,
      "metadata": {
        "colab": {
          "base_uri": "https://localhost:8080/"
        },
        "id": "_FYd0vk6W42E",
        "outputId": "514eec20-5f1c-4217-f561-de2f911f6b73"
      },
      "outputs": [
        {
          "output_type": "execute_result",
          "data": {
            "text/plain": [
              "0"
            ]
          },
          "metadata": {},
          "execution_count": 24
        }
      ],
      "source": [
        "# Residuo   5 % 2 =  1\n",
        "12 % 2"
      ]
    },
    {
      "cell_type": "markdown",
      "metadata": {
        "id": "wrUnqCRuXLpe"
      },
      "source": [
        "### Funciones numéricas"
      ]
    },
    {
      "cell_type": "code",
      "execution_count": null,
      "metadata": {
        "colab": {
          "base_uri": "https://localhost:8080/"
        },
        "id": "wL445w35XR9r",
        "outputId": "22d95e0b-694a-44e1-c037-b67426eae31a"
      },
      "outputs": [
        {
          "output_type": "execute_result",
          "data": {
            "text/plain": [
              "3.1416"
            ]
          },
          "metadata": {},
          "execution_count": 26
        }
      ],
      "source": [
        "round(3.14159265,4)"
      ]
    },
    {
      "cell_type": "code",
      "execution_count": null,
      "metadata": {
        "colab": {
          "base_uri": "https://localhost:8080/"
        },
        "id": "qzxK1R07XhSO",
        "outputId": "f310efd4-4913-4c67-e9f7-7d002c956aa3"
      },
      "outputs": [
        {
          "output_type": "execute_result",
          "data": {
            "text/plain": [
              "11"
            ]
          },
          "metadata": {},
          "execution_count": 27
        }
      ],
      "source": [
        "max(-4,7,9,11,3)"
      ]
    },
    {
      "cell_type": "code",
      "execution_count": null,
      "metadata": {
        "colab": {
          "base_uri": "https://localhost:8080/"
        },
        "id": "E5b7LIBIXoB-",
        "outputId": "dadafedf-38a8-4b36-c79e-a3a34d5892f6"
      },
      "outputs": [
        {
          "output_type": "execute_result",
          "data": {
            "text/plain": [
              "-4"
            ]
          },
          "metadata": {},
          "execution_count": 28
        }
      ],
      "source": [
        "min(-4,7,9,11,3)"
      ]
    },
    {
      "cell_type": "code",
      "execution_count": null,
      "metadata": {
        "colab": {
          "base_uri": "https://localhost:8080/",
          "height": 35
        },
        "id": "bc5YyLBCXuQn",
        "outputId": "9786e6f1-960f-47be-d060-cafc0a49919a"
      },
      "outputs": [
        {
          "output_type": "execute_result",
          "data": {
            "text/plain": [
              "'0b110110000000'"
            ],
            "application/vnd.google.colaboratory.intrinsic+json": {
              "type": "string"
            }
          },
          "metadata": {},
          "execution_count": 29
        }
      ],
      "source": [
        "bin(3456)"
      ]
    },
    {
      "cell_type": "code",
      "execution_count": null,
      "metadata": {
        "colab": {
          "base_uri": "https://localhost:8080/"
        },
        "id": "VrTTo1ypYB85",
        "outputId": "46900b46-8fc5-44c5-88fa-def57de1c27c"
      },
      "outputs": [
        {
          "output_type": "execute_result",
          "data": {
            "text/plain": [
              "5"
            ]
          },
          "metadata": {},
          "execution_count": 30
        }
      ],
      "source": [
        "int(\"5\")"
      ]
    },
    {
      "cell_type": "code",
      "execution_count": null,
      "metadata": {
        "colab": {
          "base_uri": "https://localhost:8080/"
        },
        "id": "xVT5hs9XYJa8",
        "outputId": "42031926-1763-48d0-95f5-b75c802fec18"
      },
      "outputs": [
        {
          "output_type": "execute_result",
          "data": {
            "text/plain": [
              "3.1415"
            ]
          },
          "metadata": {},
          "execution_count": 33
        }
      ],
      "source": [
        "float(\"3.1415\")"
      ]
    },
    {
      "cell_type": "markdown",
      "metadata": {
        "id": "BeKVy2OI24Wl"
      },
      "source": [
        "## Strings `str`\n",
        "Un string es una secuencia de caracteres.\n",
        "\n",
        "* Toda secuencia de caracteres rodeada entre comillas (`\"`o `'`)se considera un string en Python.\n",
        "* Si una secuencia de caracteres no se encuentra rodeado de comillas no podrá ser interpretado como string.\n",
        "* Una cadena puede tener cualquier longitud y puede contener letras, números, símbolos y espacios."
      ]
    },
    {
      "cell_type": "code",
      "execution_count": null,
      "metadata": {
        "colab": {
          "base_uri": "https://localhost:8080/"
        },
        "id": "Y4rpv4sfIDHr",
        "outputId": "a2ffd080-9a93-42d0-9594-a89b1d69e5cd"
      },
      "outputs": [
        {
          "output_type": "stream",
          "name": "stdout",
          "text": [
            "El invierno se acerca\n"
          ]
        }
      ],
      "source": [
        "cadena = \"El invierno se acerca\"\n",
        "print(cadena)"
      ]
    },
    {
      "cell_type": "markdown",
      "metadata": {
        "id": "sWRBWYPQLzzx"
      },
      "source": [
        "Podemos dividir una cadena de texto usando el caracter de salto de línea `\\n`."
      ]
    },
    {
      "cell_type": "code",
      "execution_count": null,
      "metadata": {
        "colab": {
          "base_uri": "https://localhost:8080/"
        },
        "id": "2PqrZkIbLzOf",
        "outputId": "56d21698-6002-4c30-83d2-484e3df1ef81"
      },
      "outputs": [
        {
          "output_type": "stream",
          "name": "stdout",
          "text": [
            "Esta es un cadena de texto \n",
            "dividida en dos líneas\n"
          ]
        }
      ],
      "source": [
        "print(\"Esta es un cadena de texto \\ndividida en dos líneas\")"
      ]
    },
    {
      "cell_type": "markdown",
      "metadata": {
        "id": "kYEygYPQL58P"
      },
      "source": [
        "O podemos utilizar las triples comillas dobles para indicar un texto en varias líneas."
      ]
    },
    {
      "cell_type": "code",
      "execution_count": null,
      "metadata": {
        "colab": {
          "base_uri": "https://localhost:8080/"
        },
        "id": "4du8AlJiIURS",
        "outputId": "fc32aac3-8291-4be2-8713-091f5816a7dd"
      },
      "outputs": [
        {
          "output_type": "stream",
          "name": "stdout",
          "text": [
            "primera linea\n",
            "segunda línea\n",
            "tercera línea\n",
            "esta es otra línea\n",
            "esta es otra línea\n",
            "esta es otra línea\n",
            "esta es otra línea\n",
            "esta es la línea final\n",
            "\n"
          ]
        }
      ],
      "source": [
        "linea = \"\"\"primera linea\n",
        "segunda línea\n",
        "tercera línea\n",
        "esta es otra línea\n",
        "esta es otra línea\n",
        "esta es otra línea\n",
        "esta es otra línea\n",
        "esta es la línea final\n",
        "\"\"\"\n",
        "print(linea)"
      ]
    },
    {
      "cell_type": "code",
      "execution_count": null,
      "metadata": {
        "id": "SkraMImrJ6fE"
      },
      "outputs": [],
      "source": [
        "cadena3 = \"Texto de prueba 4\""
      ]
    },
    {
      "cell_type": "code",
      "execution_count": null,
      "metadata": {
        "colab": {
          "base_uri": "https://localhost:8080/"
        },
        "id": "eBvrASKwJ-0f",
        "outputId": "62f7e1f8-59ca-4cff-a468-6f0eed317505"
      },
      "outputs": [
        {
          "output_type": "stream",
          "name": "stdout",
          "text": [
            "Texto de prueba 4\n"
          ]
        }
      ],
      "source": [
        "print(cadena3)"
      ]
    },
    {
      "cell_type": "markdown",
      "metadata": {
        "id": "V8eA29VVMEME"
      },
      "source": [
        "Podemos usar `len` para saber la longitud de una cadena."
      ]
    },
    {
      "cell_type": "code",
      "execution_count": null,
      "metadata": {
        "colab": {
          "base_uri": "https://localhost:8080/"
        },
        "id": "PdrTubnVMG8K",
        "outputId": "551b630b-dc31-4161-e9ea-acadc54030e4"
      },
      "outputs": [
        {
          "output_type": "stream",
          "name": "stdout",
          "text": [
            "46\n",
            "141\n"
          ]
        }
      ],
      "source": [
        "print(len(\"Hola amigos del Curso de introducción a Python\"))\n",
        "print(len(linea))"
      ]
    },
    {
      "cell_type": "markdown",
      "metadata": {
        "id": "88tC_oIXMbIv"
      },
      "source": [
        "Python permite replicar una cadena usando multiplicación."
      ]
    },
    {
      "cell_type": "code",
      "execution_count": null,
      "metadata": {
        "colab": {
          "base_uri": "https://localhost:8080/"
        },
        "id": "V6t5PnO8KWZu",
        "outputId": "8b3a11c1-4cc4-4833-fa2c-55f500db9c52"
      },
      "outputs": [
        {
          "output_type": "stream",
          "name": "stdout",
          "text": [
            "ja! ja! ja! ja! ja! \n"
          ]
        }
      ],
      "source": [
        "print(\"ja! \"*5)"
      ]
    },
    {
      "cell_type": "markdown",
      "metadata": {
        "id": "zyYBmQuhNRQi"
      },
      "source": [
        "Las cadenas son objetos tipo String y tienen varios métodos interesantes.\n",
        "\n",
        "\n",
        "**strip()**. Eliminado espacios al inicio y al final de una cadena."
      ]
    },
    {
      "cell_type": "code",
      "execution_count": null,
      "metadata": {
        "colab": {
          "base_uri": "https://localhost:8080/"
        },
        "id": "46QolM9VKuMS",
        "outputId": "a450235c-a946-41f1-9672-1cad5062e1a0"
      },
      "outputs": [
        {
          "output_type": "stream",
          "name": "stdout",
          "text": [
            "             Estudiantes del Curso de Introducción a Python\n",
            "<class 'str'>\n",
            "Estudiantes del Curso de Introducción a Python\n"
          ]
        }
      ],
      "source": [
        "cadena = \"             Estudiantes del Curso de Introducción a Python\"\n",
        "print(cadena)\n",
        "cadena = cadena.strip()\n",
        "print(type(cadena))\n",
        "print(cadena)"
      ]
    },
    {
      "cell_type": "markdown",
      "metadata": {
        "id": "4ZK6ASfnN2MU"
      },
      "source": [
        "**upper()**, **lower()**, **capitalize()** y **title()**. Convirtiendo a mayúsculas y minúsculas."
      ]
    },
    {
      "cell_type": "code",
      "execution_count": null,
      "metadata": {
        "colab": {
          "base_uri": "https://localhost:8080/"
        },
        "id": "a2rAtdNXgmkE",
        "outputId": "01ecb315-b03e-4c7d-b5f3-584e2eabe461"
      },
      "outputs": [
        {
          "output_type": "stream",
          "name": "stdout",
          "text": [
            "Estudiantes del Curso de Introducción a Python\n",
            "ESTUDIANTES DEL CURSO DE INTRODUCCIÓN A PYTHON\n"
          ]
        }
      ],
      "source": [
        "#Mayúsculas\n",
        "print(cadena)\n",
        "print(cadena.upper())"
      ]
    },
    {
      "cell_type": "code",
      "execution_count": null,
      "metadata": {
        "colab": {
          "base_uri": "https://localhost:8080/"
        },
        "id": "vQzND6E6N8I4",
        "outputId": "bc668dc1-202d-453d-c007-4b77f045d72b"
      },
      "outputs": [
        {
          "output_type": "stream",
          "name": "stdout",
          "text": [
            "Estudiantes del Curso de Introducción a Python\n",
            "estudiantes del curso de introducción a python\n"
          ]
        }
      ],
      "source": [
        "#Minúsculas\n",
        "print(cadena)\n",
        "print(cadena.lower())"
      ]
    },
    {
      "cell_type": "code",
      "execution_count": null,
      "metadata": {
        "colab": {
          "base_uri": "https://localhost:8080/"
        },
        "id": "c2pn_5g1N93P",
        "outputId": "646587e0-b8c6-480d-ccce-b37cb23524be"
      },
      "outputs": [
        {
          "output_type": "stream",
          "name": "stdout",
          "text": [
            "estudiantes del curso de introducción a python\n",
            "Estudiantes del curso de introducción a python\n"
          ]
        }
      ],
      "source": [
        "#Primera letra mayúscula\n",
        "cadena = cadena.lower()\n",
        "print(cadena)\n",
        "print(cadena.capitalize())"
      ]
    },
    {
      "cell_type": "code",
      "execution_count": null,
      "metadata": {
        "colab": {
          "base_uri": "https://localhost:8080/"
        },
        "id": "Gk3KYO9jOBNd",
        "outputId": "62802bf4-6ba2-4182-a073-c9a88dc7861c"
      },
      "outputs": [
        {
          "output_type": "stream",
          "name": "stdout",
          "text": [
            "estudiantes del curso de introducción a python\n",
            "Estudiantes Del Curso De Introducción A Python\n"
          ]
        }
      ],
      "source": [
        "#Primera letra mayúscula de cada palabra\n",
        "cadena = cadena.lower()\n",
        "print(cadena)\n",
        "print(cadena.title())"
      ]
    },
    {
      "cell_type": "markdown",
      "metadata": {
        "id": "vssLQlTSOHQ0"
      },
      "source": [
        "**find()** y **replace()**. Encontrar y sustituir una cadena dentro de otra cadena."
      ]
    },
    {
      "cell_type": "code",
      "execution_count": null,
      "metadata": {
        "colab": {
          "base_uri": "https://localhost:8080/"
        },
        "id": "KCzm3XsfP5is",
        "outputId": "f196db5a-7f34-4b88-ffc1-0f15c1a1877b"
      },
      "outputs": [
        {
          "output_type": "stream",
          "name": "stdout",
          "text": [
            "Dábale arroz a la zorra el abad\n",
            "7\n",
            "Dábale arroz a la ardilla el abad\n",
            "Dábale arroz a la zorra el abad\n"
          ]
        }
      ],
      "source": [
        "# Encontrar un cadena de texto dentro de otra.\n",
        "mensaje = \"Dábale arroz a la zorra el abad\"\n",
        "print(mensaje)\n",
        "# find() nos regresa el índice donde empieza el texto en caso de encontrarlo.\n",
        "# Regresa -1 si no lo encuentra\n",
        "print(mensaje.find(\"arroz\"))\n",
        "# replace() no modifica la cadena, regresa una cadena con el resultado.\n",
        "print(mensaje.replace(\"zorra\",\"ardilla\"))\n",
        "print(mensaje)"
      ]
    },
    {
      "cell_type": "markdown",
      "metadata": {
        "id": "DQ8b-lUgORqg"
      },
      "source": [
        "**center()**. Permite centrar un texto en la cadena generada por el caracter indicado y la longitud dada."
      ]
    },
    {
      "cell_type": "code",
      "execution_count": null,
      "metadata": {
        "colab": {
          "base_uri": "https://localhost:8080/"
        },
        "id": "hpLLy6ahOTxs",
        "outputId": "704f571d-a063-410e-94f8-12191dfe73da"
      },
      "outputs": [
        {
          "output_type": "stream",
          "name": "stdout",
          "text": [
            "            Cracks            \n",
            "************Messi*************\n",
            "###########Ronaldo############\n"
          ]
        }
      ],
      "source": [
        "nombre=\"Messi\"\n",
        "nombre1=\"Ronaldo\"\n",
        "print(\"Cracks\".center(30,\" \"))\n",
        "print(nombre.center(30,\"*\"))\n",
        "print(nombre1.center(30,\"#\"))"
      ]
    },
    {
      "cell_type": "code",
      "source": [
        "print(cadena.split())"
      ],
      "metadata": {
        "id": "pQ9nuEAifHnD",
        "outputId": "c1e57d2b-9644-4831-b12a-bb1a04c92843",
        "colab": {
          "base_uri": "https://localhost:8080/"
        }
      },
      "execution_count": null,
      "outputs": [
        {
          "output_type": "stream",
          "name": "stdout",
          "text": [
            "['estudiantes', 'del', 'curso', 'de', 'introducción', 'a', 'python']\n"
          ]
        }
      ]
    },
    {
      "cell_type": "markdown",
      "metadata": {
        "id": "M76606yWR6dQ"
      },
      "source": [
        "### *String Slicing*\n",
        "En ocasiones, ocupamos acceder a una parte de la cadena. En Python a esto se le llama *slicing*.\n"
      ]
    },
    {
      "cell_type": "code",
      "execution_count": null,
      "metadata": {
        "colab": {
          "base_uri": "https://localhost:8080/"
        },
        "id": "LrtAGl4gSQz9",
        "outputId": "041371e8-9b8e-4b86-eb19-5e98ea267192"
      },
      "outputs": [
        {
          "output_type": "stream",
          "name": "stdout",
          "text": [
            "M\n",
            "é\n",
            "x\n"
          ]
        }
      ],
      "source": [
        "Pais=\"México\"\n",
        "print(Pais[0])\n",
        "print(Pais[1])\n",
        "print(Pais[2])"
      ]
    },
    {
      "cell_type": "markdown",
      "metadata": {
        "id": "n-Uq70fASt18"
      },
      "source": [
        "Python puede contar de izquierda a derecha (empezando en `0`) y de derecha a izquierda (empezando con `-1`)\n",
        "\n",
        "```C\n",
        "S   I   N   A   L   O   A\n",
        "0   1   2   3   4   5   6\n",
        "-7 -6  -5  -4  -3  -2  -1\n",
        "```"
      ]
    },
    {
      "cell_type": "code",
      "execution_count": null,
      "metadata": {
        "colab": {
          "base_uri": "https://localhost:8080/"
        },
        "id": "Akd8yD8mTgB9",
        "outputId": "cb8f9db6-20a9-4945-831a-cdac45990826"
      },
      "outputs": [
        {
          "output_type": "stream",
          "name": "stdout",
          "text": [
            "A\n",
            "O\n",
            "L\n",
            "A\n",
            "N\n",
            "I\n",
            "S\n"
          ]
        }
      ],
      "source": [
        "estado = \"SINALOA\"\n",
        "print(estado[-1])\n",
        "print(estado[-2])\n",
        "print(estado[-3])\n",
        "print(estado[-4])\n",
        "print(estado[-5])\n",
        "print(estado[-6])\n",
        "print(estado[-7])"
      ]
    },
    {
      "cell_type": "markdown",
      "metadata": {
        "id": "IDf_OeLkOiT-"
      },
      "source": [
        "Podemos hacer slicing usando un inicio y un fin.\n",
        "\n",
        "```python\n",
        "\"slicing\"[ini:fin]\n",
        "```\n",
        "ini = índice de inicio\n",
        "fin = se usa para calcular el índice final, que es igual a fin-1."
      ]
    },
    {
      "cell_type": "code",
      "execution_count": null,
      "metadata": {
        "colab": {
          "base_uri": "https://localhost:8080/"
        },
        "id": "xYKxlbzmUm2-",
        "outputId": "ac9a0381-f44a-4dc3-92bb-3fc078733e62"
      },
      "outputs": [
        {
          "output_type": "stream",
          "name": "stdout",
          "text": [
            "SINALOA\n",
            "SIN\n",
            "LOA\n"
          ]
        }
      ],
      "source": [
        "print(estado)\n",
        "print(estado[0:3])\n",
        "print(estado[4:7])"
      ]
    },
    {
      "cell_type": "markdown",
      "metadata": {
        "id": "ZZe4WGVSVB1h"
      },
      "source": [
        "En general, se puede hacer el *slice* de un string en cualquiera de las siguientes maneras\n",
        "```python\n",
        "\"slicing\"[ini:fin] # Del índice *ini* hasta el índice *fin - 1*\n",
        "\"slicing\"[ini:]    # Del índice *ini* hasta el fin del string\n",
        "\"slicing\"[:fin]    # Del inicio del string hasta  *fin - 1*\n",
        "\"slicing\"[:]       # Una copia del string\n",
        "```"
      ]
    },
    {
      "cell_type": "code",
      "execution_count": null,
      "metadata": {
        "colab": {
          "base_uri": "https://localhost:8080/"
        },
        "id": "Rw8Q2jdIVGtJ",
        "outputId": "c6248c96-ae78-45bf-85ba-6df4da63b478"
      },
      "outputs": [
        {
          "output_type": "stream",
          "name": "stdout",
          "text": [
            "Py\n",
            "Py\n"
          ]
        }
      ],
      "source": [
        "leng = \"Python\"\n",
        "print(leng[:-4])\n",
        "print(leng[:2])"
      ]
    },
    {
      "cell_type": "code",
      "execution_count": null,
      "metadata": {
        "colab": {
          "base_uri": "https://localhost:8080/"
        },
        "id": "pbAysLhwMtmT",
        "outputId": "bb536eee-18ab-450e-c4ea-d6914620178b"
      },
      "outputs": [
        {
          "output_type": "stream",
          "name": "stdout",
          "text": [
            "Python\n"
          ]
        }
      ],
      "source": [
        "leng2 = leng[:]\n",
        "print(leng2)"
      ]
    },
    {
      "cell_type": "code",
      "source": [
        "var1 = \"Hola\"\n",
        "var2 = var1\n",
        "print(var1)\n",
        "print(var2)"
      ],
      "metadata": {
        "id": "fZTTA3Lkhggc",
        "outputId": "d125f97b-847a-4c43-99c1-4e3fea0261c9",
        "colab": {
          "base_uri": "https://localhost:8080/"
        }
      },
      "execution_count": null,
      "outputs": [
        {
          "output_type": "stream",
          "name": "stdout",
          "text": [
            "Hola\n",
            "Hola\n"
          ]
        }
      ]
    },
    {
      "cell_type": "code",
      "source": [
        "var2 = \"Mundo\"\n",
        "print(var1)\n",
        "print(var2)"
      ],
      "metadata": {
        "id": "vIEtCtC8hoep",
        "outputId": "de71337d-9e4a-481e-91fc-3e4c1dcb9645",
        "colab": {
          "base_uri": "https://localhost:8080/"
        }
      },
      "execution_count": null,
      "outputs": [
        {
          "output_type": "stream",
          "name": "stdout",
          "text": [
            "Hola\n",
            "Mundo\n"
          ]
        }
      ]
    },
    {
      "cell_type": "markdown",
      "metadata": {
        "id": "g8dt7R2VPG1x"
      },
      "source": [
        "### Las cadenas de caracteres son inmutables\n",
        "Hemos estado seleccionando caracteres de cadenas, cortando cadenas y concatenando cadenas. Cada vez que realizamos una de estas operaciones, estamos creando una cadena completamente nueva.\n",
        "\n",
        "Esto se debe a que las cadenas son **inmutables**. Esto significa que **no podemos cambiar una cadena una vez creada**. Podemos usarla para crear otras cadenas, pero no podemos cambiar la cadena en sí."
      ]
    },
    {
      "cell_type": "code",
      "execution_count": null,
      "metadata": {
        "id": "Jad2DVWzPI1u",
        "outputId": "1c4fc977-ee36-4423-9693-e00037e3ff5f",
        "colab": {
          "base_uri": "https://localhost:8080/",
          "height": 193
        }
      },
      "outputs": [
        {
          "output_type": "stream",
          "name": "stdout",
          "text": [
            "B\n"
          ]
        },
        {
          "output_type": "error",
          "ename": "TypeError",
          "evalue": "'str' object does not support item assignment",
          "traceback": [
            "\u001b[0;31m---------------------------------------------------------------------------\u001b[0m",
            "\u001b[0;31mTypeError\u001b[0m                                 Traceback (most recent call last)",
            "\u001b[0;32m<ipython-input-69-ed46488de9ba>\u001b[0m in \u001b[0;36m<cell line: 4>\u001b[0;34m()\u001b[0m\n\u001b[1;32m      2\u001b[0m \u001b[0mnombre\u001b[0m \u001b[0;34m=\u001b[0m \u001b[0;34m\"Bob\"\u001b[0m\u001b[0;34m\u001b[0m\u001b[0;34m\u001b[0m\u001b[0m\n\u001b[1;32m      3\u001b[0m \u001b[0mprint\u001b[0m\u001b[0;34m(\u001b[0m\u001b[0mnombre\u001b[0m\u001b[0;34m[\u001b[0m\u001b[0;36m0\u001b[0m\u001b[0;34m]\u001b[0m\u001b[0;34m)\u001b[0m\u001b[0;34m\u001b[0m\u001b[0;34m\u001b[0m\u001b[0m\n\u001b[0;32m----> 4\u001b[0;31m \u001b[0mnombre\u001b[0m\u001b[0;34m[\u001b[0m\u001b[0;36m0\u001b[0m\u001b[0;34m]\u001b[0m \u001b[0;34m=\u001b[0m \u001b[0;34m\"R\"\u001b[0m\u001b[0;34m\u001b[0m\u001b[0;34m\u001b[0m\u001b[0m\n\u001b[0m",
            "\u001b[0;31mTypeError\u001b[0m: 'str' object does not support item assignment"
          ]
        }
      ],
      "source": [
        "# No podemos cambiar una cadena\n",
        "nombre = \"Bob\"\n",
        "print(nombre[0])\n",
        "nombre[0] = \"R\""
      ]
    },
    {
      "cell_type": "code",
      "execution_count": null,
      "metadata": {
        "id": "hVUIhGl3PLbE"
      },
      "outputs": [],
      "source": [
        "# Aunque usamos el mismo nombre de variable en realidad es una nueva cadena con una nueva dirección de memoria.\n",
        "nombre = \"Rob\""
      ]
    },
    {
      "cell_type": "markdown",
      "metadata": {
        "id": "3EtvvMXStG84"
      },
      "source": [
        "### Formateo de cadenas de caracteres\n",
        "En ocasiones, es deseable tener un string modelo sobre el cuál mostrar el valor de variables.  \n",
        "Consideremos las variables `nombre` y `apellido` y supongamos que deseamos imprimir en la consola\n",
        "```python\n",
        "\"Hola, <nombre>. Te apellidas <apellido>\"\n",
        "```\n",
        "¿De qué manera podemos hacer esto en Python?"
      ]
    },
    {
      "cell_type": "code",
      "execution_count": null,
      "metadata": {
        "id": "GpCDPO9qxN1E"
      },
      "outputs": [],
      "source": [
        "nombre = \"Julio\"\n",
        "apellido = \"Verne\""
      ]
    },
    {
      "cell_type": "code",
      "execution_count": null,
      "metadata": {
        "colab": {
          "base_uri": "https://localhost:8080/"
        },
        "id": "-lJai6C3tISt",
        "outputId": "96301b13-9573-41e7-9044-02143057bac0"
      },
      "outputs": [
        {
          "output_type": "stream",
          "name": "stdout",
          "text": [
            "Hola, Julio. Te apellidas Verne.\n"
          ]
        }
      ],
      "source": [
        "# V.01: Usando Print y dividir los valores a imprimir en varios argumentos.\n",
        "# Desventaja: Si quitamos 'print', el resultado no es un string.\n",
        "print(\"Hola, \", nombre, \". Te apellidas \", apellido, \".\",sep=\"\")"
      ]
    },
    {
      "cell_type": "code",
      "execution_count": null,
      "metadata": {
        "colab": {
          "base_uri": "https://localhost:8080/"
        },
        "id": "olz6DTd4xS_1",
        "outputId": "d51f5137-baf3-46b9-cf80-4c5e03c5d210"
      },
      "outputs": [
        {
          "output_type": "stream",
          "name": "stdout",
          "text": [
            "Hola, Julio. Te apellidas Verne.\n"
          ]
        }
      ],
      "source": [
        "# V.02: Usando dividir los valores a imprimir y agruparlos por medio de \"+\"\n",
        "print(\"Hola, \" + nombre + \". Te apellidas \" + apellido + \".\")"
      ]
    },
    {
      "cell_type": "code",
      "execution_count": null,
      "metadata": {
        "colab": {
          "base_uri": "https://localhost:8080/"
        },
        "id": "2Gzyk2QvxZwp",
        "outputId": "5b2b4e95-6d61-44d7-c347-c4dd8bdfe196"
      },
      "outputs": [
        {
          "output_type": "stream",
          "name": "stdout",
          "text": [
            "Hola, Julio. Te apellidas Verne\n"
          ]
        }
      ],
      "source": [
        "# V.03.1: Usando el método `.format`\n",
        "# Opcionalmente, podemos asignar variables (por definir) dentro de las llaves.\n",
        "# Esto último proporciona mayor legilibilidad al leer el código\n",
        "nombre = \"Julio\"\n",
        "apellido = \"Verne\"\n",
        "print(\"Hola, {}. Te apellidas {}\".format(nombre,apellido))\n",
        "#print(\"Hola, {nombre}. Te apellidas {apellido}\".format(nombre=\"Jose\", apellido=\"Lopez\"))"
      ]
    },
    {
      "cell_type": "code",
      "execution_count": null,
      "metadata": {
        "colab": {
          "base_uri": "https://localhost:8080/"
        },
        "id": "zjvyck3TP34m",
        "outputId": "fdf6f4ab-4278-4f73-ea06-e15ff4e7c35c"
      },
      "outputs": [
        {
          "output_type": "stream",
          "name": "stdout",
          "text": [
            "$600,000\n"
          ]
        }
      ],
      "source": [
        "# Formato de miles\n",
        "valor = 600000\n",
        "dinero = '${:,}'.format(valor)\n",
        "print(dinero)\n",
        "# resultado => 600,000"
      ]
    },
    {
      "cell_type": "markdown",
      "metadata": {
        "id": "M91UihEiQEDS"
      },
      "source": [
        "Para saber más sobre el uso de format.\n",
        "\n",
        "Si deseas profundizar en el uso de formatos en cadenas, visita: https://pyformat.info/"
      ]
    },
    {
      "cell_type": "code",
      "execution_count": null,
      "metadata": {
        "colab": {
          "base_uri": "https://localhost:8080/"
        },
        "id": "m3nfjGNqxeav",
        "outputId": "1f2d994e-4d70-4285-af2f-499b469d812d"
      },
      "outputs": [
        {
          "output_type": "stream",
          "name": "stdout",
          "text": [
            "Hola, Julio. Te apellidas Verne\n"
          ]
        }
      ],
      "source": [
        "# V.04: f-string.\n",
        "# Si agregamos una 'f', un string con corchetes adentro\n",
        "# evalua la expresión dentro de ellos (Python 3.6 en adelante)\n",
        "print(f\"Hola, {nombre}. Te apellidas {apellido}\")"
      ]
    },
    {
      "cell_type": "code",
      "execution_count": null,
      "metadata": {
        "colab": {
          "base_uri": "https://localhost:8080/"
        },
        "id": "2hpOxxvGxh5v",
        "outputId": "6e78a0d2-0b70-452f-d0ee-29b07ec3b1fa"
      },
      "outputs": [
        {
          "output_type": "stream",
          "name": "stdout",
          "text": [
            "2 + 5 = 7\n"
          ]
        }
      ],
      "source": [
        "# Un f-string puede evaluar cualquier expresión dentro de las llaves {}\n",
        "num1 = 2\n",
        "num2 = 5\n",
        "print(f\"{num1} + {num2} = {num1 + num2}\")"
      ]
    },
    {
      "cell_type": "markdown",
      "metadata": {
        "id": "MnQOHuz2xlU8"
      },
      "source": [
        "### Entrada de datos vía teclado\n",
        "Podemos asignarle el valor a una variable solicitándoselo al usuario por medio de la función `input`\n",
        "\n",
        "```python\n",
        "var = input(\"Mensaje al usuario\")\n",
        "```\n",
        "\n",
        "Por *default*, el resultado de un `input` es de tipo `str`."
      ]
    },
    {
      "cell_type": "code",
      "execution_count": null,
      "metadata": {
        "colab": {
          "base_uri": "https://localhost:8080/"
        },
        "id": "7JXo_Lknx8tX",
        "outputId": "9af70d45-a9b1-4038-afec-89ed06b8a64d"
      },
      "outputs": [
        {
          "output_type": "stream",
          "name": "stdout",
          "text": [
            "¿Cuál es tu nombre? Víctor\n",
            "¿Cuál es tu edad en años? 50\n",
            "Hola Víctor, tienes, 50 años, quiere decir que has vivido 18250 días aproximadamente.\n"
          ]
        }
      ],
      "source": [
        "nombre = input(\"¿Cuál es tu nombre? \")\n",
        "edad = int(input(\"¿Cuál es tu edad en años? \")) #float si queremos covertirlo a número real\n",
        "print(f\"Hola {nombre}, tienes, {edad} años, quiere decir que has vivido {edad*365} días aproximadamente.\")"
      ]
    },
    {
      "cell_type": "markdown",
      "source": [
        "### Realizar un programa que calcule el área de un círculo con base en el radio proporcionado por el usuario."
      ],
      "metadata": {
        "id": "IPRCFKIomLct"
      }
    },
    {
      "cell_type": "code",
      "source": [
        "#Solicitamos al usuario el radio del círculo\n",
        "radio = input(\"Dame el radio del círculo: \")\n",
        "radio = float(radio) #convertimos a real la entrada del usuario\n",
        "area = 3.1416 * (radio**2)\n",
        "print(f\"El círculo con radio: {radio} tiene un área de {area}\")"
      ],
      "metadata": {
        "id": "nRtY914uk1t1",
        "outputId": "3f41b3b2-aec4-4860-a01c-a822547c7def",
        "colab": {
          "base_uri": "https://localhost:8080/"
        }
      },
      "execution_count": null,
      "outputs": [
        {
          "output_type": "stream",
          "name": "stdout",
          "text": [
            "Dame el radio del círculo: 2\n",
            "El círculo con radio: 2.0 tiene un área de 12.5664\n"
          ]
        }
      ]
    }
  ],
  "metadata": {
    "colab": {
      "provenance": []
    },
    "kernelspec": {
      "display_name": "Python 3",
      "name": "python3"
    }
  },
  "nbformat": 4,
  "nbformat_minor": 0
}