{
  "cells": [
    {
      "cell_type": "markdown",
      "metadata": {
        "id": "cYy-XmgHynsL"
      },
      "source": [
        "# Estadística básica con Numpy\n",
        "\n",
        "En esta sesión analizaremos elementos básicos de estadística con **Numpy**.\n",
        "\n",
        "`NumPy` es el paquete fundamental para la computación científica en Python. Según Wikipedia, NumPy es una biblioteca para el lenguaje de programación Python que da soporte para crear vectores y matrices grandes multidimensionales, junto con una gran colección de funciones matemáticas de alto nivel para operar con ellas.\n",
        "\n",
        "La documentación de la biblioteca puede consultarse [aquí](https://numpy.org/).\n",
        "W3Schools ofrece también un excelente sitio de referencia sobre la biblioteca, puedes consultarlo [aquí](https://www.w3schools.com/python/numpy/)."
      ]
    },
    {
      "cell_type": "code",
      "execution_count": null,
      "metadata": {
        "id": "wTU3wNcXxkf4"
      },
      "outputs": [],
      "source": [
        "#Para instalar Numpy usar el siguiente código. No es necesario en Google Colab\n",
        "!pip install numpy"
      ]
    },
    {
      "cell_type": "code",
      "execution_count": null,
      "metadata": {
        "colab": {
          "base_uri": "https://localhost:8080/"
        },
        "id": "bV8Vp0MTdI4W",
        "outputId": "7703a883-d6a4-41d0-dc2e-f107f061686d"
      },
      "outputs": [],
      "source": [
        "!ls"
      ]
    },
    {
      "cell_type": "code",
      "execution_count": null,
      "metadata": {
        "id": "JkbACJHNy3m5"
      },
      "outputs": [],
      "source": [
        "import numpy as np   #Operaciones con matrices de datos\n",
        "import pandas as pd #Trabajando con datos\n",
        "import matplotlib.pyplot as plt # Visualización de datos\n",
        "import seaborn as sns # Visualización de datos"
      ]
    },
    {
      "cell_type": "markdown",
      "metadata": {
        "id": "tvExA_Mr05uT"
      },
      "source": [
        "En esta sesión cubriremos los siguientes conceptos de estadística:\n",
        "\n",
        "1. Media\n",
        "2. Mediana\n",
        "3. Percentiles\n",
        "4. Rango intercuartil\n",
        "5. Valores atípicos\n",
        "6. Desviación estándar"
      ]
    },
    {
      "cell_type": "markdown",
      "metadata": {
        "id": "Js4Wzq8-37TC"
      },
      "source": [
        "## Cargando el dataset\n",
        "Utilizaremos el dataset de la información del Titanic."
      ]
    },
    {
      "cell_type": "code",
      "execution_count": null,
      "metadata": {
        "colab": {
          "base_uri": "https://localhost:8080/"
        },
        "id": "pNRX2nq111w8",
        "outputId": "37344076-b6f7-46c6-e09b-7447c4bc5d97"
      },
      "outputs": [],
      "source": [
        "!wget --no-check-certificate https://catalabs.mx/datasets/titanic.csv -O titanic.csv"
      ]
    },
    {
      "cell_type": "code",
      "execution_count": null,
      "metadata": {
        "id": "GMoRgYyi7Zl5"
      },
      "outputs": [],
      "source": [
        "df_titanic = pd.read_csv('titanic.csv') #Creamos el dataframe"
      ]
    },
    {
      "cell_type": "markdown",
      "metadata": {
        "id": "mWpm_DTMDo7N"
      },
      "source": [
        "## Explorando el Dataset"
      ]
    },
    {
      "cell_type": "code",
      "execution_count": null,
      "metadata": {
        "colab": {
          "base_uri": "https://localhost:8080/",
          "height": 241
        },
        "id": "t5i30Zol8R7p",
        "outputId": "76dd597a-4dce-47de-99f1-ebd437b7588c"
      },
      "outputs": [],
      "source": [
        "df_titanic.head()"
      ]
    },
    {
      "cell_type": "code",
      "execution_count": null,
      "metadata": {
        "colab": {
          "base_uri": "https://localhost:8080/",
          "height": 206
        },
        "id": "Fbui57TD8mfL",
        "outputId": "23e6fb92-176b-4ad2-a2f0-526225f3267e"
      },
      "outputs": [],
      "source": [
        "df_titanic.tail()"
      ]
    },
    {
      "cell_type": "markdown",
      "metadata": {
        "id": "bMalHjKgDt0v"
      },
      "source": [
        "## Analizando los datos"
      ]
    },
    {
      "cell_type": "code",
      "execution_count": null,
      "metadata": {
        "colab": {
          "base_uri": "https://localhost:8080/",
          "height": 300
        },
        "id": "hHMZQsGk9Yji",
        "outputId": "a5e221d9-d125-48f0-bfd3-42af6a1a047b"
      },
      "outputs": [],
      "source": [
        "df_titanic.describe()"
      ]
    },
    {
      "cell_type": "code",
      "execution_count": null,
      "metadata": {
        "colab": {
          "base_uri": "https://localhost:8080/"
        },
        "id": "BrRtSZOg-ycJ",
        "outputId": "24178a05-df99-4d11-f204-e707fce8ea80"
      },
      "outputs": [],
      "source": [
        "df_titanic.Age.describe()"
      ]
    },
    {
      "cell_type": "code",
      "execution_count": null,
      "metadata": {
        "colab": {
          "base_uri": "https://localhost:8080/"
        },
        "id": "L1XxTL_J_Z5C",
        "outputId": "60daa3e2-f2b5-4077-a63c-e4bedc9cb266"
      },
      "outputs": [],
      "source": [
        "print(29.7+3*14.52)"
      ]
    },
    {
      "cell_type": "code",
      "execution_count": null,
      "metadata": {
        "colab": {
          "base_uri": "https://localhost:8080/",
          "height": 601
        },
        "id": "bhNlJIhe_6gz",
        "outputId": "e267c71d-a73c-42fa-d4f7-b2420ef061d6"
      },
      "outputs": [],
      "source": [
        "# Fija el ancho y alto de la figura\n",
        "plt.figure(figsize=(14,6))\n",
        "# Agrega título\n",
        "plt.title(\"Edades de los pasajeros\")\n",
        "#sns.lineplot(data=df_titanic.Age)\n",
        "sns.scatterplot(data=df_titanic.Age)\n",
        "plt.xlabel(\"Id de Pasajero\")\n",
        "plt.ylabel(\"Edad\")"
      ]
    },
    {
      "cell_type": "code",
      "execution_count": null,
      "metadata": {
        "colab": {
          "base_uri": "https://localhost:8080/",
          "height": 428
        },
        "id": "YKSS9DZZa1wj",
        "outputId": "5e462783-632b-4c76-d630-1a0f1852af8e"
      },
      "outputs": [],
      "source": [
        "sns.boxplot(data=df_titanic.Age)"
      ]
    },
    {
      "cell_type": "markdown",
      "metadata": {
        "id": "P05XbrUaa1wj"
      },
      "source": [
        "### Histogramas\n",
        "\n",
        "Cuando analizamos por primera vez un conjunto de datos, queremos ser capaces de entender rápidamente ciertas cosas sobre él:\n",
        "\n",
        "- ¿Existen algunos valores más frecuentes que otros?\n",
        "- ¿Cuál es el rango del conjunto de datos (es decir, los valores mínimos y máximos)?\n",
        "- ¿Hay muchos valores atípicos?\n",
        "\n",
        "Podemos visualizar esta información mediante un gráfico llamado histograma."
      ]
    },
    {
      "cell_type": "code",
      "execution_count": null,
      "metadata": {
        "colab": {
          "base_uri": "https://localhost:8080/",
          "height": 466
        },
        "id": "LKaHS2mHDgQS",
        "outputId": "ae43c791-3113-4070-9c60-10b44389d2e2"
      },
      "outputs": [],
      "source": [
        "sns.histplot(x=df_titanic.Age)"
      ]
    },
    {
      "cell_type": "code",
      "execution_count": null,
      "metadata": {
        "colab": {
          "base_uri": "https://localhost:8080/",
          "height": 466
        },
        "id": "sy3AjqzMFgKa",
        "outputId": "923b16f3-3bf0-4131-f3cd-750c719cc787"
      },
      "outputs": [],
      "source": [
        "sns.barplot(x=df_titanic.Pclass, y=df_titanic.Age)"
      ]
    },
    {
      "cell_type": "markdown",
      "metadata": {
        "id": "SEubrB9_EFOc"
      },
      "source": [
        "Para empezar, analizaremos conjuntos de datos de una sola variable. Una forma de pensar en un conjunto de datos de una sola variable es que contiene respuestas a una pregunta. Por ejemplo, podemos preguntar a 100 personas: \"¿Cuánto años tienes?\". Las edades formarían nuestro conjunto de datos. Obtengamos entonces la columna de las edades de los pasajeros del Titanic:"
      ]
    },
    {
      "cell_type": "code",
      "execution_count": null,
      "metadata": {
        "colab": {
          "base_uri": "https://localhost:8080/"
        },
        "id": "lmBbl0xiGpvp",
        "outputId": "dee07abf-a045-48ca-facc-2730fb4268b7"
      },
      "outputs": [],
      "source": [
        "edades = df_titanic.Age\n",
        "edades.head(20)"
      ]
    },
    {
      "cell_type": "markdown",
      "metadata": {
        "id": "7i56Sf0wExZk"
      },
      "source": [
        "En la salida anterior podemos observar algunos valores con la leyenda NaN (Not a Number) eso indica la ausencia de datos (dato nulo) en Python."
      ]
    },
    {
      "cell_type": "code",
      "execution_count": null,
      "metadata": {
        "colab": {
          "base_uri": "https://localhost:8080/"
        },
        "id": "v4mHuFL0Hjao",
        "outputId": "be82dcff-ce09-4723-9c4d-f1738e8546b4"
      },
      "outputs": [],
      "source": [
        "#Revisamos la forma del dataframe. shape nos indica el número de renglones y columnas del conjunto de datos.\n",
        "df_titanic.shape"
      ]
    },
    {
      "cell_type": "code",
      "execution_count": null,
      "metadata": {
        "colab": {
          "base_uri": "https://localhost:8080/"
        },
        "id": "5jwB3MPbHiwp",
        "outputId": "31179dc3-c778-4bc1-ef91-db08051b5f53"
      },
      "outputs": [],
      "source": [
        "edades.shape"
      ]
    },
    {
      "cell_type": "markdown",
      "metadata": {
        "id": "vl9YxtlJIOHv"
      },
      "source": [
        "### Eliminamos valores nulos"
      ]
    },
    {
      "cell_type": "code",
      "execution_count": null,
      "metadata": {
        "id": "NW0sm9gFIMRp"
      },
      "outputs": [],
      "source": [
        "edades = edades.dropna()"
      ]
    },
    {
      "cell_type": "code",
      "execution_count": null,
      "metadata": {
        "colab": {
          "base_uri": "https://localhost:8080/"
        },
        "id": "HomIAmJkImAk",
        "outputId": "b92228bd-4cb4-47eb-bcb5-065b7de1c660"
      },
      "outputs": [],
      "source": [
        "edades.head(20)"
      ]
    },
    {
      "cell_type": "markdown",
      "metadata": {
        "id": "H8tMSgL1if1L"
      },
      "source": [
        "Convertimos el Dataframe resultante a un arreglo de Numpy para trabajar con él."
      ]
    },
    {
      "cell_type": "code",
      "execution_count": null,
      "metadata": {
        "id": "52HNz3nQLF2h"
      },
      "outputs": [],
      "source": [
        "pasajeros_edades = edades.to_numpy()"
      ]
    },
    {
      "cell_type": "code",
      "execution_count": null,
      "metadata": {
        "colab": {
          "base_uri": "https://localhost:8080/"
        },
        "id": "DT0n8EUBLsUZ",
        "outputId": "76e7bc94-e82c-446c-a1c6-3eed2a65709f"
      },
      "outputs": [],
      "source": [
        "print(pasajeros_edades[0:40])"
      ]
    },
    {
      "cell_type": "markdown",
      "metadata": {
        "id": "eWSv3JQEikpS"
      },
      "source": [
        "#### La media (mean)\n",
        "\n",
        "El primer concepto estadístico que exploraremos es la media, también llamada comúnmente promedio. La media es una medida útil para obtener el centro de un conjunto de datos. NumPy tiene una función incorporada para calcular el promedio o la media de las matrices: `np.mean`"
      ]
    },
    {
      "cell_type": "code",
      "execution_count": null,
      "metadata": {
        "colab": {
          "base_uri": "https://localhost:8080/"
        },
        "id": "uNIWgVHJMVAZ",
        "outputId": "05f771d9-99b3-4a27-eb72-f6e49187a393"
      },
      "outputs": [],
      "source": [
        "edad_promedio = np.mean(pasajeros_edades)\n",
        "desviacion_std = np.std(pasajeros_edades)\n",
        "print(f\"Edad promedio de los pasajeros: {round(edad_promedio,2)}\")\n",
        "print(f\"Desviación estándar: {round(desviacion_std,2)}\")"
      ]
    },
    {
      "cell_type": "markdown",
      "metadata": {
        "id": "m3gHLffbisjY"
      },
      "source": [
        "### La media y operaciones lógicas\n",
        "\n",
        "También podemos utilizar `np.mean` para calcular el porcentaje de elementos del array que tienen una determinada propiedad.\n",
        "\n",
        "Como sabemos, un operador lógico evaluará cada elemento de un array para ver si coincide con la condición especificada. Si el elemento coincide con la condición dada, el elemento se evaluará como True y será igual a 1. Si no coincide, será Falso e igual a 0.\n",
        "\n",
        "Cuando `np.mean` calcula una sentencia lógica, el valor medio resultante será equivalente al número total de elementos Verdaderos dividido por la longitud total de la matriz."
      ]
    },
    {
      "cell_type": "markdown",
      "metadata": {
        "id": "pE5PEYvzNrhA"
      },
      "source": [
        "### Calcular el porcentaje de personas menores o con 21 años."
      ]
    },
    {
      "cell_type": "code",
      "execution_count": null,
      "metadata": {
        "colab": {
          "base_uri": "https://localhost:8080/"
        },
        "id": "D-3TzdAaNqMa",
        "outputId": "7d9573a5-094c-449a-b51f-8e0d2fe2e099"
      },
      "outputs": [],
      "source": [
        "porc_menores_a_21 = np.mean(pasajeros_edades < 21)\n",
        "print(f\"Porcentaje de pasajeros menores de edad: {porc_menores_a_21*100}%\")"
      ]
    },
    {
      "cell_type": "code",
      "execution_count": null,
      "metadata": {
        "colab": {
          "base_uri": "https://localhost:8080/"
        },
        "id": "_BZKVIjKpkkw",
        "outputId": "78adccdd-57d9-4aed-8d77-e6c7dfd66a33"
      },
      "outputs": [],
      "source": [
        "porc_menores_a_10 = np.mean(pasajeros_edades < 10)\n",
        "print(porc_menores_a_10)"
      ]
    },
    {
      "cell_type": "markdown",
      "metadata": {
        "id": "An-xxSslO4wI"
      },
      "source": [
        "### Calcular el porcentaje de personas entre 20 y 40 años inclusive."
      ]
    },
    {
      "cell_type": "markdown",
      "metadata": {
        "id": "2KvnTJ50_ptl"
      },
      "source": [
        "**Método 1**. Obtenemos los porcentajes de menores a 41 años y el de menores a 20 años, la diferencia es el valor buscado:"
      ]
    },
    {
      "cell_type": "code",
      "execution_count": null,
      "metadata": {
        "colab": {
          "base_uri": "https://localhost:8080/"
        },
        "id": "sv203hF1O_O7",
        "outputId": "dcc44170-a9f1-427d-e8dd-c6e8dea325c3"
      },
      "outputs": [],
      "source": [
        "porc_menores_a_20 = np.mean(pasajeros_edades < 20)\n",
        "porc_menores_a_41 = np.mean(pasajeros_edades < 41)\n",
        "\n",
        "print(f\"Menores a 20: {porc_menores_a_20}\")\n",
        "print(f\"Menores a 41: {porc_menores_a_41}\")\n",
        "\n",
        "porc_entre_20y40_inclusive = porc_menores_a_41 - porc_menores_a_20\n",
        "\n",
        "print(f\"Porcentaje de personas entre 20 y 40 años inclusive: {porc_entre_20y40_inclusive}\")\n"
      ]
    },
    {
      "cell_type": "markdown",
      "metadata": {
        "id": "NAlrSyf8_6yH"
      },
      "source": [
        "**Método 2**. Obtenemos los porcentajes de menores a 20 años y el de mayores de 40 años, restamos ambos valores al 100% y ese es el valor buscado:"
      ]
    },
    {
      "cell_type": "code",
      "execution_count": null,
      "metadata": {
        "colab": {
          "base_uri": "https://localhost:8080/"
        },
        "id": "ugvaer5_RTcx",
        "outputId": "2def4836-aca8-47bc-a6ed-adc2cc95dc63"
      },
      "outputs": [],
      "source": [
        "porc_menores_a_20 = np.mean(pasajeros_edades < 20)\n",
        "porc_mayores_a_40 = np.mean(pasajeros_edades >= 41)\n",
        "print(f\"Menores a 20: {porc_menores_a_20}\")\n",
        "print(f\"Mayores a 40: {porc_mayores_a_40}\")\n",
        "print(f\"Con 20 años o más: {1 - porc_menores_a_20}\")\n",
        "print(f\"Porcentaje de personas entre 20 y 40 años inclusive: {1 - porc_menores_a_20 - porc_mayores_a_40}\")"
      ]
    },
    {
      "cell_type": "markdown",
      "metadata": {
        "id": "AaVSue87ARk1"
      },
      "source": [
        "**Método 3**. Utilizamos la función `bitwise_and` de Numpy para aplicar las condiciones requeridas a los datos."
      ]
    },
    {
      "cell_type": "code",
      "execution_count": null,
      "metadata": {
        "colab": {
          "base_uri": "https://localhost:8080/"
        },
        "id": "RzyhCwkUUCEB",
        "outputId": "8cb3e2e7-fb6c-41f5-bf6f-6524be60f7a8"
      },
      "outputs": [],
      "source": [
        "np.mean(np.bitwise_and(pasajeros_edades>=20,pasajeros_edades<41))"
      ]
    },
    {
      "cell_type": "markdown",
      "metadata": {
        "id": "1c_VZMGva1wp"
      },
      "source": [
        "### Cálculo de la media de matrices 2D\n",
        "Si tenemos una matriz bidimensional, `np.mean` puede calcular la media de la matriz mayor así como los valores interiores.\n",
        "Crearemos ahora una matriz bidemensional que contenga las edades y el dato de si el pasajero sobrevivió o no."
      ]
    },
    {
      "cell_type": "code",
      "execution_count": null,
      "metadata": {
        "id": "HgqhIMUMa1wp"
      },
      "outputs": [],
      "source": [
        "edades_sobrevivientes = df_titanic[[\"Age\",\"Survived\"]]\n",
        "edades_sobrevivientes = edades_sobrevivientes.dropna()"
      ]
    },
    {
      "cell_type": "code",
      "execution_count": null,
      "metadata": {
        "colab": {
          "base_uri": "https://localhost:8080/",
          "height": 206
        },
        "id": "15c8MlmZsAaj",
        "outputId": "1b970344-8f1b-48bc-b5db-35b96bf98bc0"
      },
      "outputs": [],
      "source": [
        "edades_sobrevivientes.head()"
      ]
    },
    {
      "cell_type": "markdown",
      "metadata": {
        "id": "0cTwR3xta1wq"
      },
      "source": [
        "Convertimos los datos a un arreglo de Numpy:"
      ]
    },
    {
      "cell_type": "code",
      "execution_count": null,
      "metadata": {
        "colab": {
          "base_uri": "https://localhost:8080/"
        },
        "id": "yBTf90i_a1wq",
        "outputId": "2d75a6ac-8665-4e48-a419-cc4b76d8df96"
      },
      "outputs": [],
      "source": [
        "edades_sobrevivientes_array = edades_sobrevivientes.to_numpy()\n",
        "print(len(edades_sobrevivientes_array))\n",
        "print(edades_sobrevivientes_array[:30])"
      ]
    },
    {
      "cell_type": "markdown",
      "metadata": {
        "id": "tcIvbEeqa1wq"
      },
      "source": [
        "Realizamos la transposición de los datos, para convertir los valores en columna a valores en renglón:"
      ]
    },
    {
      "cell_type": "code",
      "execution_count": null,
      "metadata": {
        "colab": {
          "base_uri": "https://localhost:8080/"
        },
        "id": "N6W9fgkza1wq",
        "outputId": "b459a9c4-bfaf-4f50-f4f9-1089473f96b5"
      },
      "outputs": [],
      "source": [
        "edades_sobrevivientes_array = edades_sobrevivientes_array.transpose()\n",
        "print(edades_sobrevivientes_array)"
      ]
    },
    {
      "cell_type": "markdown",
      "metadata": {
        "id": "BuXGiLtla1wq"
      },
      "source": [
        "Si calculamos la media de toda la matriz no tendríamos un dato útil. Por lo anterior, vamos a indicarle a Numpy que deseamos que calcule las medias de los datos de cada renglón. Esto lo realizaremos indicando el parámetro `axis=1`."
      ]
    },
    {
      "cell_type": "code",
      "execution_count": null,
      "metadata": {
        "colab": {
          "base_uri": "https://localhost:8080/"
        },
        "id": "Riznmr3Oa1wr",
        "outputId": "47ccc0c3-aa0f-4dbe-a041-ddef3b7b28e4"
      },
      "outputs": [],
      "source": [
        "np.mean(edades_sobrevivientes_array,axis=1)"
      ]
    },
    {
      "cell_type": "markdown",
      "metadata": {
        "id": "FACVMP4Ga1wr"
      },
      "source": [
        "### Datos atípicos\n",
        "\n",
        "Como podemos ver, la media es una forma útil de entender rápidamente las diferentes partes de nuestros datos. Sin embargo, la media está muy influenciada por los valores específicos de nuestro conjunto de datos. ¿Qué ocurre cuando uno de esos valores es significativamente diferente del resto?\n",
        "\n",
        "Los valores que no se ajustan a la mayoría de un conjunto de datos se conocen como valores atípicos. Es importante identificar los valores atípicos porque, si pasan desapercibidos, pueden sesgar nuestros datos y provocar errores en nuestro análisis (como la determinación de la media). También pueden ser útiles para señalar errores en la recolección de datos.\n",
        "\n",
        "Cuando somos capaces de identificar los valores atípicos, podemos determinar si se deben a un error en la recogida de la muestra o si representan o no una desviación significativa pero real de la media.\n",
        "\n",
        "Imaginemos que tenemos los datos de las calificaciones de los alumnos de un grupo de matemáticas:\n",
        "\n",
        "`[90,95,93,98,94,160]`\n",
        "\n",
        "En este caso, es claro que 160 es un dato atípico, que probablemente se debe a un error de captura."
      ]
    },
    {
      "cell_type": "markdown",
      "metadata": {
        "id": "hWddegA_a1wr"
      },
      "source": [
        "#### Ordenamiento y datos atípicos\n",
        "Una forma de identificar rápidamente los valores atípicos es ordenando nuestros datos, una vez que nuestros datos están ordenados, podemos echar un vistazo rápidamente al principio o al final de una matriz para ver si algunos valores se encuentran más allá del rango esperado. Podemos utilizar la función NumPy `np.sort` para ordenar nuestros datos."
      ]
    },
    {
      "cell_type": "code",
      "execution_count": null,
      "metadata": {
        "colab": {
          "base_uri": "https://localhost:8080/"
        },
        "id": "9hT5-VKZa1wr",
        "outputId": "4d739384-1729-4d04-c59d-9dcb422c88fd"
      },
      "outputs": [],
      "source": [
        "pasajeros_edades = pasajeros_edades.transpose()\n",
        "pasajeros_edades_ordenados = np.sort(pasajeros_edades)\n",
        "print(pasajeros_edades_ordenados)"
      ]
    },
    {
      "cell_type": "code",
      "execution_count": null,
      "metadata": {
        "colab": {
          "base_uri": "https://localhost:8080/"
        },
        "id": "fAkrNXS7a1ws",
        "outputId": "cf001062-63d5-4fa4-9cda-d7c580f5d987"
      },
      "outputs": [],
      "source": [
        "media = np.mean(pasajeros_edades)\n",
        "mediana = np.median(pasajeros_edades)\n",
        "print(f\"La media de las edades es: {media}\")\n",
        "print(f\"La mediana de las edades es: {mediana}\")"
      ]
    },
    {
      "cell_type": "code",
      "execution_count": null,
      "metadata": {
        "id": "axcfoSE2a1ws"
      },
      "outputs": [],
      "source": [
        "lista_calificaciones = [96, 97, 98, 99, 100, 90, 140]\n",
        "calificaciones = np.array(lista_calificaciones)"
      ]
    },
    {
      "cell_type": "code",
      "execution_count": null,
      "metadata": {
        "colab": {
          "base_uri": "https://localhost:8080/"
        },
        "id": "GHQUFiSxa1ws",
        "outputId": "4f665188-fa5b-4fe5-d29e-d9fb0d61dbe6"
      },
      "outputs": [],
      "source": [
        "print(np.mean(calificaciones))"
      ]
    },
    {
      "cell_type": "code",
      "execution_count": null,
      "metadata": {
        "colab": {
          "base_uri": "https://localhost:8080/"
        },
        "id": "1ZT5NW51a1ws",
        "outputId": "8110110e-cf66-42a3-d86c-53b34a32ce0c"
      },
      "outputs": [],
      "source": [
        "print(np.median(calificaciones))"
      ]
    },
    {
      "cell_type": "markdown",
      "metadata": {
        "id": "SI0BqUB9a1ws"
      },
      "source": [
        "### Percentiles\n",
        "\n",
        "El percentil es una medida de posición usada en estadística que indica, una vez ordenados los datos de menor a mayor, el valor de la variable por debajo del cual se encuentra un porcentaje dado de observaciones en un grupo. Por ejemplo, el percentil 25 es el valor bajo el cual se encuentran el 25 % de las observaciones, y el 75 % restante son mayores."
      ]
    },
    {
      "cell_type": "code",
      "execution_count": null,
      "metadata": {
        "id": "ioOIUNkha1wt"
      },
      "outputs": [],
      "source": [
        "print(f\"El percentil 90 de las edades es: {np.percentile(pasajeros_edades,90)}\")\n",
        "print(f\"El percentil 5 de las edades es: {np.percentile(pasajeros_edades,5)}\")"
      ]
    },
    {
      "cell_type": "markdown",
      "metadata": {
        "id": "yBbg1Aova1wt"
      },
      "source": [
        "Algunos percentiles tienen nombres específicos:\n",
        "\n",
        "- El percentil 25 se llama primer cuartil\n",
        "- El percentil 50 se llama mediana\n",
        "- El percentil 75 se llama tercer cuartil\n",
        "\n",
        "El mínimo, el primer cuartil, la mediana, el tercer cuartil y el máximo de un conjunto de datos se denominan resumen de cinco números. Calcular este conjunto de números es muy útil cuando obtenemos un nuevo conjunto de datos.\n",
        "\n",
        "La diferencia entre el primer y el tercer cuartil es un valor llamado rango intercuartil."
      ]
    },
    {
      "cell_type": "code",
      "execution_count": null,
      "metadata": {
        "colab": {
          "base_uri": "https://localhost:8080/"
        },
        "id": "BD2uufF9a1wt",
        "outputId": "8b2d79b2-5d62-4914-8ab4-eca4adcc2849"
      },
      "outputs": [],
      "source": [
        "primer_cuartil = np.percentile(pasajeros_edades,25)\n",
        "tercer_cuartil = np.percentile(pasajeros_edades,75)\n",
        "rango_intercuartil = tercer_cuartil - primer_cuartil\n",
        "print(f\"Primer cuartil: {primer_cuartil}\")\n",
        "print(f\"Tercer cuartil: {tercer_cuartil}\")\n",
        "print(f\"Rango intercuartil: {rango_intercuartil}\")"
      ]
    },
    {
      "cell_type": "markdown",
      "metadata": {
        "id": "g8WuzYHAa1wt"
      },
      "source": [
        "El 50% del conjunto de datos estará dentro del rango intercuartil. El rango intercuartil nos da una idea de la dispersión de nuestros datos. Cuanto menor sea el valor del rango intercuartílico, menor será la varianza de nuestro conjunto de datos. Cuanto mayor sea el valor, mayor será la varianza."
      ]
    },
    {
      "cell_type": "markdown",
      "metadata": {
        "id": "GBYQ0DKCa1wt"
      },
      "source": [
        "### Numpy y la desviación estándar\n",
        "\n",
        "Si bien la media y la mediana pueden informarnos sobre el centro de nuestros datos, no reflejan el rango o la variación de los mismos. Ahí es donde entra la desviación estándar.\n",
        "\n",
        "Al igual que el rango intercuartil, la desviación estándar nos indica la dispersión de los datos. Cuanto mayor sea la desviación estándar, más separados estarán los datos del centro. Cuanto menor sea la desviación estándar, más se agrupan los datos en torno a la media.\n",
        "\n",
        "Podemos usar la función `np.std()` para calcular la desviación estándar de un conjunto de datos."
      ]
    },
    {
      "cell_type": "code",
      "execution_count": null,
      "metadata": {
        "colab": {
          "base_uri": "https://localhost:8080/"
        },
        "id": "Gpv-i6fPa1wt",
        "outputId": "a53fc1b3-0dd5-40b2-a8cb-d45415b87d6c"
      },
      "outputs": [],
      "source": [
        "desviacion_estandar = np.std(pasajeros_edades)\n",
        "\n",
        "print(f\"La media es: {np.mean(pasajeros_edades)}\")\n",
        "print(f\"La desviación estándar es: {desviacion_estandar}\")"
      ]
    }
  ],
  "metadata": {
    "colab": {
      "provenance": []
    },
    "kernelspec": {
      "display_name": "Python 3",
      "name": "python3"
    },
    "language_info": {
      "codemirror_mode": {
        "name": "ipython",
        "version": 3
      },
      "file_extension": ".py",
      "mimetype": "text/x-python",
      "name": "python",
      "nbconvert_exporter": "python",
      "pygments_lexer": "ipython3",
      "version": "3.10.13"
    }
  },
  "nbformat": 4,
  "nbformat_minor": 0
}
