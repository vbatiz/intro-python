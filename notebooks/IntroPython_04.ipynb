{
  "cells": [
    {
      "cell_type": "markdown",
      "metadata": {
        "id": "view-in-github",
        "colab_type": "text"
      },
      "source": [
        "<a href=\"https://colab.research.google.com/github/vbatiz/intro-python/blob/main/notebooks/IntroPython_04.ipynb\" target=\"_parent\"><img src=\"https://colab.research.google.com/assets/colab-badge.svg\" alt=\"Open In Colab\"/></a>"
      ]
    },
    {
      "cell_type": "markdown",
      "metadata": {
        "id": "g00kjNUI1mT3"
      },
      "source": [
        "## Práctica con la biblioteca Pandas\n",
        "\n",
        "Para profundizar en esta biblioteca se puede visitar el sitio oficial dando clic [aquí](https://pandas.pydata.org/)."
      ]
    },
    {
      "cell_type": "code",
      "execution_count": null,
      "metadata": {
        "id": "F1gbWIKf1gcv"
      },
      "outputs": [],
      "source": [
        "import pandas as pd"
      ]
    },
    {
      "cell_type": "markdown",
      "metadata": {
        "id": "uftNA95seiq1"
      },
      "source": [
        "## Cargando el dataset\n",
        "Utilizaremos el dataset de la información del Titanic."
      ]
    },
    {
      "cell_type": "code",
      "execution_count": null,
      "metadata": {
        "id": "rQwihbrDeiq1"
      },
      "outputs": [],
      "source": [
        "!wget --no-check-certificate https://catalabs.mx/datasets/titanic.csv -O titanic.csv"
      ]
    },
    {
      "cell_type": "markdown",
      "metadata": {
        "id": "MFR39ktWeiq1"
      },
      "source": [
        "Creamos el dataframe a partir del archivo."
      ]
    },
    {
      "cell_type": "code",
      "execution_count": null,
      "metadata": {
        "id": "F0-egQdU2Kwe"
      },
      "outputs": [],
      "source": [
        "df_titanic = pd.read_csv('titanic.csv')"
      ]
    },
    {
      "cell_type": "code",
      "execution_count": null,
      "metadata": {
        "id": "d0EUpS3v2Tu1"
      },
      "outputs": [],
      "source": [
        "df_titanic.head()"
      ]
    },
    {
      "cell_type": "markdown",
      "metadata": {
        "id": "yvDvC-Xqeiq2"
      },
      "source": [
        "Creamos un nuevo dataframe con las columnas Name, Sex y Age."
      ]
    },
    {
      "cell_type": "code",
      "execution_count": null,
      "metadata": {
        "id": "2Rixv1293D5u"
      },
      "outputs": [],
      "source": [
        "df_nombre_sexo_edad = df_titanic[[\"Name\",\"Sex\",\"Age\"]]"
      ]
    },
    {
      "cell_type": "code",
      "execution_count": null,
      "metadata": {
        "id": "L3Onjcd03XT9"
      },
      "outputs": [],
      "source": [
        "df_nombre_sexo_edad.head(100)"
      ]
    },
    {
      "cell_type": "code",
      "execution_count": null,
      "metadata": {
        "id": "xdKhvOlf4M5m"
      },
      "outputs": [],
      "source": [
        "print(df_nombre_sexo_edad.Name[1])"
      ]
    },
    {
      "cell_type": "code",
      "execution_count": null,
      "metadata": {
        "id": "p0Z5PclB3hsW"
      },
      "outputs": [],
      "source": [
        "df_nombre_sexo_edad.shape"
      ]
    },
    {
      "cell_type": "markdown",
      "metadata": {
        "id": "QLxyCF6weiq4"
      },
      "source": [
        "Eliminamos los renglones en los cuales el campo de edad (Age) sea nulo."
      ]
    },
    {
      "cell_type": "code",
      "execution_count": null,
      "metadata": {
        "id": "L39C5Z-83mAV"
      },
      "outputs": [],
      "source": [
        "df_nombre_sexo_edad = df_nombre_sexo_edad.dropna()"
      ]
    },
    {
      "cell_type": "code",
      "execution_count": null,
      "metadata": {
        "id": "inOj05us3t8O"
      },
      "outputs": [],
      "source": [
        "df_nombre_sexo_edad.shape"
      ]
    },
    {
      "cell_type": "markdown",
      "metadata": {
        "id": "ckPfH507eiq4"
      },
      "source": [
        "Obtenemos un subconjunto de los datos que solo contenga a los menores de 10 años."
      ]
    },
    {
      "cell_type": "code",
      "execution_count": null,
      "metadata": {
        "id": "w2PaA_Fw5Iam"
      },
      "outputs": [],
      "source": [
        "menores_de_10 = df_nombre_sexo_edad[df_nombre_sexo_edad[\"Age\"] < 10]"
      ]
    },
    {
      "cell_type": "code",
      "execution_count": null,
      "metadata": {
        "id": "7qcKsUkJ5kot"
      },
      "outputs": [],
      "source": [
        "menores_de_10.head(20)"
      ]
    },
    {
      "cell_type": "markdown",
      "metadata": {
        "id": "40On7KH_5-y5"
      },
      "source": [
        "### Determinar sobrevivientes por Clase"
      ]
    },
    {
      "cell_type": "code",
      "execution_count": null,
      "metadata": {
        "id": "VBvNIuiA59_G"
      },
      "outputs": [],
      "source": [
        "#Obtenemos el conjunto de datos de pasajeros en primera clase\n",
        "primera_clase = df_titanic[df_titanic[\"Pclass\"] == 1]\n",
        "\n",
        "primera_clase.shape\n",
        "total_primera_clase = primera_clase.shape[0]\n",
        "print(total_primera_clase)\n",
        "primera_clase_vivos = primera_clase[primera_clase[\"Survived\"] > 0]\n",
        "primera_clase_vivos.shape\n",
        "total_primera_clase_vivos = primera_clase_vivos.shape[0]\n",
        "print(total_primera_clase_vivos)\n",
        "print(f\"De {total_primera_clase} pasajeros en primera clase, sobrevivieron {total_primera_clase_vivos} \\\n",
        "que representan el {round(total_primera_clase_vivos/total_primera_clase*100,2)}%\")"
      ]
    },
    {
      "cell_type": "code",
      "execution_count": null,
      "metadata": {
        "id": "_F7erVmo8YnG"
      },
      "outputs": [],
      "source": [
        "#Obtenemos el conjunto de datos de pasajeros en tercera clase\n",
        "tercera_clase = df_titanic[df_titanic[\"Pclass\"] == 3]\n",
        "\n",
        "tercera_clase.shape\n",
        "total_tercera_clase = tercera_clase.shape[0]\n",
        "print(total_tercera_clase)\n",
        "tercera_clase_vivos = tercera_clase[tercera_clase[\"Survived\"] > 0]\n",
        "tercera_clase_vivos.shape\n",
        "total_tercera_clase_vivos = tercera_clase_vivos.shape[0]\n",
        "print(total_tercera_clase_vivos)\n",
        "print(f\"De {total_tercera_clase} pasajeros en tercera clase, sobrevivieron {total_tercera_clase_vivos} \\\n",
        "que representan el {round(total_tercera_clase_vivos/total_tercera_clase*100,2)}%\")"
      ]
    },
    {
      "cell_type": "markdown",
      "metadata": {
        "id": "QBBVtf77eiq5"
      },
      "source": [
        "Ahora visualizaremos los valores de edad distribuidos por clase y usaremos el dato de sobrevivencia para colorear cada valor. ¿Qué podemos observar?"
      ]
    },
    {
      "cell_type": "code",
      "execution_count": null,
      "metadata": {
        "id": "ljdOEPu29ZSv"
      },
      "outputs": [],
      "source": [
        "import matplotlib.pyplot as plt\n",
        "import seaborn as sns"
      ]
    },
    {
      "cell_type": "code",
      "execution_count": null,
      "metadata": {
        "id": "Ive0hcYy9o2d"
      },
      "outputs": [],
      "source": [
        "sns.scatterplot(x=df_titanic[\"Pclass\"], y=df_titanic[\"Age\"], hue = df_titanic[\"Survived\"])"
      ]
    }
  ],
  "metadata": {
    "colab": {
      "provenance": [],
      "include_colab_link": true
    },
    "kernelspec": {
      "display_name": "Python 3",
      "name": "python3"
    },
    "language_info": {
      "name": "python"
    }
  },
  "nbformat": 4,
  "nbformat_minor": 0
}