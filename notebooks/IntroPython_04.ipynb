{
  "cells": [
    {
      "cell_type": "markdown",
      "metadata": {
        "colab_type": "text",
        "id": "view-in-github"
      },
      "source": [
        "<a href=\"https://colab.research.google.com/github/vbatiz/intro-python/blob/main/notebooks/IntroPython_04.ipynb\" target=\"_parent\"><img src=\"https://colab.research.google.com/assets/colab-badge.svg\" alt=\"Open In Colab\"/></a>"
      ]
    },
    {
      "cell_type": "markdown",
      "metadata": {
        "id": "g00kjNUI1mT3"
      },
      "source": [
        "## Práctica con la biblioteca Pandas\n",
        "\n",
        "Para profundizar en esta biblioteca se puede visitar el sitio oficial dando clic [aquí](https://pandas.pydata.org/)."
      ]
    },
    {
      "cell_type": "code",
      "execution_count": null,
      "metadata": {
        "id": "F1gbWIKf1gcv"
      },
      "outputs": [],
      "source": [
        "import pandas as pd"
      ]
    },
    {
      "cell_type": "markdown",
      "metadata": {
        "id": "uftNA95seiq1"
      },
      "source": [
        "## Cargando el dataset\n",
        "Utilizaremos el dataset de la información del Titanic."
      ]
    },
    {
      "cell_type": "code",
      "execution_count": null,
      "metadata": {
        "id": "rQwihbrDeiq1"
      },
      "outputs": [],
      "source": [
        "!wget --no-check-certificate https://catalabs.mx/datasets/titanic.csv -O titanic.csv"
      ]
    },
    {
      "cell_type": "markdown",
      "metadata": {
        "id": "MFR39ktWeiq1"
      },
      "source": [
        "Creamos el dataframe a partir del archivo."
      ]
    },
    {
      "cell_type": "code",
      "execution_count": null,
      "metadata": {
        "id": "F0-egQdU2Kwe"
      },
      "outputs": [],
      "source": [
        "df_titanic = pd.read_csv('titanic.csv')"
      ]
    },
    {
      "cell_type": "code",
      "execution_count": null,
      "metadata": {
        "id": "d0EUpS3v2Tu1"
      },
      "outputs": [],
      "source": [
        "df_titanic.head()"
      ]
    },
    {
      "cell_type": "markdown",
      "metadata": {
        "id": "yvDvC-Xqeiq2"
      },
      "source": [
        "Creamos un nuevo dataframe con las columnas Name, Sex y Age."
      ]
    },
    {
      "cell_type": "code",
      "execution_count": null,
      "metadata": {
        "id": "2Rixv1293D5u"
      },
      "outputs": [],
      "source": [
        "df_nombre_sexo_edad = df_titanic[[\"Name\",\"Sex\",\"Age\"]]"
      ]
    },
    {
      "cell_type": "code",
      "execution_count": null,
      "metadata": {
        "id": "L3Onjcd03XT9"
      },
      "outputs": [],
      "source": [
        "df_nombre_sexo_edad.head(100)"
      ]
    },
    {
      "cell_type": "code",
      "execution_count": null,
      "metadata": {
        "id": "xdKhvOlf4M5m"
      },
      "outputs": [],
      "source": [
        "print(df_nombre_sexo_edad.Name[1])"
      ]
    },
    {
      "cell_type": "code",
      "execution_count": null,
      "metadata": {
        "id": "p0Z5PclB3hsW"
      },
      "outputs": [],
      "source": [
        "df_nombre_sexo_edad.shape"
      ]
    },
    {
      "cell_type": "markdown",
      "metadata": {
        "id": "QLxyCF6weiq4"
      },
      "source": [
        "Eliminamos los renglones en los cuales el campo de edad (Age) sea nulo."
      ]
    },
    {
      "cell_type": "code",
      "execution_count": null,
      "metadata": {
        "id": "L39C5Z-83mAV"
      },
      "outputs": [],
      "source": [
        "df_nombre_sexo_edad = df_nombre_sexo_edad.dropna()"
      ]
    },
    {
      "cell_type": "code",
      "execution_count": null,
      "metadata": {
        "id": "inOj05us3t8O"
      },
      "outputs": [],
      "source": [
        "df_nombre_sexo_edad.shape"
      ]
    },
    {
      "cell_type": "markdown",
      "metadata": {
        "id": "ckPfH507eiq4"
      },
      "source": [
        "Obtenemos un subconjunto de los datos que solo contenga a los menores de 10 años."
      ]
    },
    {
      "cell_type": "code",
      "execution_count": null,
      "metadata": {
        "id": "w2PaA_Fw5Iam"
      },
      "outputs": [],
      "source": [
        "menores_de_10 = df_nombre_sexo_edad[df_nombre_sexo_edad[\"Age\"] < 10]"
      ]
    },
    {
      "cell_type": "code",
      "execution_count": null,
      "metadata": {
        "id": "7qcKsUkJ5kot"
      },
      "outputs": [],
      "source": [
        "menores_de_10.head(20)"
      ]
    },
    {
      "cell_type": "markdown",
      "metadata": {
        "id": "40On7KH_5-y5"
      },
      "source": [
        "### Determinar sobrevivientes por Clase"
      ]
    },
    {
      "cell_type": "code",
      "execution_count": null,
      "metadata": {
        "id": "VBvNIuiA59_G"
      },
      "outputs": [],
      "source": [
        "#Obtenemos el conjunto de datos de pasajeros en primera clase\n",
        "primera_clase = df_titanic[df_titanic[\"Pclass\"] == 1]\n",
        "\n",
        "primera_clase.shape\n",
        "total_primera_clase = primera_clase.shape[0]\n",
        "print(total_primera_clase)\n",
        "primera_clase_vivos = primera_clase[primera_clase[\"Survived\"] > 0]\n",
        "primera_clase_vivos.shape\n",
        "total_primera_clase_vivos = primera_clase_vivos.shape[0]\n",
        "print(total_primera_clase_vivos)\n",
        "print(f\"De {total_primera_clase} pasajeros en primera clase, sobrevivieron {total_primera_clase_vivos} \\\n",
        "que representan el {round(total_primera_clase_vivos/total_primera_clase*100,2)}%\")"
      ]
    },
    {
      "cell_type": "code",
      "execution_count": null,
      "metadata": {
        "id": "_F7erVmo8YnG"
      },
      "outputs": [],
      "source": [
        "#Obtenemos el conjunto de datos de pasajeros en tercera clase\n",
        "tercera_clase = df_titanic[df_titanic[\"Pclass\"] == 3]\n",
        "\n",
        "tercera_clase.shape\n",
        "total_tercera_clase = tercera_clase.shape[0]\n",
        "print(total_tercera_clase)\n",
        "tercera_clase_vivos = tercera_clase[tercera_clase[\"Survived\"] > 0]\n",
        "tercera_clase_vivos.shape\n",
        "total_tercera_clase_vivos = tercera_clase_vivos.shape[0]\n",
        "print(total_tercera_clase_vivos)\n",
        "print(f\"De {total_tercera_clase} pasajeros en tercera clase, sobrevivieron {total_tercera_clase_vivos} \\\n",
        "que representan el {round(total_tercera_clase_vivos/total_tercera_clase*100,2)}%\")"
      ]
    },
    {
      "cell_type": "markdown",
      "metadata": {
        "id": "QBBVtf77eiq5"
      },
      "source": [
        "Ahora visualizaremos los valores de edad distribuidos por clase y usaremos el dato de sobrevivencia para colorear cada valor. ¿Qué podemos observar?"
      ]
    },
    {
      "cell_type": "code",
      "execution_count": null,
      "metadata": {
        "id": "ljdOEPu29ZSv"
      },
      "outputs": [],
      "source": [
        "import matplotlib.pyplot as plt\n",
        "import seaborn as sns"
      ]
    },
    {
      "cell_type": "code",
      "execution_count": null,
      "metadata": {
        "id": "Ive0hcYy9o2d"
      },
      "outputs": [],
      "source": [
        "sns.scatterplot(x=df_titanic[\"Pclass\"], y=df_titanic[\"Age\"], hue = df_titanic[\"Survived\"])"
      ]
    },
    {
      "cell_type": "markdown",
      "metadata": {
        "id": "YU659A6YjwGq"
      },
      "source": [
        "# Prácticas del curso de Pandas en Kaggle\n",
        "\n",
        "Esta sección se basa en el curso disponible [aquí](https://www.kaggle.com/learn/pandas). Se utiliza el conjunto de datos de revisiones de vinos disponible en la sección data del curso, descargarlo y subirlo al repositorio temporal de Colab para trabajar con esta práctica."
      ]
    },
    {
      "cell_type": "markdown",
      "metadata": {
        "id": "aP9RjwjykJMy"
      },
      "source": [
        "## 1. Creando, leyendo y escribiendo."
      ]
    },
    {
      "cell_type": "code",
      "execution_count": null,
      "metadata": {
        "id": "NX__qztZks9v"
      },
      "outputs": [],
      "source": [
        "import pandas as pd #importamos la biblioteca y le colocamos el apodo pd"
      ]
    },
    {
      "cell_type": "markdown",
      "metadata": {
        "id": "fAlO1NvMlPdO"
      },
      "source": [
        "Creamos un dataframe a partir de un diccionario:"
      ]
    },
    {
      "cell_type": "code",
      "execution_count": null,
      "metadata": {
        "id": "ufZWitLvlNVu"
      },
      "outputs": [],
      "source": [
        "df_datos = pd.DataFrame({'Yes': [50, 21], 'No': [131, 2]})\n",
        "df_datos.head()"
      ]
    },
    {
      "cell_type": "code",
      "execution_count": null,
      "metadata": {
        "id": "NVTIPZu3l8bo"
      },
      "outputs": [],
      "source": [
        "df_datos2 = pd.DataFrame({'Bob': ['I liked it.', 'It was awful.'], 'Sue': ['Pretty good.', 'Bland.'], 'Tim':['It was great.','Boring.']})\n",
        "df_datos2.head()"
      ]
    },
    {
      "cell_type": "markdown",
      "metadata": {
        "id": "YSUdr0g9nMC3"
      },
      "source": [
        "Si quisiéramos cambiar la descripción de la columna de índices, lo podemos hacer con el parámetro `index`."
      ]
    },
    {
      "cell_type": "code",
      "execution_count": null,
      "metadata": {
        "id": "srJJVd1vnXM2"
      },
      "outputs": [],
      "source": [
        "pd.DataFrame({'Bob': ['I liked it.', 'It was awful.'],\n",
        "              'Sue': ['Pretty good.', 'Bland.']},\n",
        "             index=['Product A', 'Product B'])"
      ]
    },
    {
      "cell_type": "markdown",
      "metadata": {
        "id": "aKKYBWJsn-yf"
      },
      "source": [
        "### Series\n",
        "\n",
        "Una serie en Pandas, es una secuencia de valores. Una columna de un dataframe puede considerarse como una serie. Podemos crear una serie utilizando una simple lista."
      ]
    },
    {
      "cell_type": "code",
      "execution_count": null,
      "metadata": {
        "id": "5ngUuVN1oOS_"
      },
      "outputs": [],
      "source": [
        "pd.Series([1, 2, 3, 4, 5])"
      ]
    },
    {
      "cell_type": "markdown",
      "metadata": {
        "id": "kf1QNxJfozyu"
      },
      "source": [
        "Una serie al igual que un dataframe puede tener títulos en los índices, así mismo le podemos dar un nombre a la serie de datos. Una serie es esencia el equivalente a una columna de un dataframe."
      ]
    },
    {
      "cell_type": "code",
      "execution_count": null,
      "metadata": {
        "id": "mzoTl5j-pFfP"
      },
      "outputs": [],
      "source": [
        "pd.Series([30, 35, 40], index=['2015 Sales', '2016 Sales', '2017 Sales'], name='Product A')"
      ]
    },
    {
      "cell_type": "markdown",
      "metadata": {
        "id": "oYrRvZHFqNgz"
      },
      "source": [
        "## Leyendo archivos de datos\n",
        "\n",
        "Existen diferentes formas de cargar archivos con Pandas, una de las más utilizadas es hacerlo a partir de un archivo separado por comas (CSV)."
      ]
    },
    {
      "cell_type": "code",
      "execution_count": null,
      "metadata": {
        "id": "4sf9SWsAqQzO"
      },
      "outputs": [],
      "source": [
        "wine_reviews = pd.read_csv(\"winemag-data-130k-v2.csv\")"
      ]
    },
    {
      "cell_type": "code",
      "execution_count": null,
      "metadata": {
        "id": "GciTABOgt3lg"
      },
      "outputs": [],
      "source": [
        "wine_reviews.head()"
      ]
    },
    {
      "cell_type": "code",
      "execution_count": null,
      "metadata": {
        "id": "f6qnnqEDuQwO"
      },
      "outputs": [],
      "source": [
        "wine_reviews.shape"
      ]
    },
    {
      "cell_type": "markdown",
      "metadata": {
        "id": "r03kUI0cvuUn"
      },
      "source": [
        "Podemos indicar una columna para que sea utilziada como etiquetas de índice (aparecerá totalemente a la izquierda de la tabla)."
      ]
    },
    {
      "cell_type": "code",
      "execution_count": null,
      "metadata": {
        "id": "CXTw_vqev5WO"
      },
      "outputs": [],
      "source": [
        "wine_reviews = pd.read_csv(\"winemag-data-130k-v2.csv\", index_col=0)\n",
        "wine_reviews.head()"
      ]
    },
    {
      "cell_type": "markdown",
      "metadata": {
        "id": "RVQunRARwcT3"
      },
      "source": [
        "## 2. Indexado, Selección y Asignación."
      ]
    },
    {
      "cell_type": "markdown",
      "metadata": {
        "id": "bMUYogUjxAkm"
      },
      "source": [
        "### Cargamos los datos"
      ]
    },
    {
      "cell_type": "code",
      "execution_count": null,
      "metadata": {
        "id": "Auy_DGlJxCfn"
      },
      "outputs": [],
      "source": [
        "import pandas as pd\n",
        "reviews = pd.read_csv(\"winemag-data-130k-v2.csv\", index_col=0)\n",
        "pd.set_option('display.max_rows', 5)"
      ]
    },
    {
      "cell_type": "markdown",
      "metadata": {
        "id": "ctDIcJZkyBSX"
      },
      "source": [
        "Podemos revisar los valores de una columna, usando el nombre de la misma. Si la columna no tiene espacios en el nombre se puede usar la estructura `dataframe.columna`, si la columna tiene espacios se debe usar `dataframe[\"Columna\"]`. Esta última opción aplica sin problema para las columnas sin espacios."
      ]
    },
    {
      "cell_type": "code",
      "execution_count": null,
      "metadata": {
        "id": "lurz_jrwxHx2"
      },
      "outputs": [],
      "source": [
        "reviews"
      ]
    },
    {
      "cell_type": "code",
      "execution_count": null,
      "metadata": {
        "id": "7LVBRWYrx-WK"
      },
      "outputs": [],
      "source": [
        "reviews.country"
      ]
    },
    {
      "cell_type": "code",
      "execution_count": null,
      "metadata": {
        "id": "GGPWjVlHyYau"
      },
      "outputs": [],
      "source": [
        "reviews['country']"
      ]
    },
    {
      "cell_type": "markdown",
      "metadata": {
        "id": "McFJlQTky-zP"
      },
      "source": [
        "Para acceder a un dato específico de una columna, podemos usar la misma nomenclatura que usamos para acceder a una lista. Indicando el índice del elemento que deseamos consultar."
      ]
    },
    {
      "cell_type": "code",
      "execution_count": null,
      "metadata": {
        "id": "hD7T8mTEzJ1H"
      },
      "outputs": [],
      "source": [
        "reviews['country'][100]"
      ]
    },
    {
      "cell_type": "markdown",
      "metadata": {
        "id": "EyHdsEPqzwWH"
      },
      "source": [
        "### Selección basada en índices (Index-based selection)."
      ]
    },
    {
      "cell_type": "code",
      "execution_count": null,
      "metadata": {
        "id": "FXXhOU93z24e"
      },
      "outputs": [],
      "source": [
        "reviews.iloc[0]"
      ]
    },
    {
      "cell_type": "markdown",
      "metadata": {
        "id": "BeAI6fbW00z3"
      },
      "source": [
        "Podemos usar las reglas de slicing de las listas para recuperar una parte de los renglones y de las columnas (loc e iloc usan el orden renglones:columnas)."
      ]
    },
    {
      "cell_type": "code",
      "execution_count": null,
      "metadata": {
        "id": "TaXF1XVq1FO-"
      },
      "outputs": [],
      "source": [
        "reviews.iloc[:, 0:3] #Esto es equivalente a: reviews[['country','description','designation']]"
      ]
    },
    {
      "cell_type": "code",
      "execution_count": null,
      "metadata": {
        "id": "cKjFiTGb2Bbu"
      },
      "outputs": [],
      "source": [
        "reviews.iloc[:3, 0]"
      ]
    },
    {
      "cell_type": "markdown",
      "metadata": {
        "id": "QANGHMee2F-H"
      },
      "source": [
        "Podemos indicar una lista con los índices que deseamos obtener:"
      ]
    },
    {
      "cell_type": "code",
      "execution_count": null,
      "metadata": {
        "id": "Dbpzidkt2CdG"
      },
      "outputs": [],
      "source": [
        "reviews.iloc[[0, 10, 20], 0]"
      ]
    },
    {
      "cell_type": "markdown",
      "metadata": {
        "id": "59LaSD0z2f8m"
      },
      "source": [
        "Vale la pena mencionar que al igual que en las listas, podemos usar valores negativos para indicar las posiciones:"
      ]
    },
    {
      "cell_type": "code",
      "execution_count": null,
      "metadata": {
        "id": "Yi709nBS2lq2"
      },
      "outputs": [],
      "source": [
        "reviews.iloc[-5:]  #Recupera los últimos 5 registros"
      ]
    },
    {
      "cell_type": "markdown",
      "metadata": {
        "id": "k4MHmTkM22kn"
      },
      "source": [
        "### Selección basada en etiquetas (Label-based selection)."
      ]
    },
    {
      "cell_type": "code",
      "execution_count": null,
      "metadata": {
        "id": "QCs0cO4l26R_"
      },
      "outputs": [],
      "source": [
        "reviews.loc[0, 'country']"
      ]
    },
    {
      "cell_type": "code",
      "execution_count": null,
      "metadata": {
        "id": "AHf4KAl93Keu"
      },
      "outputs": [],
      "source": [
        "reviews.loc[:, ['taster_name', 'taster_twitter_handle', 'points']]"
      ]
    },
    {
      "cell_type": "markdown",
      "metadata": {
        "id": "YMyzMo9_39yG"
      },
      "source": [
        "### Manipulando las etiquetas de los índices"
      ]
    },
    {
      "cell_type": "code",
      "execution_count": null,
      "metadata": {
        "id": "bIIjHc4U4BnP"
      },
      "outputs": [],
      "source": [
        "reviews.set_index(\"title\")"
      ]
    },
    {
      "cell_type": "markdown",
      "metadata": {
        "id": "BgAxPw-14kwO"
      },
      "source": [
        "### Selección condicional"
      ]
    },
    {
      "cell_type": "code",
      "execution_count": null,
      "metadata": {
        "id": "wIomi9nT4oRX"
      },
      "outputs": [],
      "source": [
        "reviews.country == 'Italy'"
      ]
    },
    {
      "cell_type": "code",
      "execution_count": null,
      "metadata": {
        "id": "O2VfRvr14sNe"
      },
      "outputs": [],
      "source": [
        "reviews.loc[reviews.country == 'Mexico']"
      ]
    },
    {
      "cell_type": "markdown",
      "metadata": {
        "id": "qcdYknpX5mUA"
      },
      "source": [
        "También podemos realizar selección con varias condiciones, podemos por ejemplo utilizar condiciones *and* (&) u *or* (|)."
      ]
    },
    {
      "cell_type": "code",
      "execution_count": null,
      "metadata": {
        "id": "KN-7-VTr5VCO"
      },
      "outputs": [],
      "source": [
        "reviews.loc[(reviews.country == 'Mexico') & (reviews.points >= 90)]"
      ]
    },
    {
      "cell_type": "code",
      "execution_count": null,
      "metadata": {
        "id": "c7jH3jL853JV"
      },
      "outputs": [],
      "source": [
        "reviews.loc[(reviews.country == 'Mexico') | (reviews.country == 'Uruguay')]"
      ]
    },
    {
      "cell_type": "markdown",
      "metadata": {
        "id": "ocAW6lQO6aPf"
      },
      "source": [
        "Otra forma de filtrar los datos es con la función `isin`. Esta función recibe una lista de los valores a verificar."
      ]
    },
    {
      "cell_type": "code",
      "execution_count": null,
      "metadata": {
        "id": "hZEThoBx57VP"
      },
      "outputs": [],
      "source": [
        "reviews.loc[reviews.country.isin(['Italy', 'France', 'Mexico'])]"
      ]
    },
    {
      "cell_type": "markdown",
      "metadata": {
        "id": "t2saeUz27FDW"
      },
      "source": [
        "Podemos incluso filtrar los valores nulos:"
      ]
    },
    {
      "cell_type": "code",
      "execution_count": null,
      "metadata": {
        "id": "QiSte2OR7AvH"
      },
      "outputs": [],
      "source": [
        "reviews.loc[reviews.price.notnull()]"
      ]
    },
    {
      "cell_type": "markdown",
      "metadata": {
        "id": "r8aKBfWV7m62"
      },
      "source": [
        "### Asignación de valores"
      ]
    },
    {
      "cell_type": "markdown",
      "metadata": {
        "id": "2mq04Gx97piv"
      },
      "source": [
        "Es posible asignar un mismo valor a todos los renglones"
      ]
    },
    {
      "cell_type": "code",
      "execution_count": null,
      "metadata": {
        "id": "5aspkuZr7p-e"
      },
      "outputs": [],
      "source": [
        "reviews['critic'] = 'everyone'\n",
        "reviews"
      ]
    },
    {
      "cell_type": "markdown",
      "metadata": {
        "id": "sQh_hbOW8K-u"
      },
      "source": [
        "También se pueden asignar los elementos de una lista o rango generado:"
      ]
    },
    {
      "cell_type": "code",
      "execution_count": null,
      "metadata": {
        "id": "o3figwt58Q--"
      },
      "outputs": [],
      "source": [
        "reviews['index_backwards'] = range(len(reviews), 0, -1)\n",
        "reviews['index_backwards']"
      ]
    },
    {
      "cell_type": "markdown",
      "metadata": {
        "id": "XhQy_tPC8R5G"
      },
      "source": [
        "Finalmente podemos crear un campo calculado:"
      ]
    },
    {
      "cell_type": "code",
      "execution_count": null,
      "metadata": {
        "id": "-_NZlIVp8XIe"
      },
      "outputs": [],
      "source": [
        "reviews['new_price'] = reviews.price * 1.15\n",
        "reviews.loc[:,['price','new_price']]"
      ]
    },
    {
      "cell_type": "markdown",
      "metadata": {
        "id": "AD8E2ZwECRsf"
      },
      "source": [
        "## 3. Funciones de sumarizado y mapeo (Summary Functions and Maps)"
      ]
    },
    {
      "cell_type": "code",
      "execution_count": null,
      "metadata": {
        "id": "ej0dIzYk9ol-"
      },
      "outputs": [],
      "source": [
        "pd.set_option('display.max_rows', 20)\n",
        "reviews"
      ]
    },
    {
      "cell_type": "markdown",
      "metadata": {
        "id": "nNHsjn0iCx1O"
      },
      "source": [
        "#### Funciones de sumarizado"
      ]
    },
    {
      "cell_type": "code",
      "execution_count": null,
      "metadata": {
        "id": "OoXez49PC12o"
      },
      "outputs": [],
      "source": [
        "reviews.points.describe()"
      ]
    },
    {
      "cell_type": "code",
      "execution_count": null,
      "metadata": {
        "id": "1FMkM374C8wH"
      },
      "outputs": [],
      "source": [
        "reviews.describe()"
      ]
    },
    {
      "cell_type": "code",
      "execution_count": null,
      "metadata": {
        "id": "os43ClI3DQI3"
      },
      "outputs": [],
      "source": [
        "reviews.taster_name.describe()"
      ]
    },
    {
      "cell_type": "code",
      "execution_count": null,
      "metadata": {
        "id": "Ljmi3gRWDoSm"
      },
      "outputs": [],
      "source": [
        "reviews.taster_name.unique()"
      ]
    },
    {
      "cell_type": "code",
      "execution_count": null,
      "metadata": {
        "id": "XCh5qoOdDuaX"
      },
      "outputs": [],
      "source": [
        "reviews.country.unique()"
      ]
    },
    {
      "cell_type": "code",
      "execution_count": null,
      "metadata": {
        "id": "TfD6aiKYD5Ln"
      },
      "outputs": [],
      "source": [
        "print(reviews.points.mean())\n",
        "print(reviews.points.std())\n",
        "print(reviews.points.median())"
      ]
    },
    {
      "cell_type": "code",
      "execution_count": null,
      "metadata": {
        "id": "KdVt7uHrEU6o"
      },
      "outputs": [],
      "source": [
        "reviews.taster_name.value_counts()"
      ]
    },
    {
      "cell_type": "code",
      "execution_count": null,
      "metadata": {
        "id": "ayW6mtMMEa9n"
      },
      "outputs": [],
      "source": [
        "df_paises = reviews.country.value_counts()\n",
        "df_paises.tail(20)"
      ]
    },
    {
      "cell_type": "markdown",
      "metadata": {
        "id": "3SiRGQg7GC6e"
      },
      "source": [
        "#### Mapeos"
      ]
    },
    {
      "cell_type": "code",
      "execution_count": null,
      "metadata": {
        "id": "g4mcYJjKGE5P"
      },
      "outputs": [],
      "source": [
        "review_points_mean = reviews.points.mean()\n",
        "reviews.points.map(lambda p: p - review_points_mean)"
      ]
    },
    {
      "cell_type": "code",
      "execution_count": null,
      "metadata": {
        "id": "dYzJ0WqqG8kO"
      },
      "outputs": [],
      "source": [
        "def remean_points(row):\n",
        "    row.points = row.points - review_points_mean\n",
        "    return row\n",
        "\n",
        "reviews.apply(remean_points, axis='columns')"
      ]
    },
    {
      "cell_type": "markdown",
      "metadata": {
        "id": "lky9YOyIIOdX"
      },
      "source": [
        "Pandas ofrece una forma más directa de aplicar una operación sobre una columna:"
      ]
    },
    {
      "cell_type": "code",
      "execution_count": null,
      "metadata": {
        "id": "ISBO7U91HW3g"
      },
      "outputs": [],
      "source": [
        "review_points_mean = reviews.points.mean()\n",
        "reviews.points - review_points_mean"
      ]
    },
    {
      "cell_type": "code",
      "execution_count": null,
      "metadata": {
        "id": "2Zx6sBhqIsNW"
      },
      "outputs": [],
      "source": [
        "reviews.country + \" - \" + reviews.region_1"
      ]
    },
    {
      "cell_type": "markdown",
      "metadata": {
        "id": "GilL-o7DJf3u"
      },
      "source": [
        "## 4. Agrupamiento y ordenamiento"
      ]
    },
    {
      "cell_type": "markdown",
      "metadata": {
        "id": "0SxSIEkfJl81"
      },
      "source": [
        "#### Operaciones de agrupamiento"
      ]
    },
    {
      "cell_type": "code",
      "execution_count": null,
      "metadata": {
        "id": "zBZzeuHgJfK_"
      },
      "outputs": [],
      "source": [
        "reviews.groupby('points').points.count()"
      ]
    },
    {
      "cell_type": "code",
      "execution_count": null,
      "metadata": {
        "id": "UlIWXxTvJxiG"
      },
      "outputs": [],
      "source": [
        "reviews.groupby('country').country.count()"
      ]
    },
    {
      "cell_type": "markdown",
      "metadata": {
        "id": "42LD0WN7KT5x"
      },
      "source": [
        "Una vez agrupados podemos solicitar información de algun campo específico y obtendremos dicho valor para cada grupo."
      ]
    },
    {
      "cell_type": "code",
      "execution_count": null,
      "metadata": {
        "id": "2Bhc21E7KUFO"
      },
      "outputs": [],
      "source": [
        "reviews.groupby('points').price.mean()"
      ]
    },
    {
      "cell_type": "code",
      "execution_count": null,
      "metadata": {
        "id": "655z3Ch4K9VO"
      },
      "outputs": [],
      "source": [
        "reviews.groupby('points').price.min()"
      ]
    },
    {
      "cell_type": "markdown",
      "metadata": {
        "id": "ztmZypc-LjWv"
      },
      "source": [
        "También por ejemplo podemos obtener el título del primer vino revisado de cada grupo de empresas."
      ]
    },
    {
      "cell_type": "code",
      "execution_count": null,
      "metadata": {
        "id": "jg9lmVRSLVhO"
      },
      "outputs": [],
      "source": [
        "reviews.groupby('winery').apply(lambda df: df.title.iloc[0])"
      ]
    },
    {
      "cell_type": "markdown",
      "metadata": {
        "id": "mOgtHEKyMBWP"
      },
      "source": [
        "Para obtener el vino mejor calificado por País y Provincia:"
      ]
    },
    {
      "cell_type": "code",
      "execution_count": null,
      "metadata": {
        "id": "4EwsuRtuL_C-"
      },
      "outputs": [],
      "source": [
        "reviews.groupby(['country', 'province']).apply(lambda df: df.loc[df.points.idxmax()])"
      ]
    },
    {
      "cell_type": "code",
      "execution_count": null,
      "metadata": {
        "id": "FcSVBsMqNFZ2"
      },
      "outputs": [],
      "source": [
        "reviews.groupby(['country']).price.agg([len, min, max])"
      ]
    },
    {
      "cell_type": "code",
      "execution_count": null,
      "metadata": {
        "id": "AqLPBFFxNWMI"
      },
      "outputs": [],
      "source": [
        "reviews.groupby('country').points.max()"
      ]
    },
    {
      "cell_type": "code",
      "execution_count": null,
      "metadata": {
        "id": "BO8fQ58rOmxe"
      },
      "outputs": [],
      "source": [
        "countries_reviewed = reviews.groupby(['country', 'province']).description.agg([len])\n",
        "countries_reviewed"
      ]
    },
    {
      "cell_type": "code",
      "execution_count": null,
      "metadata": {
        "id": "Cq-dKmmePD--"
      },
      "outputs": [],
      "source": [
        "countries_reviewed.reset_index()"
      ]
    },
    {
      "cell_type": "markdown",
      "metadata": {
        "id": "yrHXkeWdPewW"
      },
      "source": [
        "### Ordenamiento"
      ]
    },
    {
      "cell_type": "code",
      "execution_count": null,
      "metadata": {
        "id": "hzkSKX-HPd_G"
      },
      "outputs": [],
      "source": [
        "countries_reviewed = countries_reviewed.reset_index()\n",
        "countries_reviewed.sort_values(by='len')"
      ]
    },
    {
      "cell_type": "code",
      "execution_count": null,
      "metadata": {
        "id": "V4UyBaRuPkfD"
      },
      "outputs": [],
      "source": [
        "countries_reviewed.sort_values(by='len', ascending=False)"
      ]
    },
    {
      "cell_type": "markdown",
      "metadata": {
        "id": "UQTi0UO0QFGA"
      },
      "source": [
        "Ordenando con base al índice de los renglones"
      ]
    },
    {
      "cell_type": "code",
      "execution_count": null,
      "metadata": {
        "id": "JM9VKYqAQECm"
      },
      "outputs": [],
      "source": [
        "countries_reviewed.sort_index()"
      ]
    },
    {
      "cell_type": "code",
      "execution_count": null,
      "metadata": {
        "id": "ZpQ_gqDJQQ3W"
      },
      "outputs": [],
      "source": [
        "countries_reviewed.sort_index(ascending=False)"
      ]
    },
    {
      "cell_type": "code",
      "execution_count": null,
      "metadata": {
        "id": "un7uHT-bQWmo"
      },
      "outputs": [],
      "source": [
        "countries_reviewed.sort_values(by=['country', 'len'])"
      ]
    },
    {
      "cell_type": "code",
      "execution_count": null,
      "metadata": {
        "id": "2jSgDjnmQiYG"
      },
      "outputs": [],
      "source": [
        "countries_reviewed.sort_values(by=['country', 'len'], ascending=[True, False])"
      ]
    },
    {
      "cell_type": "markdown",
      "metadata": {
        "id": "5WHV7zWSRAKv"
      },
      "source": [
        "## 5. Tipos de datos y valores nulos"
      ]
    },
    {
      "cell_type": "markdown",
      "metadata": {
        "id": "73gQGztKRJv-"
      },
      "source": [
        "Se puede verificar el tipo de datos de todas las columnas o de una columna en específico:"
      ]
    },
    {
      "cell_type": "code",
      "execution_count": null,
      "metadata": {
        "id": "2rGg3avpRPiZ"
      },
      "outputs": [],
      "source": [
        "reviews.dtypes"
      ]
    },
    {
      "cell_type": "code",
      "execution_count": null,
      "metadata": {
        "id": "Vt1ePRHlRE23"
      },
      "outputs": [],
      "source": [
        "reviews.price.dtype"
      ]
    },
    {
      "cell_type": "code",
      "execution_count": null,
      "metadata": {
        "id": "3QrlmxlnRx82"
      },
      "outputs": [],
      "source": [
        "reviews.points.astype('float64')"
      ]
    },
    {
      "cell_type": "markdown",
      "metadata": {
        "id": "V2dfFUG2TaWu"
      },
      "source": [
        "### Manejando datos nulos"
      ]
    },
    {
      "cell_type": "code",
      "execution_count": null,
      "metadata": {
        "id": "xmVUiXyRTeuf"
      },
      "outputs": [],
      "source": [
        "reviews[pd.isnull(reviews.country)]"
      ]
    },
    {
      "cell_type": "markdown",
      "metadata": {
        "id": "VYNBzHMuTvaH"
      },
      "source": [
        "Podemos usar la función `fillna` para sustituir los valores nulos por un valor específico."
      ]
    },
    {
      "cell_type": "code",
      "execution_count": null,
      "metadata": {
        "id": "Wekh3GhrTs4Z"
      },
      "outputs": [],
      "source": [
        "reviews.region_2.fillna(\"Desconocido\")"
      ]
    },
    {
      "cell_type": "markdown",
      "metadata": {
        "id": "05SKpZ9HUYpP"
      },
      "source": [
        "Es posible sustiituir el valor de una columna por otro en todo el dataframe:"
      ]
    },
    {
      "cell_type": "code",
      "execution_count": null,
      "metadata": {
        "id": "BvgfozAMUY2Y"
      },
      "outputs": [],
      "source": [
        "reviews.taster_twitter_handle.replace(\"@kerinokeefe\", \"@kerino\")"
      ]
    },
    {
      "cell_type": "code",
      "execution_count": null,
      "metadata": {
        "id": "0BTfP7DlVPtG"
      },
      "outputs": [],
      "source": [
        "reviews"
      ]
    },
    {
      "cell_type": "markdown",
      "metadata": {
        "id": "uMi2XrZMWfbf"
      },
      "source": [
        "## 6. Renombrado y combinado"
      ]
    },
    {
      "cell_type": "markdown",
      "metadata": {},
      "source": [
        "### Renombrado"
      ]
    },
    {
      "cell_type": "markdown",
      "metadata": {
        "id": "zDAon_ZGWr4f"
      },
      "source": [
        "Para renombrar una columna utilizar:"
      ]
    },
    {
      "cell_type": "code",
      "execution_count": null,
      "metadata": {
        "id": "0bAsW-bDWirO"
      },
      "outputs": [],
      "source": [
        "reviews.rename(columns={'points': 'score'})"
      ]
    },
    {
      "cell_type": "markdown",
      "metadata": {
        "id": "k4zt-cAAW9WG"
      },
      "source": [
        "Es posible renombrar también las etiquetas de los índices:"
      ]
    },
    {
      "cell_type": "code",
      "execution_count": null,
      "metadata": {
        "id": "r-CU3LgAXBuG"
      },
      "outputs": [],
      "source": [
        "reviews.rename(index={0: 'firstEntry', 1: 'secondEntry'})"
      ]
    },
    {
      "cell_type": "markdown",
      "metadata": {},
      "source": [
        "### Combinado\n",
        "\n",
        "Al realizar operaciones en un conjunto de datos, a veces necesitaremos combinar diferentes DataFrames y/o Series de formas no triviales. Pandas tiene tres métodos básicos para hacer esto. En orden de complejidad creciente, son `concat()`, `join()` y `merge()`. La mayor parte de lo que puede hacer `merge()` también se puede hacer de forma más sencilla con `join()`, por lo que la omitiremos y nos centraremos en las dos primeras funciones.\n",
        "\n",
        "El método de combinación más sencillo es `concat()`. Dada una lista de elementos, esta función los unirá a lo largo de un eje.\n",
        "\n",
        "Esto es útil cuando tenemos datos en diferentes objetos DataFrame o Series pero que tienen los mismos campos (columnas). Un ejemplo: el [conjunto de datos YouTube Videos](https://www.kaggle.com/datasnaek/youtube-new), que divide los datos en función del país de origen (por ejemplo, Canadá y el Reino Unido, en este ejemplo). Si queremos estudiar varios países a la vez, podemos utilizar `concat()` para agruparlos:"
      ]
    },
    {
      "cell_type": "code",
      "execution_count": null,
      "metadata": {},
      "outputs": [],
      "source": [
        "# Para poder ejecutar el código siguiente debe descargar los datasets y subirlos al almacenamiento temporal\n",
        "canadian_youtube = pd.read_csv(\"CAvideos.csv\")\n",
        "british_youtube = pd.read_csv(\"GBvideos.csv\")\n",
        "\n",
        "pd.concat([canadian_youtube, british_youtube])"
      ]
    },
    {
      "cell_type": "markdown",
      "metadata": {},
      "source": [
        "El combinador intermedio en términos de complejidad es `join()`. `join()` permite combinar diferentes objetos DataFrame que tienen un índice en común. Por ejemplo, para obtener los vídeos que fueron tendencia el mismo día en Canadá y en el Reino Unido, podemos hacer lo siguiente:"
      ]
    },
    {
      "cell_type": "code",
      "execution_count": null,
      "metadata": {},
      "outputs": [],
      "source": [
        "left = canadian_youtube.set_index(['title', 'trending_date'])\n",
        "right = british_youtube.set_index(['title', 'trending_date'])\n",
        "\n",
        "left.join(right, lsuffix='_CAN', rsuffix='_UK')"
      ]
    },
    {
      "cell_type": "markdown",
      "metadata": {},
      "source": [
        "Los parámetros `lsuffix` y `rsuffix` son necesarios aquí porque los datos tienen los mismos nombres de columna en los conjuntos de datos británicos y canadienses. Si no fuera así (porque, por ejemplo, les hubiéramos cambiado el nombre de antemano) no los necesitaríamos."
      ]
    }
  ],
  "metadata": {
    "colab": {
      "include_colab_link": true,
      "provenance": []
    },
    "kernelspec": {
      "display_name": "Python 3",
      "name": "python3"
    },
    "language_info": {
      "name": "python"
    }
  },
  "nbformat": 4,
  "nbformat_minor": 0
}
