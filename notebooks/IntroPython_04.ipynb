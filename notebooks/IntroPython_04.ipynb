{
  "cells": [
    {
      "cell_type": "markdown",
      "metadata": {
        "id": "view-in-github",
        "colab_type": "text"
      },
      "source": [
        "<a href=\"https://colab.research.google.com/github/vbatiz/intro-python/blob/main/notebooks/IntroPython_04.ipynb\" target=\"_parent\"><img src=\"https://colab.research.google.com/assets/colab-badge.svg\" alt=\"Open In Colab\"/></a>"
      ]
    },
    {
      "cell_type": "markdown",
      "metadata": {
        "id": "g00kjNUI1mT3"
      },
      "source": [
        "## Práctica con la biblioteca Pandas\n",
        "\n",
        "Para profundizar en esta biblioteca se puede visitar el sitio oficial dando clic [aquí](https://pandas.pydata.org/)."
      ]
    },
    {
      "cell_type": "code",
      "execution_count": null,
      "metadata": {
        "id": "F1gbWIKf1gcv"
      },
      "outputs": [],
      "source": [
        "import pandas as pd"
      ]
    },
    {
      "cell_type": "markdown",
      "metadata": {
        "id": "uftNA95seiq1"
      },
      "source": [
        "## Cargando el dataset\n",
        "Utilizaremos el dataset de la información del Titanic."
      ]
    },
    {
      "cell_type": "code",
      "execution_count": null,
      "metadata": {
        "id": "rQwihbrDeiq1"
      },
      "outputs": [],
      "source": [
        "!wget --no-check-certificate https://catalabs.mx/datasets/titanic.csv -O titanic.csv"
      ]
    },
    {
      "cell_type": "markdown",
      "metadata": {
        "id": "MFR39ktWeiq1"
      },
      "source": [
        "Creamos el dataframe a partir del archivo."
      ]
    },
    {
      "cell_type": "code",
      "execution_count": null,
      "metadata": {
        "id": "F0-egQdU2Kwe"
      },
      "outputs": [],
      "source": [
        "df_titanic = pd.read_csv('titanic.csv')"
      ]
    },
    {
      "cell_type": "code",
      "execution_count": null,
      "metadata": {
        "id": "d0EUpS3v2Tu1"
      },
      "outputs": [],
      "source": [
        "df_titanic.head()"
      ]
    },
    {
      "cell_type": "markdown",
      "metadata": {
        "id": "yvDvC-Xqeiq2"
      },
      "source": [
        "Creamos un nuevo dataframe con las columnas Name, Sex y Age."
      ]
    },
    {
      "cell_type": "code",
      "execution_count": null,
      "metadata": {
        "id": "2Rixv1293D5u"
      },
      "outputs": [],
      "source": [
        "df_nombre_sexo_edad = df_titanic[[\"Name\",\"Sex\",\"Age\"]]"
      ]
    },
    {
      "cell_type": "code",
      "execution_count": null,
      "metadata": {
        "id": "L3Onjcd03XT9"
      },
      "outputs": [],
      "source": [
        "df_nombre_sexo_edad.head(100)"
      ]
    },
    {
      "cell_type": "code",
      "execution_count": null,
      "metadata": {
        "id": "xdKhvOlf4M5m"
      },
      "outputs": [],
      "source": [
        "print(df_nombre_sexo_edad.Name[1])"
      ]
    },
    {
      "cell_type": "code",
      "execution_count": null,
      "metadata": {
        "id": "p0Z5PclB3hsW"
      },
      "outputs": [],
      "source": [
        "df_nombre_sexo_edad.shape"
      ]
    },
    {
      "cell_type": "markdown",
      "metadata": {
        "id": "QLxyCF6weiq4"
      },
      "source": [
        "Eliminamos los renglones en los cuales el campo de edad (Age) sea nulo."
      ]
    },
    {
      "cell_type": "code",
      "execution_count": null,
      "metadata": {
        "id": "L39C5Z-83mAV"
      },
      "outputs": [],
      "source": [
        "df_nombre_sexo_edad = df_nombre_sexo_edad.dropna()"
      ]
    },
    {
      "cell_type": "code",
      "execution_count": null,
      "metadata": {
        "id": "inOj05us3t8O"
      },
      "outputs": [],
      "source": [
        "df_nombre_sexo_edad.shape"
      ]
    },
    {
      "cell_type": "markdown",
      "metadata": {
        "id": "ckPfH507eiq4"
      },
      "source": [
        "Obtenemos un subconjunto de los datos que solo contenga a los menores de 10 años."
      ]
    },
    {
      "cell_type": "code",
      "execution_count": null,
      "metadata": {
        "id": "w2PaA_Fw5Iam"
      },
      "outputs": [],
      "source": [
        "menores_de_10 = df_nombre_sexo_edad[df_nombre_sexo_edad[\"Age\"] < 10]"
      ]
    },
    {
      "cell_type": "code",
      "execution_count": null,
      "metadata": {
        "id": "7qcKsUkJ5kot"
      },
      "outputs": [],
      "source": [
        "menores_de_10.head(20)"
      ]
    },
    {
      "cell_type": "markdown",
      "metadata": {
        "id": "40On7KH_5-y5"
      },
      "source": [
        "### Determinar sobrevivientes por Clase"
      ]
    },
    {
      "cell_type": "code",
      "execution_count": null,
      "metadata": {
        "id": "VBvNIuiA59_G"
      },
      "outputs": [],
      "source": [
        "#Obtenemos el conjunto de datos de pasajeros en primera clase\n",
        "primera_clase = df_titanic[df_titanic[\"Pclass\"] == 1]\n",
        "\n",
        "primera_clase.shape\n",
        "total_primera_clase = primera_clase.shape[0]\n",
        "print(total_primera_clase)\n",
        "primera_clase_vivos = primera_clase[primera_clase[\"Survived\"] > 0]\n",
        "primera_clase_vivos.shape\n",
        "total_primera_clase_vivos = primera_clase_vivos.shape[0]\n",
        "print(total_primera_clase_vivos)\n",
        "print(f\"De {total_primera_clase} pasajeros en primera clase, sobrevivieron {total_primera_clase_vivos} \\\n",
        "que representan el {round(total_primera_clase_vivos/total_primera_clase*100,2)}%\")"
      ]
    },
    {
      "cell_type": "code",
      "execution_count": null,
      "metadata": {
        "id": "_F7erVmo8YnG"
      },
      "outputs": [],
      "source": [
        "#Obtenemos el conjunto de datos de pasajeros en tercera clase\n",
        "tercera_clase = df_titanic[df_titanic[\"Pclass\"] == 3]\n",
        "\n",
        "tercera_clase.shape\n",
        "total_tercera_clase = tercera_clase.shape[0]\n",
        "print(total_tercera_clase)\n",
        "tercera_clase_vivos = tercera_clase[tercera_clase[\"Survived\"] > 0]\n",
        "tercera_clase_vivos.shape\n",
        "total_tercera_clase_vivos = tercera_clase_vivos.shape[0]\n",
        "print(total_tercera_clase_vivos)\n",
        "print(f\"De {total_tercera_clase} pasajeros en tercera clase, sobrevivieron {total_tercera_clase_vivos} \\\n",
        "que representan el {round(total_tercera_clase_vivos/total_tercera_clase*100,2)}%\")"
      ]
    },
    {
      "cell_type": "markdown",
      "metadata": {
        "id": "QBBVtf77eiq5"
      },
      "source": [
        "Ahora visualizaremos los valores de edad distribuidos por clase y usaremos el dato de sobrevivencia para colorear cada valor. ¿Qué podemos observar?"
      ]
    },
    {
      "cell_type": "code",
      "execution_count": null,
      "metadata": {
        "id": "ljdOEPu29ZSv"
      },
      "outputs": [],
      "source": [
        "import matplotlib.pyplot as plt\n",
        "import seaborn as sns"
      ]
    },
    {
      "cell_type": "code",
      "execution_count": null,
      "metadata": {
        "id": "Ive0hcYy9o2d"
      },
      "outputs": [],
      "source": [
        "sns.scatterplot(x=df_titanic[\"Pclass\"], y=df_titanic[\"Age\"], hue = df_titanic[\"Survived\"])"
      ]
    },
    {
      "cell_type": "markdown",
      "source": [
        "# Prácticas del curso de Pandas en Kaggle\n",
        "\n",
        "Esta sección se basa en el curso disponible [aquí](https://www.kaggle.com/learn/pandas). Se utiliza el conjunto de datos de revisiones de vinos disponible en la sección data del curso, descargarlo y subirlo al repositorio temporal de Colab para trabajar con esta práctica."
      ],
      "metadata": {
        "id": "YU659A6YjwGq"
      }
    },
    {
      "cell_type": "markdown",
      "source": [
        "## 1. Creando, leyendo y escribiendo."
      ],
      "metadata": {
        "id": "aP9RjwjykJMy"
      }
    },
    {
      "cell_type": "code",
      "source": [
        "import pandas as pd #importamos la biblioteca y le colocamos el apodo pd"
      ],
      "metadata": {
        "id": "NX__qztZks9v"
      },
      "execution_count": null,
      "outputs": []
    },
    {
      "cell_type": "markdown",
      "source": [
        "Creamos un dataframe a partir de un diccionario:"
      ],
      "metadata": {
        "id": "fAlO1NvMlPdO"
      }
    },
    {
      "cell_type": "code",
      "source": [
        "df_datos = pd.DataFrame({'Yes': [50, 21], 'No': [131, 2]})\n",
        "df_datos.head()"
      ],
      "metadata": {
        "id": "ufZWitLvlNVu"
      },
      "execution_count": null,
      "outputs": []
    },
    {
      "cell_type": "code",
      "source": [
        "df_datos2 = pd.DataFrame({'Bob': ['I liked it.', 'It was awful.'], 'Sue': ['Pretty good.', 'Bland.'], 'Tim':['It was great.','Boring.']})\n",
        "df_datos2.head()"
      ],
      "metadata": {
        "id": "NVTIPZu3l8bo"
      },
      "execution_count": null,
      "outputs": []
    },
    {
      "cell_type": "markdown",
      "source": [
        "Si quisiéramos cambiar la descripción de la columna de índices, lo podemos hacer con el parámetro `index`."
      ],
      "metadata": {
        "id": "YSUdr0g9nMC3"
      }
    },
    {
      "cell_type": "code",
      "source": [
        "pd.DataFrame({'Bob': ['I liked it.', 'It was awful.'],\n",
        "              'Sue': ['Pretty good.', 'Bland.']},\n",
        "             index=['Product A', 'Product B'])"
      ],
      "metadata": {
        "id": "srJJVd1vnXM2"
      },
      "execution_count": null,
      "outputs": []
    },
    {
      "cell_type": "markdown",
      "source": [
        "### Series\n",
        "\n",
        "Una serie en Pandas, es una secuencia de valores. Una columna de un dataframe puede considerarse como una serie. Podemos crear una serie utilizando una simple lista."
      ],
      "metadata": {
        "id": "aKKYBWJsn-yf"
      }
    },
    {
      "cell_type": "code",
      "source": [
        "pd.Series([1, 2, 3, 4, 5])"
      ],
      "metadata": {
        "id": "5ngUuVN1oOS_"
      },
      "execution_count": null,
      "outputs": []
    },
    {
      "cell_type": "markdown",
      "source": [
        "Una serie al igual que un dataframe puede tener títulos en los índices, así mismo le podemos dar un nombre a la serie de datos. Una serie es esencia el equivalente a una columna de un dataframe."
      ],
      "metadata": {
        "id": "kf1QNxJfozyu"
      }
    },
    {
      "cell_type": "code",
      "source": [
        "pd.Series([30, 35, 40], index=['2015 Sales', '2016 Sales', '2017 Sales'], name='Product A')"
      ],
      "metadata": {
        "id": "mzoTl5j-pFfP"
      },
      "execution_count": null,
      "outputs": []
    },
    {
      "cell_type": "markdown",
      "source": [
        "## Leyendo archivos de datos\n",
        "\n",
        "Existen diferentes formas de cargar archivos con Pandas, una de las más utilizadas es hacerlo a partir de un archivo separado por comas (CSV)."
      ],
      "metadata": {
        "id": "oYrRvZHFqNgz"
      }
    },
    {
      "cell_type": "code",
      "source": [
        "wine_reviews = pd.read_csv(\"winemag-data-130k-v2.csv\")"
      ],
      "metadata": {
        "id": "4sf9SWsAqQzO"
      },
      "execution_count": null,
      "outputs": []
    },
    {
      "cell_type": "code",
      "source": [
        "wine_reviews.head()"
      ],
      "metadata": {
        "id": "GciTABOgt3lg"
      },
      "execution_count": null,
      "outputs": []
    },
    {
      "cell_type": "code",
      "source": [
        "wine_reviews.shape"
      ],
      "metadata": {
        "id": "f6qnnqEDuQwO"
      },
      "execution_count": null,
      "outputs": []
    },
    {
      "cell_type": "markdown",
      "source": [
        "Podemos indicar una columna para que sea utilziada como etiquetas de índice (aparecerá totalemente a la izquierda de la tabla)."
      ],
      "metadata": {
        "id": "r03kUI0cvuUn"
      }
    },
    {
      "cell_type": "code",
      "source": [
        "wine_reviews = pd.read_csv(\"winemag-data-130k-v2.csv\", index_col=0)\n",
        "wine_reviews.head()"
      ],
      "metadata": {
        "id": "CXTw_vqev5WO"
      },
      "execution_count": null,
      "outputs": []
    },
    {
      "cell_type": "markdown",
      "source": [
        "## 2. Indexado, Selección y Asignación."
      ],
      "metadata": {
        "id": "RVQunRARwcT3"
      }
    },
    {
      "cell_type": "markdown",
      "source": [
        "### Cargamos los datos"
      ],
      "metadata": {
        "id": "bMUYogUjxAkm"
      }
    },
    {
      "cell_type": "code",
      "source": [
        "import pandas as pd\n",
        "reviews = pd.read_csv(\"winemag-data-130k-v2.csv\", index_col=0)\n",
        "pd.set_option('display.max_rows', 5)"
      ],
      "metadata": {
        "id": "Auy_DGlJxCfn"
      },
      "execution_count": null,
      "outputs": []
    },
    {
      "cell_type": "markdown",
      "source": [
        "Podemos revisar los valores de una columna, usando el nombre de la misma. Si la columna no tiene espacios en el nombre se puede usar la estructura `dataframe.columna`, si la columna tiene espacios se debe usar `dataframe[\"Columna\"]`. Esta última opción aplica sin problema para las columnas sin espacios."
      ],
      "metadata": {
        "id": "ctDIcJZkyBSX"
      }
    },
    {
      "cell_type": "code",
      "source": [
        "reviews"
      ],
      "metadata": {
        "id": "lurz_jrwxHx2"
      },
      "execution_count": null,
      "outputs": []
    },
    {
      "cell_type": "code",
      "source": [
        "reviews.country"
      ],
      "metadata": {
        "id": "7LVBRWYrx-WK"
      },
      "execution_count": null,
      "outputs": []
    },
    {
      "cell_type": "code",
      "source": [
        "reviews['country']"
      ],
      "metadata": {
        "id": "GGPWjVlHyYau"
      },
      "execution_count": null,
      "outputs": []
    },
    {
      "cell_type": "markdown",
      "source": [
        "Para acceder a un dato específico de una columna, podemos usar la misma nomenclatura que usamos para acceder a una lista. Indicando el índice del elemento que deseamos consultar."
      ],
      "metadata": {
        "id": "McFJlQTky-zP"
      }
    },
    {
      "cell_type": "code",
      "source": [
        "reviews['country'][100]"
      ],
      "metadata": {
        "id": "hD7T8mTEzJ1H"
      },
      "execution_count": null,
      "outputs": []
    },
    {
      "cell_type": "markdown",
      "source": [
        "### Selección basada en índices (Index-based selection)."
      ],
      "metadata": {
        "id": "EyHdsEPqzwWH"
      }
    },
    {
      "cell_type": "code",
      "source": [
        "reviews.iloc[0]"
      ],
      "metadata": {
        "id": "FXXhOU93z24e"
      },
      "execution_count": null,
      "outputs": []
    },
    {
      "cell_type": "markdown",
      "source": [
        "Podemos usar las reglas de slicing de las listas para recuperar una parte de los renglones y de las columnas (loc e iloc usan el orden renglones:columnas)."
      ],
      "metadata": {
        "id": "BeAI6fbW00z3"
      }
    },
    {
      "cell_type": "code",
      "source": [
        "reviews.iloc[:, 0:3] #Esto es equivalente a: reviews[['country','description','designation']]"
      ],
      "metadata": {
        "id": "TaXF1XVq1FO-"
      },
      "execution_count": null,
      "outputs": []
    },
    {
      "cell_type": "code",
      "source": [
        "reviews.iloc[:3, 0]"
      ],
      "metadata": {
        "id": "cKjFiTGb2Bbu"
      },
      "execution_count": null,
      "outputs": []
    },
    {
      "cell_type": "markdown",
      "source": [
        "Podemos indicar una lista con los índices que deseamos obtener:"
      ],
      "metadata": {
        "id": "QANGHMee2F-H"
      }
    },
    {
      "cell_type": "code",
      "source": [
        "reviews.iloc[[0, 10, 20], 0]"
      ],
      "metadata": {
        "id": "Dbpzidkt2CdG"
      },
      "execution_count": null,
      "outputs": []
    },
    {
      "cell_type": "markdown",
      "source": [
        "Vale la pena mencionar que al igual que en las listas, podemos usar valores negativos para indicar las posiciones:"
      ],
      "metadata": {
        "id": "59LaSD0z2f8m"
      }
    },
    {
      "cell_type": "code",
      "source": [
        "reviews.iloc[-5:]  #Recupera los últimos 5 registros"
      ],
      "metadata": {
        "id": "Yi709nBS2lq2"
      },
      "execution_count": null,
      "outputs": []
    },
    {
      "cell_type": "markdown",
      "source": [
        "### Selección basada en etiquetas (Label-based selection)."
      ],
      "metadata": {
        "id": "k4MHmTkM22kn"
      }
    },
    {
      "cell_type": "code",
      "source": [
        "reviews.loc[0, 'country']"
      ],
      "metadata": {
        "id": "QCs0cO4l26R_"
      },
      "execution_count": null,
      "outputs": []
    },
    {
      "cell_type": "code",
      "source": [
        "reviews.loc[:, ['taster_name', 'taster_twitter_handle', 'points']]"
      ],
      "metadata": {
        "id": "AHf4KAl93Keu"
      },
      "execution_count": null,
      "outputs": []
    },
    {
      "cell_type": "markdown",
      "source": [
        "### Manipulando las etiquetas de los índices"
      ],
      "metadata": {
        "id": "YMyzMo9_39yG"
      }
    },
    {
      "cell_type": "code",
      "source": [
        "reviews.set_index(\"title\")"
      ],
      "metadata": {
        "id": "bIIjHc4U4BnP"
      },
      "execution_count": null,
      "outputs": []
    },
    {
      "cell_type": "markdown",
      "source": [
        "### Selección condicional"
      ],
      "metadata": {
        "id": "BgAxPw-14kwO"
      }
    },
    {
      "cell_type": "code",
      "source": [
        "reviews.country == 'Italy'"
      ],
      "metadata": {
        "id": "wIomi9nT4oRX"
      },
      "execution_count": null,
      "outputs": []
    },
    {
      "cell_type": "code",
      "source": [
        "reviews.loc[reviews.country == 'Mexico']"
      ],
      "metadata": {
        "id": "O2VfRvr14sNe"
      },
      "execution_count": null,
      "outputs": []
    },
    {
      "cell_type": "markdown",
      "source": [
        "También podemos realizar selección con varias condiciones, podemos por ejemplo utilizar condiciones *and* (&) u *or* (|)."
      ],
      "metadata": {
        "id": "qcdYknpX5mUA"
      }
    },
    {
      "cell_type": "code",
      "source": [
        "reviews.loc[(reviews.country == 'Mexico') & (reviews.points >= 90)]"
      ],
      "metadata": {
        "id": "KN-7-VTr5VCO"
      },
      "execution_count": null,
      "outputs": []
    },
    {
      "cell_type": "code",
      "source": [
        "reviews.loc[(reviews.country == 'Mexico') | (reviews.country == 'Uruguay')]"
      ],
      "metadata": {
        "id": "c7jH3jL853JV"
      },
      "execution_count": null,
      "outputs": []
    },
    {
      "cell_type": "markdown",
      "source": [
        "Otra forma de filtrar los datos es con la función `isin`. Esta función recibe una lista de los valores a verificar."
      ],
      "metadata": {
        "id": "ocAW6lQO6aPf"
      }
    },
    {
      "cell_type": "code",
      "source": [
        "reviews.loc[reviews.country.isin(['Italy', 'France', 'Mexico'])]"
      ],
      "metadata": {
        "id": "hZEThoBx57VP"
      },
      "execution_count": null,
      "outputs": []
    },
    {
      "cell_type": "markdown",
      "source": [
        "Podemos incluso filtrar los valores nulos:"
      ],
      "metadata": {
        "id": "t2saeUz27FDW"
      }
    },
    {
      "cell_type": "code",
      "source": [
        "reviews.loc[reviews.price.notnull()]"
      ],
      "metadata": {
        "id": "QiSte2OR7AvH"
      },
      "execution_count": null,
      "outputs": []
    },
    {
      "cell_type": "markdown",
      "source": [
        "### Asignación de valores"
      ],
      "metadata": {
        "id": "r8aKBfWV7m62"
      }
    },
    {
      "cell_type": "markdown",
      "source": [
        "Es posible asignar un mismo valor a todos los renglones"
      ],
      "metadata": {
        "id": "2mq04Gx97piv"
      }
    },
    {
      "cell_type": "code",
      "source": [
        "reviews['critic'] = 'everyone'\n",
        "reviews"
      ],
      "metadata": {
        "id": "5aspkuZr7p-e"
      },
      "execution_count": null,
      "outputs": []
    },
    {
      "cell_type": "markdown",
      "source": [
        "También se pueden asignar los elementos de una lista o rango generado:"
      ],
      "metadata": {
        "id": "sQh_hbOW8K-u"
      }
    },
    {
      "cell_type": "code",
      "source": [
        "reviews['index_backwards'] = range(len(reviews), 0, -1)\n",
        "reviews['index_backwards']"
      ],
      "metadata": {
        "id": "o3figwt58Q--"
      },
      "execution_count": null,
      "outputs": []
    },
    {
      "cell_type": "markdown",
      "source": [
        "Finalmente podemos crear un campo calculado:"
      ],
      "metadata": {
        "id": "XhQy_tPC8R5G"
      }
    },
    {
      "cell_type": "code",
      "source": [
        "reviews['new_price'] = reviews.price * 1.15\n",
        "reviews.loc[:,['price','new_price']]"
      ],
      "metadata": {
        "id": "-_NZlIVp8XIe"
      },
      "execution_count": null,
      "outputs": []
    },
    {
      "cell_type": "markdown",
      "source": [
        "## 3. Funciones de sumarizado y mapeo (Summary Functions and Maps)"
      ],
      "metadata": {
        "id": "AD8E2ZwECRsf"
      }
    },
    {
      "cell_type": "code",
      "source": [
        "pd.set_option('display.max_rows', 20)\n",
        "reviews"
      ],
      "metadata": {
        "id": "ej0dIzYk9ol-"
      },
      "execution_count": null,
      "outputs": []
    },
    {
      "cell_type": "markdown",
      "source": [
        "#### Funciones de sumarizado"
      ],
      "metadata": {
        "id": "nNHsjn0iCx1O"
      }
    },
    {
      "cell_type": "code",
      "source": [
        "reviews.points.describe()"
      ],
      "metadata": {
        "id": "OoXez49PC12o"
      },
      "execution_count": null,
      "outputs": []
    },
    {
      "cell_type": "code",
      "source": [
        "reviews.describe()"
      ],
      "metadata": {
        "id": "1FMkM374C8wH"
      },
      "execution_count": null,
      "outputs": []
    },
    {
      "cell_type": "code",
      "source": [
        "reviews.taster_name.describe()"
      ],
      "metadata": {
        "id": "os43ClI3DQI3"
      },
      "execution_count": null,
      "outputs": []
    },
    {
      "cell_type": "code",
      "source": [
        "reviews.taster_name.unique()"
      ],
      "metadata": {
        "id": "Ljmi3gRWDoSm"
      },
      "execution_count": null,
      "outputs": []
    },
    {
      "cell_type": "code",
      "source": [
        "reviews.country.unique()"
      ],
      "metadata": {
        "id": "XCh5qoOdDuaX"
      },
      "execution_count": null,
      "outputs": []
    },
    {
      "cell_type": "code",
      "source": [
        "print(reviews.points.mean())\n",
        "print(reviews.points.std())\n",
        "print(reviews.points.median())"
      ],
      "metadata": {
        "id": "TfD6aiKYD5Ln"
      },
      "execution_count": null,
      "outputs": []
    },
    {
      "cell_type": "code",
      "source": [
        "reviews.taster_name.value_counts()"
      ],
      "metadata": {
        "id": "KdVt7uHrEU6o"
      },
      "execution_count": null,
      "outputs": []
    },
    {
      "cell_type": "code",
      "source": [
        "df_paises = reviews.country.value_counts()\n",
        "df_paises.tail(20)"
      ],
      "metadata": {
        "id": "ayW6mtMMEa9n"
      },
      "execution_count": null,
      "outputs": []
    },
    {
      "cell_type": "markdown",
      "source": [
        "#### Mapeos"
      ],
      "metadata": {
        "id": "3SiRGQg7GC6e"
      }
    },
    {
      "cell_type": "code",
      "source": [
        "review_points_mean = reviews.points.mean()\n",
        "reviews.points.map(lambda p: p - review_points_mean)"
      ],
      "metadata": {
        "id": "g4mcYJjKGE5P"
      },
      "execution_count": null,
      "outputs": []
    },
    {
      "cell_type": "code",
      "source": [
        "def remean_points(row):\n",
        "    row.points = row.points - review_points_mean\n",
        "    return row\n",
        "\n",
        "reviews.apply(remean_points, axis='columns')"
      ],
      "metadata": {
        "id": "dYzJ0WqqG8kO"
      },
      "execution_count": null,
      "outputs": []
    },
    {
      "cell_type": "markdown",
      "source": [
        "Pandas ofrece una forma más directa de aplicar una operación sobre una columna:"
      ],
      "metadata": {
        "id": "lky9YOyIIOdX"
      }
    },
    {
      "cell_type": "code",
      "source": [
        "review_points_mean = reviews.points.mean()\n",
        "reviews.points - review_points_mean"
      ],
      "metadata": {
        "id": "ISBO7U91HW3g"
      },
      "execution_count": null,
      "outputs": []
    },
    {
      "cell_type": "code",
      "source": [
        "reviews.country + \" - \" + reviews.region_1"
      ],
      "metadata": {
        "id": "2Zx6sBhqIsNW"
      },
      "execution_count": null,
      "outputs": []
    },
    {
      "cell_type": "markdown",
      "source": [
        "## 4. Agrupamiento y ordenamiento"
      ],
      "metadata": {
        "id": "GilL-o7DJf3u"
      }
    },
    {
      "cell_type": "markdown",
      "source": [
        "#### Operaciones de agrupamiento"
      ],
      "metadata": {
        "id": "0SxSIEkfJl81"
      }
    },
    {
      "cell_type": "code",
      "source": [
        "reviews.groupby('points').points.count()"
      ],
      "metadata": {
        "id": "zBZzeuHgJfK_"
      },
      "execution_count": null,
      "outputs": []
    },
    {
      "cell_type": "code",
      "source": [
        "reviews.groupby('country').country.count()"
      ],
      "metadata": {
        "id": "UlIWXxTvJxiG"
      },
      "execution_count": null,
      "outputs": []
    },
    {
      "cell_type": "markdown",
      "source": [
        "Una vez agrupados podemos solicitar información de algun campo específico y obtendremos dicho valor para cada grupo."
      ],
      "metadata": {
        "id": "42LD0WN7KT5x"
      }
    },
    {
      "cell_type": "code",
      "source": [
        "reviews.groupby('points').price.mean()"
      ],
      "metadata": {
        "id": "2Bhc21E7KUFO"
      },
      "execution_count": null,
      "outputs": []
    },
    {
      "cell_type": "code",
      "source": [
        "reviews.groupby('points').price.min()"
      ],
      "metadata": {
        "id": "655z3Ch4K9VO"
      },
      "execution_count": null,
      "outputs": []
    },
    {
      "cell_type": "markdown",
      "source": [
        "También por ejemplo podemos obtener el título del primer vino revisado de cada grupo de empresas."
      ],
      "metadata": {
        "id": "ztmZypc-LjWv"
      }
    },
    {
      "cell_type": "code",
      "source": [
        "reviews.groupby('winery').apply(lambda df: df.title.iloc[0])"
      ],
      "metadata": {
        "id": "jg9lmVRSLVhO"
      },
      "execution_count": null,
      "outputs": []
    },
    {
      "cell_type": "markdown",
      "source": [
        "Para obtener el vino mejor calificado por País y Provincia:"
      ],
      "metadata": {
        "id": "mOgtHEKyMBWP"
      }
    },
    {
      "cell_type": "code",
      "source": [
        "reviews.groupby(['country', 'province']).apply(lambda df: df.loc[df.points.idxmax()])"
      ],
      "metadata": {
        "id": "4EwsuRtuL_C-"
      },
      "execution_count": null,
      "outputs": []
    },
    {
      "cell_type": "code",
      "source": [
        "reviews.groupby(['country']).price.agg([len, min, max])"
      ],
      "metadata": {
        "id": "FcSVBsMqNFZ2"
      },
      "execution_count": null,
      "outputs": []
    },
    {
      "cell_type": "code",
      "source": [
        "reviews.groupby('country').points.max()"
      ],
      "metadata": {
        "id": "AqLPBFFxNWMI"
      },
      "execution_count": null,
      "outputs": []
    },
    {
      "cell_type": "code",
      "source": [
        "countries_reviewed = reviews.groupby(['country', 'province']).description.agg([len])\n",
        "countries_reviewed"
      ],
      "metadata": {
        "id": "BO8fQ58rOmxe"
      },
      "execution_count": null,
      "outputs": []
    },
    {
      "cell_type": "code",
      "source": [
        "countries_reviewed.reset_index()"
      ],
      "metadata": {
        "id": "Cq-dKmmePD--"
      },
      "execution_count": null,
      "outputs": []
    },
    {
      "cell_type": "markdown",
      "source": [
        "### Ordenamiento"
      ],
      "metadata": {
        "id": "yrHXkeWdPewW"
      }
    },
    {
      "cell_type": "code",
      "source": [
        "countries_reviewed = countries_reviewed.reset_index()\n",
        "countries_reviewed.sort_values(by='len')"
      ],
      "metadata": {
        "id": "hzkSKX-HPd_G"
      },
      "execution_count": null,
      "outputs": []
    },
    {
      "cell_type": "code",
      "source": [
        "countries_reviewed.sort_values(by='len', ascending=False)"
      ],
      "metadata": {
        "id": "V4UyBaRuPkfD"
      },
      "execution_count": null,
      "outputs": []
    },
    {
      "cell_type": "markdown",
      "source": [
        "Ordenando con base al índice de los renglones"
      ],
      "metadata": {
        "id": "UQTi0UO0QFGA"
      }
    },
    {
      "cell_type": "code",
      "source": [
        "countries_reviewed.sort_index()"
      ],
      "metadata": {
        "id": "JM9VKYqAQECm"
      },
      "execution_count": null,
      "outputs": []
    },
    {
      "cell_type": "code",
      "source": [
        "countries_reviewed.sort_index(ascending=False)"
      ],
      "metadata": {
        "id": "ZpQ_gqDJQQ3W"
      },
      "execution_count": null,
      "outputs": []
    },
    {
      "cell_type": "code",
      "source": [
        "countries_reviewed.sort_values(by=['country', 'len'])"
      ],
      "metadata": {
        "id": "un7uHT-bQWmo"
      },
      "execution_count": null,
      "outputs": []
    },
    {
      "cell_type": "code",
      "source": [
        "countries_reviewed.sort_values(by=['country', 'len'], ascending=[True, False])"
      ],
      "metadata": {
        "id": "2jSgDjnmQiYG"
      },
      "execution_count": null,
      "outputs": []
    },
    {
      "cell_type": "markdown",
      "source": [
        "## 5. Tipos de datos y valores nulos"
      ],
      "metadata": {
        "id": "5WHV7zWSRAKv"
      }
    },
    {
      "cell_type": "markdown",
      "source": [
        "Se puede verificar el tipo de datos de todas las columnas o de una columna en específico:"
      ],
      "metadata": {
        "id": "73gQGztKRJv-"
      }
    },
    {
      "cell_type": "code",
      "source": [
        "reviews.dtypes"
      ],
      "metadata": {
        "id": "2rGg3avpRPiZ"
      },
      "execution_count": null,
      "outputs": []
    },
    {
      "cell_type": "code",
      "source": [
        "reviews.price.dtype"
      ],
      "metadata": {
        "id": "Vt1ePRHlRE23"
      },
      "execution_count": null,
      "outputs": []
    },
    {
      "cell_type": "code",
      "source": [
        "reviews.points.astype('float64')"
      ],
      "metadata": {
        "id": "3QrlmxlnRx82"
      },
      "execution_count": null,
      "outputs": []
    },
    {
      "cell_type": "markdown",
      "source": [
        "### Manejando datos nulos"
      ],
      "metadata": {
        "id": "V2dfFUG2TaWu"
      }
    },
    {
      "cell_type": "code",
      "source": [
        "reviews[pd.isnull(reviews.country)]"
      ],
      "metadata": {
        "id": "xmVUiXyRTeuf"
      },
      "execution_count": null,
      "outputs": []
    },
    {
      "cell_type": "markdown",
      "source": [
        "Podemos usar la función `fillna` para sustituir los valores nulos por un valor específico."
      ],
      "metadata": {
        "id": "VYNBzHMuTvaH"
      }
    },
    {
      "cell_type": "code",
      "source": [
        "reviews.region_2.fillna(\"Desconocido\")"
      ],
      "metadata": {
        "id": "Wekh3GhrTs4Z"
      },
      "execution_count": null,
      "outputs": []
    },
    {
      "cell_type": "markdown",
      "source": [
        "Es posible sustiituir el valor de una columna por otro en todo el dataframe:"
      ],
      "metadata": {
        "id": "05SKpZ9HUYpP"
      }
    },
    {
      "cell_type": "code",
      "source": [
        "reviews.taster_twitter_handle.replace(\"@kerinokeefe\", \"@kerino\")"
      ],
      "metadata": {
        "id": "BvgfozAMUY2Y"
      },
      "execution_count": null,
      "outputs": []
    },
    {
      "cell_type": "code",
      "source": [
        "reviews"
      ],
      "metadata": {
        "id": "0BTfP7DlVPtG"
      },
      "execution_count": null,
      "outputs": []
    },
    {
      "cell_type": "markdown",
      "source": [
        "## 6. Renombrado y combiando"
      ],
      "metadata": {
        "id": "uMi2XrZMWfbf"
      }
    },
    {
      "cell_type": "markdown",
      "source": [
        "Para renombrar una columna utilizar:"
      ],
      "metadata": {
        "id": "zDAon_ZGWr4f"
      }
    },
    {
      "cell_type": "code",
      "source": [
        "reviews.rename(columns={'points': 'score'})"
      ],
      "metadata": {
        "id": "0bAsW-bDWirO"
      },
      "execution_count": null,
      "outputs": []
    },
    {
      "cell_type": "markdown",
      "source": [
        "Es posible renombrar también las etiquetas de los índices:"
      ],
      "metadata": {
        "id": "k4zt-cAAW9WG"
      }
    },
    {
      "cell_type": "code",
      "source": [
        "reviews.rename(index={0: 'firstEntry', 1: 'secondEntry'})"
      ],
      "metadata": {
        "id": "r-CU3LgAXBuG"
      },
      "execution_count": null,
      "outputs": []
    }
  ],
  "metadata": {
    "colab": {
      "provenance": [],
      "include_colab_link": true
    },
    "kernelspec": {
      "display_name": "Python 3",
      "name": "python3"
    },
    "language_info": {
      "name": "python"
    }
  },
  "nbformat": 4,
  "nbformat_minor": 0
}