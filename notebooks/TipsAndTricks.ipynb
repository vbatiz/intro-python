{
  "cells": [
    {
      "cell_type": "markdown",
      "metadata": {
        "id": "Aj4RHcDl9sDf"
      },
      "source": [
        "### Creando códigos QR"
      ]
    },
    {
      "cell_type": "code",
      "execution_count": null,
      "metadata": {
        "id": "poFC1vCv9sDl"
      },
      "outputs": [],
      "source": [
        "#Instalamos la biblioteca qrcode\n",
        "!pip install qrcode"
      ]
    },
    {
      "cell_type": "code",
      "execution_count": null,
      "metadata": {
        "id": "-7j3QsXc9sDn"
      },
      "outputs": [],
      "source": [
        "import qrcode  #Biblioteca que nos permite generar códigos QR\n",
        "from IPython.display import Image #Para poder desplegar imágenes en la notebook"
      ]
    },
    {
      "cell_type": "code",
      "execution_count": null,
      "metadata": {
        "id": "I8nVM7cv9sDn"
      },
      "outputs": [],
      "source": [
        "vinculo = \"https://www.kaggle.com/learn\"\n",
        "imagen = qrcode.make(vinculo)\n",
        "imagen.save(\"codigo.png\")"
      ]
    },
    {
      "cell_type": "markdown",
      "metadata": {
        "id": "nymX6OwW9sDn"
      },
      "source": [
        "Visualizamos el código QR resultante."
      ]
    },
    {
      "cell_type": "code",
      "execution_count": null,
      "metadata": {
        "id": "kT4TExNh9sDo"
      },
      "outputs": [],
      "source": [
        "Image('codigo.png', width=300, height=300)"
      ]
    },
    {
      "cell_type": "markdown",
      "metadata": {
        "id": "bqRXIAEO9sDo"
      },
      "source": [
        "#### **Uso avanzado**: diferentes estilos de dibujo para el código QR"
      ]
    },
    {
      "cell_type": "markdown",
      "metadata": {
        "id": "8uhx4-Ft9sDo"
      },
      "source": [
        "##### Usando colores diferentes\n",
        "\n",
        "Crearemos un objeto de la clase QRCode para definir sus propiedades básicas."
      ]
    },
    {
      "cell_type": "code",
      "execution_count": null,
      "metadata": {
        "id": "VWTM7bco9sDp"
      },
      "outputs": [],
      "source": [
        "qr = qrcode.QRCode(\n",
        "    version=1,\n",
        "    error_correction=qrcode.constants.ERROR_CORRECT_L,\n",
        "    box_size=10,  #controla cuántos píxeles tiene cada \"caja\" del código QR.\n",
        "    border=4,\n",
        ")"
      ]
    },
    {
      "cell_type": "markdown",
      "metadata": {
        "id": "9de6cEse9sDp"
      },
      "source": [
        "El parámetro ***version*** es un número entero de 1 a 40 que controla el tamaño del código QR (el más pequeño, version = 1, es una matriz de 21x21). Ajústelo a `None` y utilice el parámetro `fit` al crear el código para determinarlo automáticamente.\n",
        "\n",
        "El parámetro ***box_size*** controla cuántos píxeles tiene cada \"casilla\" del código QR.\n",
        "\n",
        "El parámetro ***border*** controla cuántas casillas de grosor debe tener el borde (el valor por defecto es 4, que es el mínimo según las especificaciones)."
      ]
    },
    {
      "cell_type": "markdown",
      "metadata": {
        "id": "moHgnMx49sDp"
      },
      "source": [
        "Agregamos la información que va a contener el código QR:"
      ]
    },
    {
      "cell_type": "code",
      "execution_count": null,
      "metadata": {
        "id": "-l3dwFoi9sDp"
      },
      "outputs": [],
      "source": [
        "vinculo = \"https://www.kaggle.com/learn\"\n",
        "qr.add_data(vinculo)\n",
        "qr.make(fit=True)\n",
        "img = qr.make_image(fill_color=\"DarkGoldenRod\", back_color=\"white\")"
      ]
    },
    {
      "cell_type": "markdown",
      "metadata": {
        "id": "4iu8bGkJ9sDp"
      },
      "source": [
        "`fill_color` y `back_color` pueden cambiar el fondo y el color de frente del QR, cuando se utiliza la fábrica de imágenes por defecto. Ambos parámetros aceptan tuplas de color RGB."
      ]
    },
    {
      "cell_type": "code",
      "execution_count": null,
      "metadata": {
        "id": "0cVCZzf99sDq"
      },
      "outputs": [],
      "source": [
        "img.save('kaggle_color.png')"
      ]
    },
    {
      "cell_type": "code",
      "execution_count": null,
      "metadata": {
        "id": "sQmCQ5DA9sDq"
      },
      "outputs": [],
      "source": [
        "Image('kaggle_color.png', width=300, height=300)"
      ]
    },
    {
      "cell_type": "markdown",
      "source": [
        "# Generación de audio"
      ],
      "metadata": {
        "id": "jWTSF9pcBNdc"
      }
    },
    {
      "cell_type": "code",
      "source": [
        "!pip install gTTs"
      ],
      "metadata": {
        "id": "Y4TVmzM7BRdl",
        "outputId": "f923a48f-ceef-4539-81e7-dd37c9404b30",
        "colab": {
          "base_uri": "https://localhost:8080/"
        }
      },
      "execution_count": 1,
      "outputs": [
        {
          "output_type": "stream",
          "name": "stdout",
          "text": [
            "Collecting gTTs\n",
            "  Downloading gTTS-2.5.1-py3-none-any.whl (29 kB)\n",
            "Requirement already satisfied: requests<3,>=2.27 in /usr/local/lib/python3.10/dist-packages (from gTTs) (2.31.0)\n",
            "Requirement already satisfied: click<8.2,>=7.1 in /usr/local/lib/python3.10/dist-packages (from gTTs) (8.1.7)\n",
            "Requirement already satisfied: charset-normalizer<4,>=2 in /usr/local/lib/python3.10/dist-packages (from requests<3,>=2.27->gTTs) (3.3.2)\n",
            "Requirement already satisfied: idna<4,>=2.5 in /usr/local/lib/python3.10/dist-packages (from requests<3,>=2.27->gTTs) (3.7)\n",
            "Requirement already satisfied: urllib3<3,>=1.21.1 in /usr/local/lib/python3.10/dist-packages (from requests<3,>=2.27->gTTs) (2.0.7)\n",
            "Requirement already satisfied: certifi>=2017.4.17 in /usr/local/lib/python3.10/dist-packages (from requests<3,>=2.27->gTTs) (2024.2.2)\n",
            "Installing collected packages: gTTs\n",
            "Successfully installed gTTs-2.5.1\n"
          ]
        }
      ]
    },
    {
      "cell_type": "code",
      "source": [
        "from gtts import gTTS\n",
        "from IPython.display import Audio"
      ],
      "metadata": {
        "id": "jYdF_JeUBcjE"
      },
      "execution_count": 2,
      "outputs": []
    },
    {
      "cell_type": "code",
      "source": [
        "def text2speech(texto, lang, accent, nombre_archivo=\"audio.mp3\"):\n",
        "  tts = gTTS(text=texto, lang=lang, tld=accent)\n",
        "  tts.save(nombre_archivo)"
      ],
      "metadata": {
        "id": "Qh7KdWHsBwmz"
      },
      "execution_count": 3,
      "outputs": []
    },
    {
      "cell_type": "code",
      "source": [
        "text2speech(\"la imaginación es más importante que el conocimiento\",'es','com.mx')\n",
        "Audio(\"audio.mp3\", autoplay=True)"
      ],
      "metadata": {
        "id": "WSQgbm0BCTeF",
        "outputId": "22a15297-3268-48d0-b783-9368e4963919",
        "colab": {
          "base_uri": "https://localhost:8080/",
          "height": 75
        }
      },
      "execution_count": 5,
      "outputs": [
        {
          "output_type": "execute_result",
          "data": {
            "text/plain": [
              "<IPython.lib.display.Audio object>"
            ],
            "text/html": [
              "\n",
              "                <audio  controls=\"controls\" autoplay=\"autoplay\">\n",
              "                    <source src=\"data:audio/mpeg;base64,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\" type=\"audio/mpeg\" />\n",
              "                    Your browser does not support the audio element.\n",
              "                </audio>\n",
              "              "
            ]
          },
          "metadata": {},
          "execution_count": 5
        }
      ]
    },
    {
      "cell_type": "code",
      "source": [
        "text2speech(\"Imagination is more important than knowledge\",'en','com.au')\n",
        "Audio(\"audio.mp3\", autoplay=True)"
      ],
      "metadata": {
        "id": "ZPTnDKe3vnRc",
        "outputId": "68c44334-1c04-493a-ec95-233534e7d94d",
        "colab": {
          "base_uri": "https://localhost:8080/",
          "height": 75
        }
      },
      "execution_count": 12,
      "outputs": [
        {
          "output_type": "execute_result",
          "data": {
            "text/plain": [
              "<IPython.lib.display.Audio object>"
            ],
            "text/html": [
              "\n",
              "                <audio  controls=\"controls\" autoplay=\"autoplay\">\n",
              "                    <source src=\"data:audio/mpeg;base64,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\" type=\"audio/mpeg\" />\n",
              "                    Your browser does not support the audio element.\n",
              "                </audio>\n",
              "              "
            ]
          },
          "metadata": {},
          "execution_count": 12
        }
      ]
    },
    {
      "cell_type": "code",
      "source": [
        "text2speech(\"Imagination is more important than knowledge\",'en','co.in')\n",
        "Audio(\"audio.mp3\", autoplay=True)"
      ],
      "metadata": {
        "id": "0w7XhQQAwA3-",
        "outputId": "2ac4c84b-3ce3-4522-9c37-f18cce636935",
        "colab": {
          "base_uri": "https://localhost:8080/",
          "height": 75
        }
      },
      "execution_count": 11,
      "outputs": [
        {
          "output_type": "execute_result",
          "data": {
            "text/plain": [
              "<IPython.lib.display.Audio object>"
            ],
            "text/html": [
              "\n",
              "                <audio  controls=\"controls\" autoplay=\"autoplay\">\n",
              "                    <source src=\"data:audio/mpeg;base64,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\" type=\"audio/mpeg\" />\n",
              "                    Your browser does not support the audio element.\n",
              "                </audio>\n",
              "              "
            ]
          },
          "metadata": {},
          "execution_count": 11
        }
      ]
    }
  ],
  "metadata": {
    "kernelspec": {
      "display_name": "Python 3",
      "language": "python",
      "name": "python3"
    },
    "language_info": {
      "codemirror_mode": {
        "name": "ipython",
        "version": 3
      },
      "file_extension": ".py",
      "mimetype": "text/x-python",
      "name": "python",
      "nbconvert_exporter": "python",
      "pygments_lexer": "ipython3",
      "version": "3.10.13"
    },
    "colab": {
      "provenance": []
    }
  },
  "nbformat": 4,
  "nbformat_minor": 0
}