{
  "cells": [
    {
      "cell_type": "markdown",
      "metadata": {
        "id": "Aj4RHcDl9sDf"
      },
      "source": [
        "### Creando códigos QR"
      ]
    },
    {
      "cell_type": "code",
      "execution_count": null,
      "metadata": {
        "id": "poFC1vCv9sDl"
      },
      "outputs": [],
      "source": [
        "#Instalamos la biblioteca qrcode\n",
        "!pip install qrcode"
      ]
    },
    {
      "cell_type": "code",
      "execution_count": null,
      "metadata": {
        "id": "-7j3QsXc9sDn"
      },
      "outputs": [],
      "source": [
        "import qrcode  #Biblioteca que nos permite generar códigos QR\n",
        "from IPython.display import Image #Para poder desplegar imágenes en la notebook"
      ]
    },
    {
      "cell_type": "code",
      "execution_count": null,
      "metadata": {
        "id": "I8nVM7cv9sDn"
      },
      "outputs": [],
      "source": [
        "vinculo = \"https://www.kaggle.com/learn\"\n",
        "imagen = qrcode.make(vinculo)\n",
        "imagen.save(\"codigo.png\")"
      ]
    },
    {
      "cell_type": "markdown",
      "metadata": {
        "id": "nymX6OwW9sDn"
      },
      "source": [
        "Visualizamos el código QR resultante."
      ]
    },
    {
      "cell_type": "code",
      "execution_count": null,
      "metadata": {
        "id": "kT4TExNh9sDo"
      },
      "outputs": [],
      "source": [
        "Image('codigo.png', width=300, height=300)"
      ]
    },
    {
      "cell_type": "markdown",
      "metadata": {
        "id": "bqRXIAEO9sDo"
      },
      "source": [
        "#### **Uso avanzado**: diferentes estilos de dibujo para el código QR"
      ]
    },
    {
      "cell_type": "markdown",
      "metadata": {
        "id": "8uhx4-Ft9sDo"
      },
      "source": [
        "##### Usando colores diferentes\n",
        "\n",
        "Crearemos un objeto de la clase QRCode para definir sus propiedades básicas."
      ]
    },
    {
      "cell_type": "code",
      "execution_count": null,
      "metadata": {
        "id": "VWTM7bco9sDp"
      },
      "outputs": [],
      "source": [
        "qr = qrcode.QRCode(\n",
        "    version=1,\n",
        "    error_correction=qrcode.constants.ERROR_CORRECT_L,\n",
        "    box_size=10,  #controla cuántos píxeles tiene cada \"caja\" del código QR.\n",
        "    border=4,\n",
        ")"
      ]
    },
    {
      "cell_type": "markdown",
      "metadata": {
        "id": "9de6cEse9sDp"
      },
      "source": [
        "El parámetro ***version*** es un número entero de 1 a 40 que controla el tamaño del código QR (el más pequeño, version = 1, es una matriz de 21x21). Ajústelo a `None` y utilice el parámetro `fit` al crear el código para determinarlo automáticamente.\n",
        "\n",
        "El parámetro ***box_size*** controla cuántos píxeles tiene cada \"casilla\" del código QR.\n",
        "\n",
        "El parámetro ***border*** controla cuántas casillas de grosor debe tener el borde (el valor por defecto es 4, que es el mínimo según las especificaciones)."
      ]
    },
    {
      "cell_type": "markdown",
      "metadata": {
        "id": "moHgnMx49sDp"
      },
      "source": [
        "Agregamos la información que va a contener el código QR:"
      ]
    },
    {
      "cell_type": "code",
      "execution_count": null,
      "metadata": {
        "id": "-l3dwFoi9sDp"
      },
      "outputs": [],
      "source": [
        "vinculo = \"https://www.kaggle.com/learn\"\n",
        "qr.add_data(vinculo)\n",
        "qr.make(fit=True)\n",
        "img = qr.make_image(fill_color=\"DarkGoldenRod\", back_color=\"white\")"
      ]
    },
    {
      "cell_type": "markdown",
      "metadata": {
        "id": "4iu8bGkJ9sDp"
      },
      "source": [
        "`fill_color` y `back_color` pueden cambiar el fondo y el color de frente del QR, cuando se utiliza la fábrica de imágenes por defecto. Ambos parámetros aceptan tuplas de color RGB."
      ]
    },
    {
      "cell_type": "code",
      "execution_count": null,
      "metadata": {
        "id": "0cVCZzf99sDq"
      },
      "outputs": [],
      "source": [
        "img.save('kaggle_color.png')"
      ]
    },
    {
      "cell_type": "code",
      "execution_count": null,
      "metadata": {
        "id": "sQmCQ5DA9sDq"
      },
      "outputs": [],
      "source": [
        "Image('kaggle_color.png', width=300, height=300)"
      ]
    },
    {
      "cell_type": "markdown",
      "source": [
        "# Generación de audio"
      ],
      "metadata": {
        "id": "jWTSF9pcBNdc"
      }
    },
    {
      "cell_type": "code",
      "source": [
        "!pip install gTTs"
      ],
      "metadata": {
        "id": "Y4TVmzM7BRdl",
        "outputId": "f18e4ff9-ec12-45a6-dfa0-fd8e473594c2",
        "colab": {
          "base_uri": "https://localhost:8080/"
        }
      },
      "execution_count": null,
      "outputs": [
        {
          "output_type": "stream",
          "name": "stdout",
          "text": [
            "Collecting gTTs\n",
            "  Downloading gTTS-2.5.0-py3-none-any.whl (29 kB)\n",
            "Requirement already satisfied: requests<3,>=2.27 in /usr/local/lib/python3.10/dist-packages (from gTTs) (2.31.0)\n",
            "Requirement already satisfied: click<8.2,>=7.1 in /usr/local/lib/python3.10/dist-packages (from gTTs) (8.1.7)\n",
            "Requirement already satisfied: charset-normalizer<4,>=2 in /usr/local/lib/python3.10/dist-packages (from requests<3,>=2.27->gTTs) (3.3.2)\n",
            "Requirement already satisfied: idna<4,>=2.5 in /usr/local/lib/python3.10/dist-packages (from requests<3,>=2.27->gTTs) (3.6)\n",
            "Requirement already satisfied: urllib3<3,>=1.21.1 in /usr/local/lib/python3.10/dist-packages (from requests<3,>=2.27->gTTs) (2.0.7)\n",
            "Requirement already satisfied: certifi>=2017.4.17 in /usr/local/lib/python3.10/dist-packages (from requests<3,>=2.27->gTTs) (2023.11.17)\n",
            "Installing collected packages: gTTs\n",
            "Successfully installed gTTs-2.5.0\n"
          ]
        }
      ]
    },
    {
      "cell_type": "code",
      "source": [
        "from gtts import gTTS\n",
        "from IPython.display import Audio"
      ],
      "metadata": {
        "id": "jYdF_JeUBcjE"
      },
      "execution_count": null,
      "outputs": []
    },
    {
      "cell_type": "code",
      "source": [
        "def text2speech(texto, lang, accent, nombre_archivo=\"audio.mp3\"):\n",
        "  tts = gTTS(text=texto, lang=lang, tld=accent)\n",
        "  tts.save(nombre_archivo)"
      ],
      "metadata": {
        "id": "Qh7KdWHsBwmz"
      },
      "execution_count": null,
      "outputs": []
    },
    {
      "cell_type": "code",
      "source": [
        "text2speech(\"la imaginación es más importante que el conocimiento\",'es','com.mx')\n",
        "Audio(\"audio.mp3\", autoplay=True)"
      ],
      "metadata": {
        "id": "WSQgbm0BCTeF"
      },
      "execution_count": null,
      "outputs": []
    }
  ],
  "metadata": {
    "kernelspec": {
      "display_name": "Python 3",
      "language": "python",
      "name": "python3"
    },
    "language_info": {
      "codemirror_mode": {
        "name": "ipython",
        "version": 3
      },
      "file_extension": ".py",
      "mimetype": "text/x-python",
      "name": "python",
      "nbconvert_exporter": "python",
      "pygments_lexer": "ipython3",
      "version": "3.10.13"
    },
    "colab": {
      "provenance": []
    }
  },
  "nbformat": 4,
  "nbformat_minor": 0
}